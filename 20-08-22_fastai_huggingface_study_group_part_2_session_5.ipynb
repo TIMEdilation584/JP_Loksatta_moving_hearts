{
  "nbformat": 4,
  "nbformat_minor": 0,
  "metadata": {
    "colab": {
      "name": "Copy of fastai-huggingface-study-group-part-2-session-5.ipynb",
      "provenance": [],
      "collapsed_sections": [],
      "include_colab_link": true
    },
    "kernelspec": {
      "name": "python3",
      "display_name": "Python 3"
    },
    "language_info": {
      "name": "python"
    },
    "accelerator": "GPU"
  },
  "cells": [
    {
      "cell_type": "markdown",
      "metadata": {
        "id": "view-in-github",
        "colab_type": "text"
      },
      "source": [
        "<a href=\"https://colab.research.google.com/github/TIMEdilation584/JP_Loksatta_moving_hearts/blob/master/20-08-22_fastai_huggingface_study_group_part_2_session_5.ipynb\" target=\"_parent\"><img src=\"https://colab.research.google.com/assets/colab-badge.svg\" alt=\"Open In Colab\"/></a>"
      ]
    },
    {
      "cell_type": "code",
      "execution_count": null,
      "metadata": {
        "id": "PvpgEHZtGa2P"
      },
      "outputs": [],
      "source": [
        "! pip install datasets -Uqq\n",
        "! pip install transformers[sentencepiece] -Uqq\n",
        "! pip install git+https://github.com/ohmeow/blurr.git@dev-2.0.0 -Uqq\n",
        "! pip install bert_score -Uqq\n",
        "! import nltk -Uqq"
      ]
    },
    {
      "cell_type": "code",
      "source": [
        "from blurr.data.all import *\n",
        "from blurr.modeling.all import *\n",
        "from datasets import load_dataset\n",
        "from fastai.data.all import *\n",
        "from fastai.callback.all import *\n",
        "from fastai.learner import *\n",
        "from fastai.optimizer import *\n",
        "from transformers import *\n",
        "\n",
        "import nltk\n",
        "nltk.download('punkt', quiet=True)\n"
      ],
      "metadata": {
        "id": "RMpclJn5G8XU"
      },
      "execution_count": null,
      "outputs": []
    },
    {
      "cell_type": "markdown",
      "source": [
        "## 01. Get a dataset"
      ],
      "metadata": {
        "id": "0bMLcjGkNdxT"
      }
    },
    {
      "cell_type": "code",
      "source": [
        "dataset = load_dataset(\"ccdv/cnn_dailymail\", \"3.0.0\", split=\"train[:1000]\")\n",
        "cnndm_df = pd.DataFrame(dataset)\n",
        "cnndm_df.head(2)"
      ],
      "metadata": {
        "id": "c1hsiDEDNfkx"
      },
      "execution_count": null,
      "outputs": []
    },
    {
      "cell_type": "markdown",
      "source": [
        "## 02. Get your Hugging Face objects"
      ],
      "metadata": {
        "id": "EJPCStFk6T49"
      }
    },
    {
      "cell_type": "code",
      "source": [
        "pretrained_model_name = \"sshleifer/distilbart-cnn-6-6\"\n",
        "hf_arch, hf_config, hf_tokenizer, hf_model = BLURR.get_hf_objects(pretrained_model_name, model_cls=BartForConditionalGeneration)\n",
        "\n",
        "hf_arch, type(hf_config), type(hf_tokenizer), type(hf_model)"
      ],
      "metadata": {
        "id": "slxVP8h_6YGY"
      },
      "execution_count": null,
      "outputs": []
    },
    {
      "cell_type": "markdown",
      "source": [
        "## 03. Preprocess the raw data (optional)"
      ],
      "metadata": {
        "id": "g71gV3eC6gH1"
      }
    },
    {
      "cell_type": "code",
      "source": [
        "preprocessor = SummarizationPreprocessor(\n",
        "    hf_tokenizer,\n",
        "    id_attr=\"id\",\n",
        "    text_attr=\"article\",\n",
        "    target_text_attr=\"highlights\",\n",
        "    max_input_tok_length=256,\n",
        "    max_target_tok_length=130,\n",
        "    min_summary_char_length=30,\n",
        ")\n",
        "proc_df = preprocessor.process_df(cnndm_df)\n",
        "proc_df.head(2)"
      ],
      "metadata": {
        "id": "7RbXgVQrNfhT"
      },
      "execution_count": null,
      "outputs": []
    },
    {
      "cell_type": "markdown",
      "source": [
        "## 04. Define our DataBlock"
      ],
      "metadata": {
        "id": "0u9Mh1Bx6nkQ"
      }
    },
    {
      "cell_type": "code",
      "source": [
        "Seq2SeqBatchTokenizeTransform??"
      ],
      "metadata": {
        "id": "yPrFjj3NSN5T"
      },
      "execution_count": null,
      "outputs": []
    },
    {
      "cell_type": "code",
      "source": [
        "hf_config"
      ],
      "metadata": {
        "id": "FbEskJAt8C71"
      },
      "execution_count": null,
      "outputs": []
    },
    {
      "cell_type": "code",
      "source": [
        "text_gen_kwargs = default_text_gen_kwargs(hf_config, hf_model, task=\"summarization\")\n",
        "text_gen_kwargs"
      ],
      "metadata": {
        "id": "G94n1jLp7EPV"
      },
      "execution_count": null,
      "outputs": []
    },
    {
      "cell_type": "code",
      "source": [
        "batch_tokenize_tfm = Seq2SeqBatchTokenizeTransform(\n",
        "    hf_arch, hf_config, hf_tokenizer, hf_model, text_gen_kwargs=text_gen_kwargs\n",
        ")\n",
        "\n",
        "blocks = (Seq2SeqTextBlock(batch_tokenize_tfm=batch_tokenize_tfm), noop)\n",
        "dblock = DataBlock(blocks=blocks, get_x=ColReader(\"proc_article\"), get_y=ColReader(\"proc_highlights\"), splitter=RandomSplitter())"
      ],
      "metadata": {
        "id": "G1RgR_ws9PRw"
      },
      "execution_count": null,
      "outputs": []
    },
    {
      "cell_type": "code",
      "source": [
        "dls = dblock.dataloaders(proc_df, bs=2)"
      ],
      "metadata": {
        "id": "lR3BwjnX9r0k"
      },
      "execution_count": null,
      "outputs": []
    },
    {
      "cell_type": "code",
      "source": [
        "b = dls.one_batch()\n",
        "len(b), b[0][\"input_ids\"].shape, b[1].shape"
      ],
      "metadata": {
        "colab": {
          "base_uri": "https://localhost:8080/"
        },
        "id": "ubkBhArm9v1u",
        "outputId": "add01fc8-a153-44c1-85ac-857aeab7104d"
      },
      "execution_count": null,
      "outputs": [
        {
          "output_type": "execute_result",
          "data": {
            "text/plain": [
              "(2, torch.Size([2, 257]), torch.Size([2, 49]))"
            ]
          },
          "metadata": {},
          "execution_count": 10
        }
      ]
    },
    {
      "cell_type": "code",
      "source": [
        "dls.show_batch(dataloaders=dls, max_n=2, input_trunc_at=500, target_trunc_at=250)"
      ],
      "metadata": {
        "id": "_9oaO9Tw9xqW"
      },
      "execution_count": null,
      "outputs": []
    },
    {
      "cell_type": "markdown",
      "source": [
        "## 05. Define our Learner and metrics"
      ],
      "metadata": {
        "id": "h3Bng_4j9CmC"
      }
    },
    {
      "cell_type": "code",
      "source": [
        "summarization_metrics = {\n",
        "    \"rouge\": {\n",
        "        \"compute_kwargs\": {\"rouge_types\": [\"rouge1\", \"rouge2\", \"rougeL\", \"rougeLsum\"], \"use_stemmer\": True},\n",
        "        \"returns\": [\"rouge1\", \"rouge2\", \"rougeL\", \"rougeLsum\"],\n",
        "    },\n",
        "    \"bertscore\": {\"compute_kwargs\": {\"lang\": \"en\"}, \"returns\": [\"precision\", \"recall\", \"f1\"]},\n",
        "}\n",
        "\n",
        "translation_metrics = {\"bleu\": {\"returns\": \"bleu\"}, \"meteor\": {\"returns\": \"meteor\"}, \"sacrebleu\": {\"returns\": \"score\"}}"
      ],
      "metadata": {
        "id": "E66gVHXtNfd9"
      },
      "execution_count": null,
      "outputs": []
    },
    {
      "cell_type": "code",
      "source": [
        "model = BaseModelWrapper(hf_model)\n",
        "learn_cbs = [BaseModelCallback]\n",
        "\n",
        "# calc_very options: 'epoch', 'other_epoch', 'last_eopch'\n",
        "fit_cbs = [Seq2SeqMetricsCallback(custom_metrics=summarization_metrics, calc_every=\"last_epoch\")] \n",
        "\n",
        "learn = Learner(\n",
        "    dls,\n",
        "    model,\n",
        "    opt_func=partial(Adam),\n",
        "    loss_func=PreCalculatedCrossEntropyLoss(),\n",
        "    cbs=learn_cbs,\n",
        "    splitter=partial(blurr_seq2seq_splitter, arch=hf_arch),\n",
        ")\n",
        "\n",
        "learn = learn.to_fp16()\n",
        "learn.freeze()"
      ],
      "metadata": {
        "id": "gKZ_9t5GQDVX"
      },
      "execution_count": null,
      "outputs": []
    },
    {
      "cell_type": "code",
      "source": [
        "b = dls.one_batch()\n",
        "preds = learn.model(b[0])"
      ],
      "metadata": {
        "id": "qrQijnvpNfa8"
      },
      "execution_count": null,
      "outputs": []
    },
    {
      "cell_type": "code",
      "source": [
        "preds"
      ],
      "metadata": {
        "id": "Ybx8NOgC_1Gq"
      },
      "execution_count": null,
      "outputs": []
    },
    {
      "cell_type": "code",
      "source": [
        "len(preds), preds[\"loss\"].shape, preds[\"logits\"].shape"
      ],
      "metadata": {
        "id": "B05-gtGJALzq"
      },
      "execution_count": null,
      "outputs": []
    },
    {
      "cell_type": "code",
      "source": [
        "print(len(learn.opt.param_groups))"
      ],
      "metadata": {
        "id": "_NMTwupxAPmQ"
      },
      "execution_count": null,
      "outputs": []
    },
    {
      "cell_type": "markdown",
      "source": [
        "## 06. Train"
      ],
      "metadata": {
        "id": "rIdWzJyRBR6M"
      }
    },
    {
      "cell_type": "code",
      "source": [
        "learn.lr_find(suggest_funcs=[minimum, steep, valley, slide])"
      ],
      "metadata": {
        "id": "cfHD-AXOAXhj"
      },
      "execution_count": null,
      "outputs": []
    },
    {
      "cell_type": "code",
      "source": [
        "learn.fit_one_cycle(1, lr_max=4e-5, cbs=fit_cbs)"
      ],
      "metadata": {
        "id": "nDbSfvtXAyr8"
      },
      "execution_count": null,
      "outputs": []
    },
    {
      "cell_type": "code",
      "source": [
        "learn.show_results(learner=learn, input_trunc_at=500, target_trunc_at=250)\n"
      ],
      "metadata": {
        "id": "Ki5rpCZoA6jJ"
      },
      "execution_count": null,
      "outputs": []
    },
    {
      "cell_type": "markdown",
      "source": [
        "## Inference"
      ],
      "metadata": {
        "id": "j39WiwZzBKL0"
      }
    },
    {
      "cell_type": "code",
      "source": [
        "learn.metrics = None\n",
        "learn = learn.to_fp32()\n",
        "learn.export(fname=\"article_summary_export.pkl\")\n"
      ],
      "metadata": {
        "id": "yZHakqdQB1Ya"
      },
      "execution_count": null,
      "outputs": []
    },
    {
      "cell_type": "code",
      "source": [
        "test_article = cnndm_df.iloc[10].article\n",
        "test_article"
      ],
      "metadata": {
        "id": "G3K_XJ2eCF8P"
      },
      "execution_count": null,
      "outputs": []
    },
    {
      "cell_type": "code",
      "source": [
        "inf_learn = load_learner(fname=\"article_summary_export.pkl\")\n",
        "inf_learn.blurr_summarize(test_article)"
      ],
      "metadata": {
        "id": "1lqVI8COB92v"
      },
      "execution_count": null,
      "outputs": []
    },
    {
      "cell_type": "code",
      "source": [
        ""
      ],
      "metadata": {
        "id": "rZw-um4rfXnD"
      },
      "execution_count": null,
      "outputs": []
    }
  ]
}