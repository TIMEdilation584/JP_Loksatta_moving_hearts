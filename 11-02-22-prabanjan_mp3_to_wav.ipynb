{
  "cells": [
    {
      "cell_type": "markdown",
      "metadata": {
        "id": "view-in-github",
        "colab_type": "text"
      },
      "source": [
        "<a href=\"https://colab.research.google.com/github/TIMEdilation584/JP_Loksatta_moving_hearts/blob/master/11-02-22-prabanjan_mp3_to_wav.ipynb\" target=\"_parent\"><img src=\"https://colab.research.google.com/assets/colab-badge.svg\" alt=\"Open In Colab\"/></a>"
      ]
    },
    {
      "cell_type": "code",
      "execution_count": null,
      "id": "de1022fb",
      "metadata": {
        "id": "de1022fb"
      },
      "outputs": [],
      "source": [
        "import os\n",
        "import matplotlib.pyplot as plt\n",
        "\n",
        "#for loading and visualizing audio files\n",
        "import librosa\n",
        "import librosa.display\n",
        "\n",
        "#to play audio\n",
        "import IPython.display as ipd\n",
        "\n",
        "\n",
        "#audio_fpath = \"../input/audio/audio/\"\n",
        "\n",
        "audio_fpath = \"/Users/SPK/Pictures/Untitled Folder/audio/PALwav1a/\"\n",
        "audio_clips = os.listdir(audio_fpath)\n",
        "print(\"No. of .wav files in audio folder = \",len(audio_clips))\n",
        "#audio_clips = os.listdir(audio_fpath)\n",
        "#print(\"No. of .wav files in audio folder = \",len(audio_clips))"
      ]
    },
    {
      "cell_type": "code",
      "execution_count": null,
      "id": "f642540f",
      "metadata": {
        "id": "f642540f"
      },
      "outputs": [],
      "source": [
        "#x, sr = librosa.load(audio_fpath+audio_clips[2], sr=44100)\n",
        "\n",
        "path = \"/Users/SPK/Pictures/Untitled Folder/audio/PALwav1a/\"\n",
        "for root, dirs, files in walk (path):\n",
        "    print(\"folder :\", dirs)\n",
        "    print(\"\\n\")\n",
        "    print(\"file : \\n\", files)\n",
        "    print(\"\\n\")\n"
      ]
    },
    {
      "cell_type": "code",
      "source": [
        "!pip install pydub"
      ],
      "metadata": {
        "id": "l96OtIzeo_5l"
      },
      "id": "l96OtIzeo_5l",
      "execution_count": null,
      "outputs": []
    },
    {
      "cell_type": "code",
      "source": [
        "from google.colab import files"
      ],
      "metadata": {
        "id": "bKScMdFZsexe"
      },
      "id": "bKScMdFZsexe",
      "execution_count": 13,
      "outputs": []
    },
    {
      "cell_type": "code",
      "source": [
        "import os\n",
        "from pydub import AudioSegment\n",
        "\n",
        "path = \"/content/drive/MyDrive/Hnsa_Dataset\"\n",
        "\n",
        "#Change working directory\n",
        "os.chdir(path)\n",
        "\n",
        "audio_files = os.listdir()\n",
        "\n",
        "# You dont need the number of files in the folder, just iterate over them directly using:\n",
        "for file in audio_files:\n",
        "    #spliting the file into the name and the extension\n",
        "    name, ext = os.path.splitext(file)\n",
        "    if ext == \".mp3\":\n",
        "       mp3_sound = AudioSegment.from_mp3(file)\n",
        "       #rename them using the old name + \".wav\"\n",
        "       mp3_sound.export(\"{0}.wav\".format(name), format=\"wav\")\n",
        "     #  files.download( \"\" )   "
      ],
      "metadata": {
        "id": "m_DO675Bo_8c"
      },
      "id": "m_DO675Bo_8c",
      "execution_count": 12,
      "outputs": []
    },
    {
      "cell_type": "code",
      "source": [
        "Folder_Path = \"/content/drive/MyDrive/Hnsa_Dataset/\""
      ],
      "metadata": {
        "id": "18KRVrmstHKP"
      },
      "id": "18KRVrmstHKP",
      "execution_count": null,
      "outputs": []
    },
    {
      "cell_type": "markdown",
      "source": [
        "For convertion to wav."
      ],
      "metadata": {
        "id": "UyFVNIxltcYv"
      },
      "id": "UyFVNIxltcYv"
    },
    {
      "cell_type": "code",
      "source": [
        " for path, subdirs, files in os.walk(Folder_Path):\n",
        "    for file_ in files:\n",
        "        path_to_audio = path+file_\n",
        "        file_name = file_.split(\".\")[0]\n",
        "        a = file_name.split(\".\")[0]\n",
        "        \n",
        "        #load audio file\n",
        "        audioIn, sample_rate = librosa.load(path_to_audio)\n",
        "        #save spetrograms    \n",
        "        spec = librosa.stft(audioIn)                    # Get spectrogram using Librosa's Short-Time Fourier Transform (stft)\n",
        "        spec_db = librosa.amplitude_to_db(abs(spec))  # Decibels\n",
        "        #plt.colorbar()\n",
        "        plt.figure(dpi=(100))\n",
        "        librosa.display.specshow(spec_db, sr=sample_rate)    #x_axis='time', y_axis='frequency' \n",
        "        plt.axis('off')\n",
        "        plt.savefig(\"OriAudio2imgs/ImgOriSpec/Torpedo/\"+a+\"_spec.wav\", bbox_inches = 'tight', pad_inches = 0)\n",
        "        plt.close()\n",
        "        \n",
        "        "
      ],
      "metadata": {
        "id": "UIIbNiEGtcln"
      },
      "id": "UIIbNiEGtcln",
      "execution_count": null,
      "outputs": []
    },
    {
      "cell_type": "code",
      "source": [
        "!pip install wavio"
      ],
      "metadata": {
        "colab": {
          "base_uri": "https://localhost:8080/"
        },
        "id": "EFitNtveyspB",
        "outputId": "2cda4049-d31f-48f3-a04a-8db1945d34d1"
      },
      "id": "EFitNtveyspB",
      "execution_count": 19,
      "outputs": [
        {
          "output_type": "stream",
          "name": "stdout",
          "text": [
            "Looking in indexes: https://pypi.org/simple, https://us-python.pkg.dev/colab-wheels/public/simple/\n",
            "Collecting wavio\n",
            "  Downloading wavio-0.0.4-py2.py3-none-any.whl (9.0 kB)\n",
            "Requirement already satisfied: numpy>=1.6.0 in /usr/local/lib/python3.7/dist-packages (from wavio) (1.21.6)\n",
            "Installing collected packages: wavio\n",
            "Successfully installed wavio-0.0.4\n"
          ]
        }
      ]
    },
    {
      "cell_type": "code",
      "source": [
        "# import required libraries\n",
        "#import sounddevice as sd\n",
        "from scipy.io.wavfile import write\n",
        "import wavio as wv\n",
        "import os\n",
        "from pydub import AudioSegment\n",
        "\n",
        "ion = 60\n",
        "\n",
        "from pydub import AudioSegment\n",
        "\n",
        "path = \"/content/drive/MyDrive/Hnsa_Dataset/Tug\"\n",
        "\n",
        "#Change working directory\n",
        "os.chdir(path)\n",
        "\n",
        "audio_files = os.listdir()\n",
        "\n",
        "# You dont need the number of files in the folder, just iterate over them directly using:\n",
        "for file in audio_files:\n",
        "    #spliting the file into the name and the extension\n",
        "    name, ext = os.path.splitext(file)\n",
        "    if ext == \".mp3\":\n",
        "       mp3_sound = AudioSegment.from_mp3(file)\n",
        "       #rename them using the old name + \".wav\"\n",
        "       mp3_sound.export(\"{0}.wav\".format(name), format=\"wav\")\n",
        "     #  wv.write(os.path.join(path, sound_name))\n",
        "     #  files.download( \"\" )   \n",
        "\n",
        "\n",
        "#while True:\n",
        "    #user = str(input(\"Do you want to record a female [f] or male [m] voice or exit[e]? \"))\n",
        "    #if user.lower() == 'm':\n",
        "\n",
        "       # path = r\"/content/drive/MyDrive/Hnsa_Dataset/\"\n",
        "       # male = str(input(\"Are you recording your son[s], brother[b], uncle[u], father[f], nephew[n], male cousin[mc], or other[o]? \"))\n",
        "        #recording = sd.rec(int(duration * freq), samplerate=freq, channels=2)\n",
        "       # sd.wait(60)\n",
        "        ##wv.write(os.path.join(path, sound_name), recording, freq, sampwidth=2)\n",
        "        \n",
        "   # elif user.lower() == 'f':\n",
        "\n",
        "       \n"
      ],
      "metadata": {
        "id": "EPmBb7JUystQ"
      },
      "id": "EPmBb7JUystQ",
      "execution_count": 34,
      "outputs": []
    },
    {
      "cell_type": "code",
      "source": [
        ""
      ],
      "metadata": {
        "id": "0EN-YWBtz0r5"
      },
      "id": "0EN-YWBtz0r5",
      "execution_count": null,
      "outputs": []
    }
  ],
  "metadata": {
    "kernelspec": {
      "display_name": "Python 3 (ipykernel)",
      "language": "python",
      "name": "python3"
    },
    "language_info": {
      "codemirror_mode": {
        "name": "ipython",
        "version": 3
      },
      "file_extension": ".py",
      "mimetype": "text/x-python",
      "name": "python",
      "nbconvert_exporter": "python",
      "pygments_lexer": "ipython3",
      "version": "3.9.12"
    },
    "colab": {
      "name": "prabanjan mp3 to wav.ipynb",
      "provenance": [],
      "include_colab_link": true
    }
  },
  "nbformat": 4,
  "nbformat_minor": 5
}