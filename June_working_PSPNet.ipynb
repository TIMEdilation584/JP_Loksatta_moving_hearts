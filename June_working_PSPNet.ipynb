{
  "nbformat": 4,
  "nbformat_minor": 0,
  "metadata": {
    "accelerator": "GPU",
    "colab": {
      "name": "PSPNet.ipynb",
      "provenance": [],
      "collapsed_sections": [],
      "machine_shape": "hm",
      "include_colab_link": true
    },
    "kernelspec": {
      "display_name": "Python 3",
      "language": "python",
      "name": "python3"
    },
    "language_info": {
      "codemirror_mode": {
        "name": "ipython",
        "version": 3
      },
      "file_extension": ".py",
      "mimetype": "text/x-python",
      "name": "python",
      "nbconvert_exporter": "python",
      "pygments_lexer": "ipython3",
      "version": "3.7.4"
    }
  },
  "cells": [
    {
      "cell_type": "markdown",
      "metadata": {
        "id": "view-in-github",
        "colab_type": "text"
      },
      "source": [
        "<a href=\"https://colab.research.google.com/github/TIMEdilation584/JP_Loksatta_moving_hearts/blob/master/June_working_PSPNet.ipynb\" target=\"_parent\"><img src=\"https://colab.research.google.com/assets/colab-badge.svg\" alt=\"Open In Colab\"/></a>"
      ]
    },
    {
      "cell_type": "code",
      "metadata": {
        "id": "05KTXP7XoABy"
      },
      "source": [
        "%tensorflow_version 2.x"
      ],
      "execution_count": null,
      "outputs": []
    },
    {
      "cell_type": "code",
      "metadata": {
        "colab": {
          "base_uri": "https://localhost:8080/"
        },
        "id": "Stpqi6N6oC4Q",
        "outputId": "931cf271-84c0-454f-8655-3b1a856b6f87"
      },
      "source": [
        "from google.colab import drive\n",
        "drive.mount('/content/drive')"
      ],
      "execution_count": null,
      "outputs": [
        {
          "output_type": "stream",
          "text": [
            "Mounted at /content/drive\n"
          ],
          "name": "stdout"
        }
      ]
    },
    {
      "cell_type": "code",
      "metadata": {
        "colab": {
          "base_uri": "https://localhost:8080/"
        },
        "id": "ztrS-_z9nr42",
        "outputId": "df9c8120-7c4a-4228-872c-4f802637680d"
      },
      "source": [
        "import os\n",
        "import cv2\n",
        "from imutils import paths\n",
        "from tqdm import tqdm\n",
        "import numpy as np\n",
        "from glob import glob\n",
        "import matplotlib.pyplot as plt\n",
        "%matplotlib inline\n",
        "import tensorflow as tf\n",
        "import datetime\n",
        "from glob import glob\n",
        "import IPython.display as display\n",
        "from IPython.display import clear_output\n",
        "import math\n",
        "import time\n",
        "from tensorflow.keras.layers import *\n",
        "import warnings\n",
        "warnings.filterwarnings('ignore')\n",
        "# For more information about autotune:\n",
        "# https://www.tensorflow.org/guide/data_performance#prefetching\n",
        "AUTOTUNE = tf.data.experimental.AUTOTUNE\n",
        "print(f'Tensorflow ver. {tf.__version__}')"
      ],
      "execution_count": null,
      "outputs": [
        {
          "output_type": "stream",
          "text": [
            "Tensorflow ver. 2.5.0\n"
          ],
          "name": "stdout"
        }
      ]
    },
    {
      "cell_type": "markdown",
      "metadata": {
        "id": "dlQWmSTdnr48"
      },
      "source": [
        "## Loading the Dataset "
      ]
    },
    {
      "cell_type": "code",
      "metadata": {
        "id": "MsHopd_8nr49"
      },
      "source": [
        "# important for reproducibility\n",
        "# this allows to generate the same random numbers\n",
        "SEED = 42\n",
        "\n",
        "# Dataset path\n",
        "dataset_path = 'drive/My Drive/idd-lite/idd20k_lite/'\n",
        "img_train = dataset_path + 'leftImg8bit/train/'\n",
        "seg_train = dataset_path + 'gtFine/train/'\n",
        "\n",
        "img_val = dataset_path + 'leftImg8bit/val/'\n",
        "seg_val = dataset_path + 'gtFine/val/'"
      ],
      "execution_count": null,
      "outputs": []
    },
    {
      "cell_type": "markdown",
      "metadata": {
        "id": "fJXKKV05nr5i"
      },
      "source": [
        "## Data Preparation "
      ]
    },
    {
      "cell_type": "code",
      "metadata": {
        "id": "0bp5XLcYnr5k"
      },
      "source": [
        "# Image size that we are going to use\n",
        "(HEIGHT,WIDTH) = (128,128)\n",
        "# Our images are RGB (3 channels)\n",
        "N_CHANNELS = 3\n",
        "# Scene Parsing has 7 classes (0-6) + `not labeled`\n",
        "N_CLASSES = 8"
      ],
      "execution_count": null,
      "outputs": []
    },
    {
      "cell_type": "code",
      "metadata": {
        "colab": {
          "base_uri": "https://localhost:8080/"
        },
        "id": "a8_AtJ8Bnr5m",
        "outputId": "e1b3f5f1-4e95-4e68-ae2f-1a98cc722293"
      },
      "source": [
        "# Reference -> https://docs.python.org/2/library/glob.html\n",
        "# The glob module finds all the pathnames matching a specified pattern according to the rules used by the Unix shell, \n",
        "# although results are returned in arbitrary order. \n",
        "\n",
        "TRAINSET_SIZE = len(glob(img_train+'*/*_image.jpg'))\n",
        "print(f\"The Training Dataset contains {TRAINSET_SIZE} images.\")\n",
        "\n",
        "VALSET_SIZE = len(glob(img_val+'*/*_image.jpg'))\n",
        "print(f\"The Validation Dataset contains {VALSET_SIZE} images.\")"
      ],
      "execution_count": null,
      "outputs": [
        {
          "output_type": "stream",
          "text": [
            "The Training Dataset contains 1403 images.\n",
            "The Validation Dataset contains 204 images.\n"
          ],
          "name": "stdout"
        }
      ]
    },
    {
      "cell_type": "code",
      "metadata": {
        "id": "1ksntANjnr5p"
      },
      "source": [
        "def parse_image(img_path):\n",
        "    \"\"\"\n",
        "    Load an image and its annotation (mask) and returning a dictionary.\n",
        "    \"\"\"\n",
        "    # Reading the image\n",
        "    image = tf.io.read_file(img_path)\n",
        "    image = tf.image.decode_jpeg(image, channels=3)\n",
        "    # For one Image path:\n",
        "    # .../idd20k_lite/leftImg8bit/train/024541_image.jpg\n",
        "    # Its corresponding annotation path is:\n",
        "    # .../idd20k_lite/gtFine/train/024541_label.png\n",
        "    mask_path = tf.strings.regex_replace(img_path, \"leftImg8bit\", \"gtFine\")\n",
        "    mask_path = tf.strings.regex_replace(mask_path, \"_image.jpg\", \"_label.png\")\n",
        "    # Reading the annotation file corresponding the image file\n",
        "    mask = tf.io.read_file(mask_path)\n",
        "    mask = tf.image.decode_png(mask, channels=1)\n",
        "    # In scene parsing, \"not labeled\" = 255\n",
        "    # But it will mess with our N_CLASS = 7\n",
        "    # Since 255 means the 255th class\n",
        "    # Which doesn't exist\n",
        "    mask = tf.where(mask==255, np.dtype('uint8').type(7), mask)\n",
        "    # Note that we have to convert the new value (7)\n",
        "    # With the same dtype than the tensor itself\n",
        "    return {'image': image, 'segmentation_mask': mask}"
      ],
      "execution_count": null,
      "outputs": []
    },
    {
      "cell_type": "code",
      "metadata": {
        "id": "sIxF4YUanr5s"
      },
      "source": [
        "# Reference -> https://www.tensorflow.org/api_docs/python/tf/data/Dataset#list_files\n",
        "# tf.data.Dataset.list_files returns a dataset of all files matching one or more glob patterns.\n",
        "\n",
        "train_dataset = tf.data.Dataset.list_files(img_train+'*/*_image.jpg', seed=SEED)\n",
        "train_dataset = train_dataset.map(parse_image)\n",
        "\n",
        "val_dataset = tf.data.Dataset.list_files(img_val+'*/*_image.jpg', seed=SEED)\n",
        "val_dataset =val_dataset.map(parse_image)"
      ],
      "execution_count": null,
      "outputs": []
    },
    {
      "cell_type": "code",
      "metadata": {
        "id": "HRpudDSOnr5v"
      },
      "source": [
        "# Reference -> https://www.tensorflow.org/api_docs/python/tf/cast\n",
        "# Returns a Tensor same shape as given tensor and same type as dtype that is mentioned.\n",
        "\n",
        "def normalize(input_image, input_mask):\n",
        "    \"\"\"\n",
        "    Rescale the pixel values of the images between 0 and 1 compared to [0,255] originally.\n",
        "    \"\"\"\n",
        "    input_image = tf.cast(input_image, tf.float32) / 255.0\n",
        "    return input_image, input_mask"
      ],
      "execution_count": null,
      "outputs": []
    },
    {
      "cell_type": "code",
      "metadata": {
        "id": "kZ1AAuYlnr5x"
      },
      "source": [
        "# Reference -> https://www.tensorflow.org/api_docs/python/tf/image/resize\n",
        "# Resize images to the size specified\n",
        "\n",
        "def load_image_train(datapoint):\n",
        "    \"\"\"\n",
        "    Normalize and resize a train image and its annotation.\n",
        "    Apply random transformations to an input dictionary containing a train image and its annotation.\n",
        "    \"\"\"\n",
        "    input_image = tf.image.resize(datapoint['image'], (HEIGHT,WIDTH))\n",
        "    input_mask = tf.image.resize(datapoint['segmentation_mask'], (HEIGHT,WIDTH))\n",
        "    if tf.random.uniform(()) > 0.5:\n",
        "        input_image = tf.image.flip_left_right(input_image)\n",
        "        input_mask = tf.image.flip_left_right(input_mask)\n",
        "    input_image, input_mask = normalize(input_image, input_mask)\n",
        "    return input_image, input_mask\n",
        "\n",
        "def load_image_test(datapoint):\n",
        "    \"\"\"\n",
        "    Normalize and resize a test image and its annotation.\n",
        "    Since this is for the test set, we don't need to apply any data augmentation technique.\n",
        "    \"\"\"\n",
        "    input_image = tf.image.resize(datapoint['image'], (HEIGHT,WIDTH))\n",
        "    input_mask = tf.image.resize(datapoint['segmentation_mask'], (HEIGHT,WIDTH))\n",
        "    input_image, input_mask = normalize(input_image, input_mask)\n",
        "    return input_image, input_mask"
      ],
      "execution_count": null,
      "outputs": []
    },
    {
      "cell_type": "code",
      "metadata": {
        "id": "ZQF444Qcnr5z"
      },
      "source": [
        "BATCH_SIZE = 16\n",
        "BUFFER_SIZE = 1500\n",
        "dataset = {\"train\": train_dataset, \"val\": val_dataset}"
      ],
      "execution_count": null,
      "outputs": []
    },
    {
      "cell_type": "code",
      "metadata": {
        "colab": {
          "base_uri": "https://localhost:8080/"
        },
        "id": "C3n8IUocnr52",
        "outputId": "b6c7dfe7-5c9d-4024-c0c7-13059af69200"
      },
      "source": [
        "# Reference -> https://www.tensorflow.org/api_docs/python/tf/data/Dataset\n",
        "\n",
        "# Preparing the Train dataset by applying dataset transformations\n",
        "dataset['train'] = dataset['train'].map(load_image_train, num_parallel_calls=tf.data.experimental.AUTOTUNE)\n",
        "dataset['train'] = dataset['train'].shuffle(buffer_size=BUFFER_SIZE, seed=SEED)\n",
        "dataset['train'] = dataset['train'].repeat()\n",
        "dataset['train'] = dataset['train'].batch(BATCH_SIZE)\n",
        "dataset['train'] = dataset['train'].prefetch(buffer_size=AUTOTUNE)\n",
        "print(dataset['train'])\n",
        "\n",
        "# Preparing the Validation Dataset\n",
        "dataset['val'] = dataset['val'].map(load_image_test)\n",
        "dataset['val'] = dataset['val'].repeat()\n",
        "dataset['val'] = dataset['val'].batch(BATCH_SIZE)\n",
        "dataset['val'] = dataset['val'].prefetch(buffer_size=AUTOTUNE)\n",
        "print(dataset['val'])"
      ],
      "execution_count": null,
      "outputs": [
        {
          "output_type": "stream",
          "text": [
            "<PrefetchDataset shapes: ((None, 128, 128, 3), (None, 128, 128, 1)), types: (tf.float32, tf.float32)>\n",
            "<PrefetchDataset shapes: ((None, 128, 128, 3), (None, 128, 128, 1)), types: (tf.float32, tf.float32)>\n"
          ],
          "name": "stdout"
        }
      ]
    },
    {
      "cell_type": "markdown",
      "metadata": {
        "id": "aPzSSDp4_4Hx"
      },
      "source": [
        "# PSPNet from Scratch"
      ]
    },
    {
      "cell_type": "code",
      "metadata": {
        "id": "hDEAJfhTIPuB"
      },
      "source": [
        "# A class to get the basic convolution block \n",
        "# convolution_layer -> batch_normalization -> activation\n",
        "class BasicConvolutionBlock(tf.keras.Model):\n",
        "    \n",
        "    def __init__(self, filter_size, kernel_size, dilation_rate, alpha, block_number, initializer='he_normal'):\n",
        "        super(BasicConvolutionBlock, self).__init__()\n",
        "        self.block_number = block_number\n",
        "        self.convolution_layer = Convolution2D(filter_size, kernel_size =  kernel_size, \n",
        "                                               dilation_rate = dilation_rate, padding = 'same',\n",
        "                                               kernel_initializer = initializer)\n",
        "        self.batch_normalization = BatchNormalization()\n",
        "        self.activation = LeakyReLU(alpha = alpha)\n",
        "        \n",
        "    def call(self, inputs):\n",
        "        conv_output = self.convolution_layer(inputs)\n",
        "        norm_output = self.batch_normalization(conv_output)\n",
        "        if(self.block_number >= 3):\n",
        "            return norm_output\n",
        "        activation_output = self.activation(norm_output)  \n",
        "        return activation_output"
      ],
      "execution_count": null,
      "outputs": []
    },
    {
      "cell_type": "code",
      "metadata": {
        "id": "Ua2CSUuvIPuD"
      },
      "source": [
        "# A Building Block of Residual Network\n",
        "class ConvolutionBlock(tf.keras.Model):\n",
        "    \n",
        "    def __init__(self, filters, initializer='he_normal'):     \n",
        "        super(ConvolutionBlock, self).__init__()\n",
        "        self.filters = filters\n",
        "        self.basic_convolution_1 = BasicConvolutionBlock(self.filters[0], (1,1), (1,1), 0.2, 1)\n",
        "        self.basic_convolution_2 = BasicConvolutionBlock(self.filters[1], (3,3), (2,2), 0.2, 2)\n",
        "        self.basic_convolution_3 = BasicConvolutionBlock(self.filters[2], (1,1), (1,1), None, 3)\n",
        "        self.skip_convolution = BasicConvolutionBlock(self.filters[2], (3,3), (1,1), None, 4)\n",
        "        # Last Block\n",
        "        self.add_layer = Add()\n",
        "        self.relu_activation = ReLU()\n",
        "     \n",
        "    def call(self, inputs):\n",
        "        skip_input = inputs\n",
        "        output_conv_1 = self.basic_convolution_1(inputs)\n",
        "        output_conv_2 = self.basic_convolution_2(output_conv_1)\n",
        "        output_conv_3 = self.basic_convolution_3(output_conv_2)\n",
        "        output_skip_conv = self.skip_convolution(skip_input)\n",
        "        # Last Block\n",
        "        add_output = self.add_layer([output_conv_3,output_skip_conv])\n",
        "        output = self.relu_activation(add_output)\n",
        "        return output"
      ],
      "execution_count": null,
      "outputs": []
    },
    {
      "cell_type": "code",
      "metadata": {
        "id": "2rtNpM3_IPuE"
      },
      "source": [
        "# Encoder block for PSPNet Net\n",
        "class EncoderBlock(tf.keras.Model):\n",
        "    \n",
        "    def __init__(self, filters):\n",
        "        super(EncoderBlock, self).__init__()\n",
        "        self.filters = filters\n",
        "        self.convolution_block_1 = ConvolutionBlock(self.filters[0])\n",
        "        self.convolution_block_2 = ConvolutionBlock(self.filters[1])\n",
        "        self.convolution_block_3 = ConvolutionBlock(self.filters[2])\n",
        "        self.convolution_block_4 = ConvolutionBlock(self.filters[3])\n",
        "        \n",
        "    def call(self, inputs):     \n",
        "        output_block_1 = self.convolution_block_1(inputs)\n",
        "        output_block_2 = self.convolution_block_2(output_block_1)\n",
        "        output_block_3 = self.convolution_block_3(output_block_2) \n",
        "        output_block_4 = self.convolution_block_4(output_block_3)\n",
        "        return output_block_4"
      ],
      "execution_count": null,
      "outputs": []
    },
    {
      "cell_type": "code",
      "metadata": {
        "id": "HtEBVUAFIPuG"
      },
      "source": [
        "# This class returns the pyramid feature map for Pyramid Pooling module\n",
        "# Pooling -> Convolution -> UpSampling\n",
        "class PyramidFeatureMap(tf.keras.Model):\n",
        "    \n",
        "    def __init__(self, block, filter_size, unsampling_size, pool_size, interpolation='bilinear'):\n",
        "        super(PyramidFeatureMap, self).__init__()\n",
        "        self.block = block\n",
        "        self.convolution_layer = Convolution2D(filter_size, kernel_size = (1,1))\n",
        "        self.upsampling_layer = UpSampling2D(unsampling_size, interpolation = interpolation)\n",
        "        self.average_pooling = AveragePooling2D(pool_size)\n",
        "        self.global_average_pooling = GlobalAveragePooling2D()\n",
        "        \n",
        "    def call(self,inputs):\n",
        "        if(self.block=='red'):\n",
        "            pool_output = self.global_average_pooling(inputs)\n",
        "            pool_output = Reshape((1,1,512))(pool_output)\n",
        "        else:\n",
        "            pool_output = self.average_pooling(inputs)\n",
        "        conv_output = self.convolution_layer(pool_output)\n",
        "        upsampling_output = self.upsampling_layer(conv_output)\n",
        "        return upsampling_output        "
      ],
      "execution_count": null,
      "outputs": []
    },
    {
      "cell_type": "code",
      "metadata": {
        "id": "gp5p-eeQIPuJ"
      },
      "source": [
        "# This class builds the Pyramid Pooling Module\n",
        "# It builds the 4 feature maps and then concatenates all of them with the input\n",
        "class PyramidPoolingModule(tf.keras.Model):\n",
        "    \n",
        "    def __init__(self):\n",
        "        super(PyramidPoolingModule, self).__init__()\n",
        "        self.block_red = PyramidFeatureMap('red', 64, (128,128), (1,1))\n",
        "        self.block_yellow = PyramidFeatureMap('yellow', 64, 2, (2,2))\n",
        "        self.block_blue = PyramidFeatureMap('blue', 64, 4, (4,4))\n",
        "        self.block_green = PyramidFeatureMap('green', 64, 8, (8,8))\n",
        "        \n",
        "    def call(self,inputs):\n",
        "        red_output = self.block_red(inputs)\n",
        "        yellow_output = self.block_yellow(inputs)\n",
        "        blue_output = self.block_blue(inputs)\n",
        "        green_output = self.block_green(inputs)\n",
        "        merged = concatenate([inputs, red_output, yellow_output, blue_output, green_output])\n",
        "        return merged  "
      ],
      "execution_count": null,
      "outputs": []
    },
    {
      "cell_type": "code",
      "metadata": {
        "id": "xKlKJ5SVIPuL"
      },
      "source": [
        "# This block is for the last stage\n",
        "# It gets the output of Pyramid Pooling Module and then performs convolution operation\n",
        "# Pyramid Pooling -> Convolution -> Batch Normalization -> Softmax activation\n",
        "class DecoderBlock(tf.keras.Model):\n",
        "    \n",
        "    def __init__(self, num_classes):\n",
        "        super(DecoderBlock, self).__init__()\n",
        "        self.pyramid_pooling_module = PyramidPoolingModule()\n",
        "        self.convolution_layer = Convolution2D(num_classes, kernel_size = (3,3), padding = 'same')\n",
        "        self.batch_norm_layer = BatchNormalization()\n",
        "        self.activation = Activation('softmax')\n",
        "    \n",
        "    def call(self, inputs):\n",
        "        merged = self.pyramid_pooling_module(inputs)\n",
        "        conv_output = self.convolution_layer(merged)\n",
        "        norm_output = self.batch_norm_layer(conv_output)\n",
        "        output = self.activation(norm_output)\n",
        "        return output"
      ],
      "execution_count": null,
      "outputs": []
    },
    {
      "cell_type": "code",
      "metadata": {
        "id": "2SKIp8d7IPuN"
      },
      "source": [
        "#This final class for the Model\n",
        "class PSPNetModel(tf.keras.Model):\n",
        "    \n",
        "    def __init__(self, num_classes):\n",
        "        super(PSPNetModel, self).__init__()\n",
        "        self.encoder = EncoderBlock([[32,32,64],[64,64,128],[128,128,256],[256,256,512]])\n",
        "        self.decoder = DecoderBlock(num_classes)\n",
        "        \n",
        "    def call(self, inputs):\n",
        "        encoder_output = self.encoder(inputs)\n",
        "        final_output = self.decoder(encoder_output)\n",
        "        return final_output"
      ],
      "execution_count": null,
      "outputs": []
    },
    {
      "cell_type": "code",
      "metadata": {
        "id": "zf8W7lubEkGk"
      },
      "source": [
        "from tensorflow.keras.applications.resnet50 import ResNet50"
      ],
      "execution_count": null,
      "outputs": []
    },
    {
      "cell_type": "code",
      "metadata": {
        "id": "1CTzjSCt9Fgg"
      },
      "source": [
        "from tensorflow.keras.layers import *\n",
        "# SegmentationModel object\n",
        "model = PSPNetModel(N_CLASSES)"
      ],
      "execution_count": null,
      "outputs": []
    },
    {
      "cell_type": "code",
      "metadata": {
        "id": "byhYZrak9pOf"
      },
      "source": [
        "# Defining a loss object and an optimizer\n",
        "loss_object = tf.keras.losses.SparseCategoricalCrossentropy()\n",
        "optimizer = tf.keras.optimizers.Adam()\n",
        "ckpt = tf.train.Checkpoint(step=tf.Variable(1), optimizer=optimizer, net=model)\n",
        "manager = tf.train.CheckpointManager(ckpt, 'tf_ckpts/', max_to_keep=3)"
      ],
      "execution_count": null,
      "outputs": []
    },
    {
      "cell_type": "code",
      "metadata": {
        "id": "2EpC2stF9nIg"
      },
      "source": [
        "# Define the metrics\n",
        "train_loss = tf.keras.metrics.Mean('train_loss', dtype=tf.float32)\n",
        "train_accuracy = tf.keras.metrics.SparseCategoricalAccuracy('train_accuracy')\n",
        "test_loss = tf.keras.metrics.Mean('test_loss', dtype=tf.float32)\n",
        "test_accuracy = tf.keras.metrics.SparseCategoricalAccuracy('test_accuracy')"
      ],
      "execution_count": null,
      "outputs": []
    },
    {
      "cell_type": "code",
      "metadata": {
        "id": "DpLXhPka9jc0"
      },
      "source": [
        "# Reference -> https://github.com/junhoning/machine_learning_tutorial/blob/b20b8a10438ec3e62f08f920744cc8ea854cde91/Visualization%20%26%20TensorBoard/%5BTensorBoard%5D%20Semantic%20Segmentation.ipynb\n",
        "\n",
        "@tf.function\n",
        "def train_step(model, optimizer, x_train, y_train):\n",
        "    with tf.GradientTape() as tape:\n",
        "        predictions = model(x_train, training=True)\n",
        "        loss = loss_object(y_train, predictions)\n",
        "    grads = tape.gradient(loss, model.trainable_variables)\n",
        "    optimizer.apply_gradients(zip(grads, model.trainable_variables))\n",
        "    train_loss(loss)\n",
        "    train_accuracy(y_train, predictions)\n",
        "    \n",
        "def train_and_checkpoint(model, manager, dataset, epoch):\n",
        "    ckpt.restore(manager.latest_checkpoint)\n",
        "    if manager.latest_checkpoint:\n",
        "        print(\"Restored from {}\".format(manager.latest_checkpoint))\n",
        "    else:\n",
        "        print(\"Initializing from scratch.\")\n",
        "    for (x_train, y_train) in dataset['train'].take(math.ceil(1403/8)):\n",
        "        train_step(model, optimizer, x_train, y_train)\n",
        "    ckpt.step.assign_add(1)\n",
        "    save_path = manager.save()\n",
        "    print(\"Saved checkpoint for epoch {}: {}\".format(epoch, save_path))\n",
        "    \n",
        "@tf.function\n",
        "def test_step(model, x_test, y_test):\n",
        "    predictions = model(x_test)\n",
        "    loss = loss_object(y_test, predictions)\n",
        "    test_loss(loss)\n",
        "    test_accuracy(y_test, predictions)\n",
        "    return predictions"
      ],
      "execution_count": null,
      "outputs": []
    },
    {
      "cell_type": "code",
      "metadata": {
        "id": "FMnqVwF29gZz"
      },
      "source": [
        "train_log_dir = 'logs/gradient_tape/train'\n",
        "test_log_dir = 'logs/gradient_tape/test'\n",
        "train_summary_writer = tf.summary.create_file_writer(train_log_dir)\n",
        "test_summary_writer = tf.summary.create_file_writer(test_log_dir)"
      ],
      "execution_count": null,
      "outputs": []
    },
    {
      "cell_type": "code",
      "metadata": {
        "colab": {
          "base_uri": "https://localhost:8080/"
        },
        "id": "Cp8uAicC9ct-",
        "scrolled": true,
        "outputId": "4667071b-f1c7-4583-87ab-0a7932bb9495"
      },
      "source": [
        "# This variable will help to save the best model if its performance increases after an epoch   \n",
        "highest_accuracy = 0\n",
        "\n",
        "# Training the model for 40 epochs\n",
        "for epoch in range(50):\n",
        "\n",
        "    print(\"Epoch \",epoch+1)\n",
        "    \n",
        "    # Getting the current time before starting the training\n",
        "    # This will help to keep track of how much time an epoch took\n",
        "    start = time.time()\n",
        "    \n",
        "    train_and_checkpoint(model, manager, dataset, epoch+1)\n",
        "    \n",
        "    # Saving the train loss and train accuracy metric for TensorBoard visualization\n",
        "    with train_summary_writer.as_default():\n",
        "        tf.summary.scalar('loss', train_loss.result(), step=ckpt.step.numpy())\n",
        "        tf.summary.scalar('accuracy', train_accuracy.result(), step=ckpt.step.numpy())\n",
        "    \n",
        "    # Validation phase\n",
        "    for (x_test, y_test) in dataset['val'].take(math.ceil(204/8)):\n",
        "        pred = test_step(model, x_test, y_test)\n",
        "    \n",
        "    # Saving the validation loss and validation accuracy metric for Tensorboard visualization\n",
        "    with test_summary_writer.as_default():\n",
        "        tf.summary.scalar('loss', test_loss.result(), step=ckpt.step.numpy())\n",
        "        tf.summary.scalar('accuracy', test_accuracy.result(), step=ckpt.step.numpy())\n",
        "    \n",
        "    # Calculating the time it took for the entire epoch to run\n",
        "    print(\"Time taken \",time.time()-start)\n",
        "    \n",
        "    # Printing the metrics for the epoch\n",
        "    template = 'Epoch {}, Loss: {:.3f}, Accuracy: {:.3f}, Val Loss: {:.3f}, Val Accuracy: {:.3f}'\n",
        "    print (template.format(epoch+1,\n",
        "                            train_loss.result(), \n",
        "                            train_accuracy.result()*100,\n",
        "                            test_loss.result(), \n",
        "                            test_accuracy.result()*100))\n",
        "    \n",
        "    # If accuracy has increased in this epoch, updating the highest accuracy and saving the model\n",
        "    if(test_accuracy.result().numpy()*100>highest_accuracy):\n",
        "        print(\"Validation accuracy increased from {:.3f} to {:.3f}. Saving model weights.\".format(highest_accuracy,test_accuracy.result().numpy()*100))\n",
        "        highest_accuracy = test_accuracy.result().numpy()*100\n",
        "        model.save_weights('pspnet_weights-epoch-{}.hdf5'.format(epoch+1))\n",
        "\n",
        "    print('_'*80)\n",
        "\n",
        "    # Reset metrics after every epoch\n",
        "    train_loss.reset_states()\n",
        "    test_loss.reset_states()\n",
        "    train_accuracy.reset_states()\n",
        "    test_accuracy.reset_states()"
      ],
      "execution_count": null,
      "outputs": [
        {
          "output_type": "stream",
          "text": [
            "Epoch  1\n",
            "Initializing from scratch.\n",
            "Saved checkpoint for epoch 1: tf_ckpts/ckpt-1\n",
            "Time taken  269.3935046195984\n",
            "Epoch 1, Loss: 1.319, Accuracy: 58.133, Val Loss: 1.334, Val Accuracy: 60.437\n",
            "Validation accuracy increased from 0.000 to 60.437. Saving model weights.\n",
            "________________________________________________________________________________\n",
            "Epoch  2\n",
            "Restored from tf_ckpts/ckpt-1\n",
            "Saved checkpoint for epoch 2: tf_ckpts/ckpt-2\n",
            "Time taken  11.983951807022095\n",
            "Epoch 2, Loss: 1.113, Accuracy: 64.587, Val Loss: 1.163, Val Accuracy: 63.476\n",
            "Validation accuracy increased from 60.437 to 63.476. Saving model weights.\n",
            "________________________________________________________________________________\n",
            "Epoch  3\n",
            "Restored from tf_ckpts/ckpt-2\n",
            "Saved checkpoint for epoch 3: tf_ckpts/ckpt-3\n",
            "Time taken  12.168817281723022\n",
            "Epoch 3, Loss: 1.020, Accuracy: 66.099, Val Loss: 1.106, Val Accuracy: 60.912\n",
            "________________________________________________________________________________\n",
            "Epoch  4\n",
            "Restored from tf_ckpts/ckpt-3\n",
            "Saved checkpoint for epoch 4: tf_ckpts/ckpt-4\n",
            "Time taken  12.079375982284546\n",
            "Epoch 4, Loss: 0.967, Accuracy: 66.801, Val Loss: 0.991, Val Accuracy: 64.125\n",
            "Validation accuracy increased from 63.476 to 64.125. Saving model weights.\n",
            "________________________________________________________________________________\n",
            "Epoch  5\n",
            "Restored from tf_ckpts/ckpt-4\n",
            "Saved checkpoint for epoch 5: tf_ckpts/ckpt-5\n",
            "Time taken  12.145480871200562\n",
            "Epoch 5, Loss: 0.930, Accuracy: 67.282, Val Loss: 0.976, Val Accuracy: 65.700\n",
            "Validation accuracy increased from 64.125 to 65.700. Saving model weights.\n",
            "________________________________________________________________________________\n",
            "Epoch  6\n",
            "Restored from tf_ckpts/ckpt-5\n",
            "Saved checkpoint for epoch 6: tf_ckpts/ckpt-6\n",
            "Time taken  11.991719245910645\n",
            "Epoch 6, Loss: 0.904, Accuracy: 67.630, Val Loss: 0.973, Val Accuracy: 63.604\n",
            "________________________________________________________________________________\n",
            "Epoch  7\n",
            "Restored from tf_ckpts/ckpt-6\n",
            "Saved checkpoint for epoch 7: tf_ckpts/ckpt-7\n",
            "Time taken  12.047407865524292\n",
            "Epoch 7, Loss: 0.886, Accuracy: 67.830, Val Loss: 0.946, Val Accuracy: 65.687\n",
            "________________________________________________________________________________\n",
            "Epoch  8\n",
            "Restored from tf_ckpts/ckpt-7\n",
            "Saved checkpoint for epoch 8: tf_ckpts/ckpt-8\n",
            "Time taken  11.92277479171753\n",
            "Epoch 8, Loss: 0.872, Accuracy: 68.024, Val Loss: 0.970, Val Accuracy: 63.708\n",
            "________________________________________________________________________________\n",
            "Epoch  9\n",
            "Restored from tf_ckpts/ckpt-8\n",
            "Saved checkpoint for epoch 9: tf_ckpts/ckpt-9\n",
            "Time taken  11.951654434204102\n",
            "Epoch 9, Loss: 0.859, Accuracy: 68.263, Val Loss: 0.985, Val Accuracy: 62.372\n",
            "________________________________________________________________________________\n",
            "Epoch  10\n",
            "Restored from tf_ckpts/ckpt-9\n",
            "Saved checkpoint for epoch 10: tf_ckpts/ckpt-10\n",
            "Time taken  12.062811374664307\n",
            "Epoch 10, Loss: 0.853, Accuracy: 68.296, Val Loss: 0.917, Val Accuracy: 65.586\n",
            "________________________________________________________________________________\n",
            "Epoch  11\n",
            "Restored from tf_ckpts/ckpt-10\n",
            "Saved checkpoint for epoch 11: tf_ckpts/ckpt-11\n",
            "Time taken  11.7898588180542\n",
            "Epoch 11, Loss: 0.845, Accuracy: 68.482, Val Loss: 1.005, Val Accuracy: 64.594\n",
            "________________________________________________________________________________\n",
            "Epoch  12\n",
            "Restored from tf_ckpts/ckpt-11\n",
            "Saved checkpoint for epoch 12: tf_ckpts/ckpt-12\n",
            "Time taken  11.817471742630005\n",
            "Epoch 12, Loss: 0.839, Accuracy: 68.579, Val Loss: 1.026, Val Accuracy: 62.317\n",
            "________________________________________________________________________________\n",
            "Epoch  13\n",
            "Restored from tf_ckpts/ckpt-12\n",
            "Saved checkpoint for epoch 13: tf_ckpts/ckpt-13\n",
            "Time taken  12.236025333404541\n",
            "Epoch 13, Loss: 0.834, Accuracy: 68.604, Val Loss: 0.996, Val Accuracy: 61.015\n",
            "________________________________________________________________________________\n",
            "Epoch  14\n",
            "Restored from tf_ckpts/ckpt-13\n",
            "Saved checkpoint for epoch 14: tf_ckpts/ckpt-14\n",
            "Time taken  11.770705699920654\n",
            "Epoch 14, Loss: 0.830, Accuracy: 68.608, Val Loss: 0.940, Val Accuracy: 64.346\n",
            "________________________________________________________________________________\n",
            "Epoch  15\n",
            "Restored from tf_ckpts/ckpt-14\n",
            "Saved checkpoint for epoch 15: tf_ckpts/ckpt-15\n",
            "Time taken  11.867155075073242\n",
            "Epoch 15, Loss: 0.823, Accuracy: 68.817, Val Loss: 1.046, Val Accuracy: 61.490\n",
            "________________________________________________________________________________\n",
            "Epoch  16\n",
            "Restored from tf_ckpts/ckpt-15\n",
            "Saved checkpoint for epoch 16: tf_ckpts/ckpt-16\n",
            "Time taken  11.701530933380127\n",
            "Epoch 16, Loss: 0.820, Accuracy: 68.879, Val Loss: 0.967, Val Accuracy: 62.073\n",
            "________________________________________________________________________________\n",
            "Epoch  17\n",
            "Restored from tf_ckpts/ckpt-16\n",
            "Saved checkpoint for epoch 17: tf_ckpts/ckpt-17\n",
            "Time taken  11.773823976516724\n",
            "Epoch 17, Loss: 0.820, Accuracy: 68.835, Val Loss: 1.094, Val Accuracy: 58.438\n",
            "________________________________________________________________________________\n",
            "Epoch  18\n",
            "Restored from tf_ckpts/ckpt-17\n",
            "Saved checkpoint for epoch 18: tf_ckpts/ckpt-18\n",
            "Time taken  12.091720581054688\n",
            "Epoch 18, Loss: 0.816, Accuracy: 68.922, Val Loss: 1.114, Val Accuracy: 58.737\n",
            "________________________________________________________________________________\n",
            "Epoch  19\n",
            "Restored from tf_ckpts/ckpt-18\n",
            "Saved checkpoint for epoch 19: tf_ckpts/ckpt-19\n",
            "Time taken  11.980301141738892\n",
            "Epoch 19, Loss: 0.810, Accuracy: 69.045, Val Loss: 1.008, Val Accuracy: 63.039\n",
            "________________________________________________________________________________\n",
            "Epoch  20\n",
            "Restored from tf_ckpts/ckpt-19\n",
            "Saved checkpoint for epoch 20: tf_ckpts/ckpt-20\n",
            "Time taken  11.919584512710571\n",
            "Epoch 20, Loss: 0.809, Accuracy: 69.074, Val Loss: 0.950, Val Accuracy: 65.661\n",
            "________________________________________________________________________________\n",
            "Epoch  21\n",
            "Restored from tf_ckpts/ckpt-20\n",
            "Saved checkpoint for epoch 21: tf_ckpts/ckpt-21\n",
            "Time taken  12.13401985168457\n",
            "Epoch 21, Loss: 0.807, Accuracy: 69.172, Val Loss: 0.911, Val Accuracy: 65.713\n",
            "Validation accuracy increased from 65.700 to 65.713. Saving model weights.\n",
            "________________________________________________________________________________\n",
            "Epoch  22\n",
            "Restored from tf_ckpts/ckpt-21\n",
            "Saved checkpoint for epoch 22: tf_ckpts/ckpt-22\n",
            "Time taken  12.141206741333008\n",
            "Epoch 22, Loss: 0.805, Accuracy: 69.223, Val Loss: 0.915, Val Accuracy: 64.751\n",
            "________________________________________________________________________________\n",
            "Epoch  23\n",
            "Restored from tf_ckpts/ckpt-22\n",
            "Saved checkpoint for epoch 23: tf_ckpts/ckpt-23\n",
            "Time taken  12.197123050689697\n",
            "Epoch 23, Loss: 0.803, Accuracy: 69.260, Val Loss: 0.882, Val Accuracy: 66.663\n",
            "Validation accuracy increased from 65.713 to 66.663. Saving model weights.\n",
            "________________________________________________________________________________\n",
            "Epoch  24\n",
            "Restored from tf_ckpts/ckpt-23\n",
            "Saved checkpoint for epoch 24: tf_ckpts/ckpt-24\n",
            "Time taken  12.069292783737183\n",
            "Epoch 24, Loss: 0.801, Accuracy: 69.266, Val Loss: 0.988, Val Accuracy: 62.111\n",
            "________________________________________________________________________________\n",
            "Epoch  25\n",
            "Restored from tf_ckpts/ckpt-24\n",
            "Saved checkpoint for epoch 25: tf_ckpts/ckpt-25\n",
            "Time taken  11.995481729507446\n",
            "Epoch 25, Loss: 0.801, Accuracy: 69.235, Val Loss: 1.029, Val Accuracy: 63.367\n",
            "________________________________________________________________________________\n",
            "Epoch  26\n",
            "Restored from tf_ckpts/ckpt-25\n",
            "Saved checkpoint for epoch 26: tf_ckpts/ckpt-26\n",
            "Time taken  11.81150484085083\n",
            "Epoch 26, Loss: 0.798, Accuracy: 69.285, Val Loss: 1.005, Val Accuracy: 59.901\n",
            "________________________________________________________________________________\n",
            "Epoch  27\n",
            "Restored from tf_ckpts/ckpt-26\n",
            "Saved checkpoint for epoch 27: tf_ckpts/ckpt-27\n",
            "Time taken  11.897507905960083\n",
            "Epoch 27, Loss: 0.795, Accuracy: 69.428, Val Loss: 0.947, Val Accuracy: 65.016\n",
            "________________________________________________________________________________\n",
            "Epoch  28\n",
            "Restored from tf_ckpts/ckpt-27\n",
            "Saved checkpoint for epoch 28: tf_ckpts/ckpt-28\n",
            "Time taken  11.87843942642212\n",
            "Epoch 28, Loss: 0.795, Accuracy: 69.434, Val Loss: 0.941, Val Accuracy: 65.806\n",
            "________________________________________________________________________________\n",
            "Epoch  29\n",
            "Restored from tf_ckpts/ckpt-28\n",
            "Saved checkpoint for epoch 29: tf_ckpts/ckpt-29\n",
            "Time taken  12.034092903137207\n",
            "Epoch 29, Loss: 0.795, Accuracy: 69.397, Val Loss: 0.962, Val Accuracy: 65.028\n",
            "________________________________________________________________________________\n",
            "Epoch  30\n",
            "Restored from tf_ckpts/ckpt-29\n",
            "Saved checkpoint for epoch 30: tf_ckpts/ckpt-30\n",
            "Time taken  11.98004674911499\n",
            "Epoch 30, Loss: 0.792, Accuracy: 69.497, Val Loss: 1.011, Val Accuracy: 61.756\n",
            "________________________________________________________________________________\n",
            "Epoch  31\n",
            "Restored from tf_ckpts/ckpt-30\n",
            "Saved checkpoint for epoch 31: tf_ckpts/ckpt-31\n",
            "Time taken  11.944332838058472\n",
            "Epoch 31, Loss: 0.791, Accuracy: 69.492, Val Loss: 1.069, Val Accuracy: 64.459\n",
            "________________________________________________________________________________\n",
            "Epoch  32\n",
            "Restored from tf_ckpts/ckpt-31\n",
            "Saved checkpoint for epoch 32: tf_ckpts/ckpt-32\n",
            "Time taken  12.114469528198242\n",
            "Epoch 32, Loss: 0.789, Accuracy: 69.587, Val Loss: 1.018, Val Accuracy: 64.224\n",
            "________________________________________________________________________________\n",
            "Epoch  33\n",
            "Restored from tf_ckpts/ckpt-32\n",
            "Saved checkpoint for epoch 33: tf_ckpts/ckpt-33\n",
            "Time taken  11.756131172180176\n",
            "Epoch 33, Loss: 0.788, Accuracy: 69.593, Val Loss: 1.044, Val Accuracy: 59.488\n",
            "________________________________________________________________________________\n",
            "Epoch  34\n",
            "Restored from tf_ckpts/ckpt-33\n",
            "Saved checkpoint for epoch 34: tf_ckpts/ckpt-34\n",
            "Time taken  11.680282354354858\n",
            "Epoch 34, Loss: 0.788, Accuracy: 69.602, Val Loss: 1.022, Val Accuracy: 60.412\n",
            "________________________________________________________________________________\n",
            "Epoch  35\n",
            "Restored from tf_ckpts/ckpt-34\n",
            "Saved checkpoint for epoch 35: tf_ckpts/ckpt-35\n",
            "Time taken  12.132677555084229\n",
            "Epoch 35, Loss: 0.787, Accuracy: 69.706, Val Loss: 1.005, Val Accuracy: 61.916\n",
            "________________________________________________________________________________\n",
            "Epoch  36\n",
            "Restored from tf_ckpts/ckpt-35\n",
            "Saved checkpoint for epoch 36: tf_ckpts/ckpt-36\n",
            "Time taken  11.934008359909058\n",
            "Epoch 36, Loss: 0.784, Accuracy: 69.706, Val Loss: 0.956, Val Accuracy: 63.734\n",
            "________________________________________________________________________________\n",
            "Epoch  37\n",
            "Restored from tf_ckpts/ckpt-36\n",
            "Saved checkpoint for epoch 37: tf_ckpts/ckpt-37\n",
            "Time taken  11.902929306030273\n",
            "Epoch 37, Loss: 0.784, Accuracy: 69.745, Val Loss: 1.027, Val Accuracy: 60.686\n",
            "________________________________________________________________________________\n",
            "Epoch  38\n",
            "Restored from tf_ckpts/ckpt-37\n",
            "Saved checkpoint for epoch 38: tf_ckpts/ckpt-38\n",
            "Time taken  12.026394367218018\n",
            "Epoch 38, Loss: 0.785, Accuracy: 69.644, Val Loss: 0.947, Val Accuracy: 63.904\n",
            "________________________________________________________________________________\n",
            "Epoch  39\n",
            "Restored from tf_ckpts/ckpt-38\n",
            "Saved checkpoint for epoch 39: tf_ckpts/ckpt-39\n",
            "Time taken  11.819307565689087\n",
            "Epoch 39, Loss: 0.782, Accuracy: 69.803, Val Loss: 0.957, Val Accuracy: 63.000\n",
            "________________________________________________________________________________\n",
            "Epoch  40\n",
            "Restored from tf_ckpts/ckpt-39\n",
            "Saved checkpoint for epoch 40: tf_ckpts/ckpt-40\n",
            "Time taken  11.76896333694458\n",
            "Epoch 40, Loss: 0.780, Accuracy: 69.841, Val Loss: 1.048, Val Accuracy: 63.705\n",
            "________________________________________________________________________________\n",
            "Epoch  41\n",
            "Restored from tf_ckpts/ckpt-40\n",
            "Saved checkpoint for epoch 41: tf_ckpts/ckpt-41\n",
            "Time taken  12.021905899047852\n",
            "Epoch 41, Loss: 0.782, Accuracy: 69.813, Val Loss: 0.876, Val Accuracy: 67.130\n",
            "Validation accuracy increased from 66.663 to 67.130. Saving model weights.\n",
            "________________________________________________________________________________\n",
            "Epoch  42\n",
            "Restored from tf_ckpts/ckpt-41\n",
            "Saved checkpoint for epoch 42: tf_ckpts/ckpt-42\n",
            "Time taken  11.663153409957886\n",
            "Epoch 42, Loss: 0.780, Accuracy: 69.815, Val Loss: 0.981, Val Accuracy: 62.816\n",
            "________________________________________________________________________________\n",
            "Epoch  43\n",
            "Restored from tf_ckpts/ckpt-42\n",
            "Saved checkpoint for epoch 43: tf_ckpts/ckpt-43\n",
            "Time taken  11.82885456085205\n",
            "Epoch 43, Loss: 0.778, Accuracy: 69.893, Val Loss: 0.905, Val Accuracy: 65.023\n",
            "________________________________________________________________________________\n",
            "Epoch  44\n",
            "Restored from tf_ckpts/ckpt-43\n",
            "Saved checkpoint for epoch 44: tf_ckpts/ckpt-44\n",
            "Time taken  11.92144227027893\n",
            "Epoch 44, Loss: 0.778, Accuracy: 69.865, Val Loss: 0.883, Val Accuracy: 66.239\n",
            "________________________________________________________________________________\n",
            "Epoch  45\n",
            "Restored from tf_ckpts/ckpt-44\n",
            "Saved checkpoint for epoch 45: tf_ckpts/ckpt-45\n",
            "Time taken  11.8882737159729\n",
            "Epoch 45, Loss: 0.779, Accuracy: 69.849, Val Loss: 0.943, Val Accuracy: 64.494\n",
            "________________________________________________________________________________\n",
            "Epoch  46\n",
            "Restored from tf_ckpts/ckpt-45\n",
            "Saved checkpoint for epoch 46: tf_ckpts/ckpt-46\n",
            "Time taken  11.595901727676392\n",
            "Epoch 46, Loss: 0.776, Accuracy: 69.912, Val Loss: 0.910, Val Accuracy: 66.177\n",
            "________________________________________________________________________________\n",
            "Epoch  47\n",
            "Restored from tf_ckpts/ckpt-46\n",
            "Saved checkpoint for epoch 47: tf_ckpts/ckpt-47\n",
            "Time taken  12.063458919525146\n",
            "Epoch 47, Loss: 0.776, Accuracy: 69.939, Val Loss: 1.363, Val Accuracy: 50.138\n",
            "________________________________________________________________________________\n",
            "Epoch  48\n",
            "Restored from tf_ckpts/ckpt-47\n",
            "Saved checkpoint for epoch 48: tf_ckpts/ckpt-48\n",
            "Time taken  11.82086992263794\n",
            "Epoch 48, Loss: 0.776, Accuracy: 69.918, Val Loss: 0.903, Val Accuracy: 66.641\n",
            "________________________________________________________________________________\n",
            "Epoch  49\n",
            "Restored from tf_ckpts/ckpt-48\n",
            "Saved checkpoint for epoch 49: tf_ckpts/ckpt-49\n",
            "Time taken  11.62861156463623\n",
            "Epoch 49, Loss: 0.775, Accuracy: 69.981, Val Loss: 1.384, Val Accuracy: 47.600\n",
            "________________________________________________________________________________\n",
            "Epoch  50\n",
            "Restored from tf_ckpts/ckpt-49\n",
            "Saved checkpoint for epoch 50: tf_ckpts/ckpt-50\n",
            "Time taken  11.688026428222656\n",
            "Epoch 50, Loss: 0.777, Accuracy: 69.878, Val Loss: 0.900, Val Accuracy: 66.159\n",
            "________________________________________________________________________________\n"
          ],
          "name": "stdout"
        }
      ]
    },
    {
      "cell_type": "code",
      "metadata": {
        "colab": {
          "base_uri": "https://localhost:8080/",
          "height": 37
        },
        "id": "uZ9eNKAh_4H7",
        "outputId": "1ea0da43-e601-4af2-db03-b374391f4808"
      },
      "source": [
        "from IPython.core.display import Image, display\n",
        "display(Image('From scratch.png'))"
      ],
      "execution_count": null,
      "outputs": [
        {
          "output_type": "display_data",
          "data": {
            "image/png": "From scratch.png",
            "text/plain": [
              "<IPython.core.display.Image object>"
            ]
          },
          "metadata": {
            "tags": []
          }
        }
      ]
    },
    {
      "cell_type": "code",
      "metadata": {
        "id": "E5w80STlIPu-"
      },
      "source": [
        "# Loading the weights of the best model\n",
        "model.load_weights('pspnet_weights-epoch-41.hdf5')"
      ],
      "execution_count": null,
      "outputs": []
    },
    {
      "cell_type": "code",
      "metadata": {
        "id": "HcxMwQOMxW75"
      },
      "source": [
        "def predict(model,image_path):\n",
        "    \"\"\"\n",
        "    This function will take the model which is going to be used to predict the image and the image path of \n",
        "    the input image as inputs and predict the mask\n",
        "    It returns the true mask and predicted mask\n",
        "    \"\"\"\n",
        "    # Getting the datapoint\n",
        "    # This function will load the image and its annotation (mask) and return a dictionary.\n",
        "    datapoint = parse_image(image_path)\n",
        "    # Normalizing the resizing the datapoint\n",
        "    input_image,image_mask = load_image_test(datapoint)\n",
        "    # As the model takes input with 4 dimensions (batch_size, rows, columns, channels),\n",
        "    # and the shape of the input image is (rows, columns, channels)\n",
        "    # we will expand the first dimension so we will get the shape as  (1, rows, columns, channels)\n",
        "    img = tf.expand_dims(input_image, 0)\n",
        "    # Predicting the image by passing it to the model\n",
        "    prediction = model(img)\n",
        "    # The model will predict 8 outputs for each pixel\n",
        "    # We have to get the maximum value out of it\n",
        "    prediction = tf.argmax(prediction, axis=-1)\n",
        "    prediction = tf.squeeze(prediction, axis = 0)\n",
        "    pred_mask = tf.expand_dims(prediction, axis=-1)\n",
        "    # Displaying the input image, true mask, predicted mask\n",
        "    #display_sample([input_image, image_mask, pred_mask])\n",
        "    return image_mask, pred_mask"
      ],
      "execution_count": null,
      "outputs": []
    },
    {
      "cell_type": "code",
      "metadata": {
        "id": "bdb_IrorxkXN"
      },
      "source": [
        "# Reference -> https://github.com/saisandeepNSS/IDD_SemanticSegmentation\n",
        "\n",
        "def IoU(y_i,y_pred):\n",
        "    # This function calculates the mean Intersection over Union\n",
        "    # Mean IoU = TP/(FN + TP + FP)\n",
        "    # This list will save the IoU of all the classes\n",
        "    IoUs = []\n",
        "    # Defining the number of classes which the model has predicted\n",
        "    n_classes = 8\n",
        "    for c in range(n_classes):\n",
        "        # Calculating the True Positives\n",
        "        TP = np.sum((y_i == c)&(y_pred==c))\n",
        "        # Calculating the False Positives\n",
        "        FP = np.sum((y_i != c)&(y_pred==c))\n",
        "        # Calculating the False Negatives\n",
        "        FN = np.sum((y_i == c)&(y_pred!= c))\n",
        "        # Calculating the IoU for the particular class\n",
        "        IoU = TP/float(TP + FP + FN)\n",
        "        # Printing the outputs\n",
        "        # Uncomment the print statement below when you want to analyze the results for each class\n",
        "        #print(\"class {:02.0f}: #TP={:6.0f}, #FP={:6.0f}, #FN={:5.0f}, IoU={:4.3f}\".format(c,TP,FP,FN,IoU))\n",
        "        # Appending the IoU to the list as it mean needs to be calculated later\n",
        "        if(math.isnan(IoU)):\n",
        "            IoUs.append(0)\n",
        "            continue\n",
        "        IoUs.append(IoU)\n",
        "    # Calculating the mean\n",
        "    mIoU = np.mean(IoUs)\n",
        "    #print(\"_________________\")\n",
        "    #print(\"Mean IoU: {:4.3f}\".format(mIoU))\n",
        "    return mIoU"
      ],
      "execution_count": null,
      "outputs": []
    },
    {
      "cell_type": "markdown",
      "metadata": {
        "id": "_K0m_pvx0FiD"
      },
      "source": [
        "### Validation mIoU for PSPNet from scratch"
      ]
    },
    {
      "cell_type": "code",
      "metadata": {
        "id": "J6ERQK1g_RAk"
      },
      "source": [
        "img_val = dataset_path + 'leftImg8bit/val/'\n",
        "val_paths = glob(img_val+'*/*_image.jpg')"
      ],
      "execution_count": null,
      "outputs": []
    },
    {
      "cell_type": "code",
      "metadata": {
        "id": "ugUHIIqfz7du"
      },
      "source": [
        "mIoU = []\n",
        "for path in val_paths:\n",
        "    true_mask, pred_mask = predict(model,path)\n",
        "    mIoU.append(IoU(true_mask, pred_mask))"
      ],
      "execution_count": null,
      "outputs": []
    },
    {
      "cell_type": "code",
      "metadata": {
        "colab": {
          "base_uri": "https://localhost:8080/"
        },
        "id": "k43_RFJgz9Af",
        "outputId": "002044ee-5ae4-4014-e017-9b9debd71bd8"
      },
      "source": [
        "print(\"Validation mIoU = \",sum(mIoU)/len(mIoU))"
      ],
      "execution_count": null,
      "outputs": [
        {
          "output_type": "stream",
          "text": [
            "Validation mIoU =  0.24356363447025353\n"
          ],
          "name": "stdout"
        }
      ]
    },
    {
      "cell_type": "markdown",
      "metadata": {
        "id": "Jx5HeG8i_4IG"
      },
      "source": [
        "# PSPNet with a pretrained Encoder"
      ]
    },
    {
      "cell_type": "code",
      "metadata": {
        "id": "nAnfsJb7m_ka"
      },
      "source": [
        "from tensorflow.keras.applications.resnet50 import ResNet50"
      ],
      "execution_count": null,
      "outputs": []
    },
    {
      "cell_type": "code",
      "metadata": {
        "id": "jxbwYZt-_4II"
      },
      "source": [
        "# This class returns the pyramid feature map for Pyramid Pooling module\n",
        "# Pooling -> Convolution -> UpSampling\n",
        "class PyramidFeatureMap(tf.keras.Model):\n",
        "    \n",
        "    def __init__(self, block, filter_size, unsampling_size, pool_size, interpolation='bilinear'):\n",
        "        super(PyramidFeatureMap, self).__init__()\n",
        "        self.block = block\n",
        "        self.convolution_layer = Convolution2D(filter_size, kernel_size = (1,1))\n",
        "        self.upsampling_layer = UpSampling2D(unsampling_size, interpolation = interpolation)\n",
        "        self.average_pooling = AveragePooling2D(pool_size)\n",
        "        self.global_average_pooling = GlobalAveragePooling2D()\n",
        "        \n",
        "    def call(self,inputs):\n",
        "        if(self.block=='red'):\n",
        "            pool_output = self.global_average_pooling(inputs)\n",
        "            pool_output = Reshape((1,1,2048))(pool_output)\n",
        "        else:\n",
        "            pool_output = self.average_pooling(inputs)\n",
        "        conv_output = self.convolution_layer(pool_output)\n",
        "        upsampling_output = self.upsampling_layer(conv_output)\n",
        "        return upsampling_output        "
      ],
      "execution_count": null,
      "outputs": []
    },
    {
      "cell_type": "code",
      "metadata": {
        "id": "emNzzNxp_4IJ"
      },
      "source": [
        "# This class builds the Pyramid Pooling Module\n",
        "# It builds the 4 feature maps and then concatenates all of them with the input\n",
        "class PyramidPoolingModule(tf.keras.Model):\n",
        "    \n",
        "    def __init__(self):\n",
        "        super(PyramidPoolingModule, self).__init__()\n",
        "        self.block_red = PyramidFeatureMap('red', 64, 8, (1,1))\n",
        "        self.block_yellow = PyramidFeatureMap('yellow', 64, 2, (2,2))\n",
        "        self.block_blue = PyramidFeatureMap('blue', 64, 4, (3,3))\n",
        "        self.block_green = PyramidFeatureMap('green', 64, 8, (6,6))\n",
        "        \n",
        "    def call(self,inputs):\n",
        "        red_output = self.block_red(inputs)\n",
        "        yellow_output = self.block_yellow(inputs)\n",
        "        blue_output = self.block_blue(inputs)\n",
        "        green_output = self.block_green(inputs)\n",
        "        merged = concatenate([inputs, red_output, yellow_output, blue_output, green_output])\n",
        "        return merged  "
      ],
      "execution_count": null,
      "outputs": []
    },
    {
      "cell_type": "code",
      "metadata": {
        "id": "fndfJxa0_4IK"
      },
      "source": [
        "# This block is for the last stage\n",
        "# It gets the output of Pyramid Pooling Module and then performs convolution operation\n",
        "# Pyramid Pooling -> Convolution -> Batch Normalization -> Softmax activation\n",
        "class DecoderBlock(tf.keras.Model):\n",
        "    \n",
        "    def __init__(self, num_classes):\n",
        "        super(DecoderBlock, self).__init__()\n",
        "        self.pyramid_pooling_module = PyramidPoolingModule()\n",
        "        self.convolution_layer = Convolution2D(num_classes, kernel_size = (3,3), padding = 'same')\n",
        "        self.batch_norm_layer = BatchNormalization()\n",
        "        self.activation = Activation('softmax')\n",
        "    \n",
        "    def call(self, inputs):\n",
        "        merged = self.pyramid_pooling_module(inputs)\n",
        "        conv_output = self.convolution_layer(merged)\n",
        "        norm_output = self.batch_norm_layer(conv_output)\n",
        "        output = self.activation(norm_output)\n",
        "        return output"
      ],
      "execution_count": null,
      "outputs": []
    },
    {
      "cell_type": "code",
      "metadata": {
        "id": "fB-ASqEo_4IL"
      },
      "source": [
        "#This final class for the Model\n",
        "class PSPNetModel(tf.keras.Model):\n",
        "    \n",
        "    def __init__(self, num_classes):\n",
        "        super(PSPNetModel, self).__init__()\n",
        "        self.resnet = ResNet50(weights='imagenet', include_top = False, input_shape = (128,128,3))\n",
        "        for layer in self.resnet.layers:\n",
        "            layer.trainable = False\n",
        "        self.upsampling_encoder = UpSampling2D(size=(2,2), interpolation='bilinear')\n",
        "        self.upsampling = UpSampling2D(size=(16,16), interpolation='bilinear')\n",
        "        self.decoder = DecoderBlock(num_classes)\n",
        "        \n",
        "    def call(self, inputs):\n",
        "        encoder_output = self.resnet(inputs)\n",
        "        encoder_output = self.upsampling_encoder(encoder_output)\n",
        "        decoder_output = self.decoder(encoder_output)\n",
        "        final_output = self.upsampling(decoder_output)\n",
        "        return final_output"
      ],
      "execution_count": null,
      "outputs": []
    },
    {
      "cell_type": "code",
      "metadata": {
        "id": "YFclA62p_4IM"
      },
      "source": [
        "from tensorflow.keras.layers import *\n",
        "# SegmentationModel object\n",
        "model = PSPNetModel(N_CLASSES)"
      ],
      "execution_count": null,
      "outputs": []
    },
    {
      "cell_type": "code",
      "metadata": {
        "id": "499W0VQX_4IN"
      },
      "source": [
        "# Defining a loss object and an optimizer\n",
        "loss_object = tf.keras.losses.SparseCategoricalCrossentropy()\n",
        "optimizer = tf.keras.optimizers.Adam()\n",
        "ckpt = tf.train.Checkpoint(step=tf.Variable(1), optimizer=optimizer, net=model)\n",
        "manager = tf.train.CheckpointManager(ckpt, 'tf_ckpts/', max_to_keep=3)"
      ],
      "execution_count": null,
      "outputs": []
    },
    {
      "cell_type": "code",
      "metadata": {
        "id": "o4NzAkAc_4IO"
      },
      "source": [
        "# Define the metrics\n",
        "train_loss = tf.keras.metrics.Mean('train_loss', dtype=tf.float32)\n",
        "train_accuracy = tf.keras.metrics.SparseCategoricalAccuracy('train_accuracy')\n",
        "test_loss = tf.keras.metrics.Mean('test_loss', dtype=tf.float32)\n",
        "test_accuracy = tf.keras.metrics.SparseCategoricalAccuracy('test_accuracy')"
      ],
      "execution_count": null,
      "outputs": []
    },
    {
      "cell_type": "code",
      "metadata": {
        "id": "K276SH9g_4IP"
      },
      "source": [
        "# Reference -> https://github.com/junhoning/machine_learning_tutorial/blob/b20b8a10438ec3e62f08f920744cc8ea854cde91/Visualization%20%26%20TensorBoard/%5BTensorBoard%5D%20Semantic%20Segmentation.ipynb\n",
        "\n",
        "@tf.function\n",
        "def train_step(model, optimizer, x_train, y_train):\n",
        "    with tf.GradientTape() as tape:\n",
        "        predictions = model(x_train, training=True)\n",
        "        loss = loss_object(y_train, predictions)\n",
        "    grads = tape.gradient(loss, model.trainable_variables)\n",
        "    optimizer.apply_gradients(zip(grads, model.trainable_variables))\n",
        "    train_loss(loss)\n",
        "    train_accuracy(y_train, predictions)\n",
        "    \n",
        "def train_and_checkpoint(model, manager, dataset, epoch):\n",
        "    '''\n",
        "    ckpt.restore(manager.latest_checkpoint)\n",
        "    if manager.latest_checkpoint:\n",
        "        print(\"Restored from {}\".format(manager.latest_checkpoint))\n",
        "    else:\n",
        "        print(\"Initializing from scratch.\")'''\n",
        "    for (x_train, y_train) in dataset['train'].take(math.ceil(1403/16)):\n",
        "        train_step(model, optimizer, x_train, y_train)\n",
        "    ckpt.step.assign_add(1)\n",
        "    save_path = manager.save()\n",
        "    print(\"Saved checkpoint for epoch {}: {}\".format(epoch, save_path))\n",
        "    \n",
        "@tf.function\n",
        "def test_step(model, x_test, y_test):\n",
        "    predictions = model(x_test)\n",
        "    loss = loss_object(y_test, predictions)\n",
        "    test_loss(loss)\n",
        "    test_accuracy(y_test, predictions)\n",
        "    return predictions"
      ],
      "execution_count": null,
      "outputs": []
    },
    {
      "cell_type": "code",
      "metadata": {
        "id": "de5lgczK_4IP"
      },
      "source": [
        "train_log_dir = 'logs/gradient_tape/train'\n",
        "test_log_dir = 'logs/gradient_tape/test'\n",
        "train_summary_writer = tf.summary.create_file_writer(train_log_dir)\n",
        "test_summary_writer = tf.summary.create_file_writer(test_log_dir)"
      ],
      "execution_count": null,
      "outputs": []
    },
    {
      "cell_type": "code",
      "metadata": {
        "colab": {
          "base_uri": "https://localhost:8080/"
        },
        "scrolled": true,
        "id": "rCThXp4R_4IP",
        "outputId": "79b5f9c2-578e-40d9-b6fc-d9c2029607fb"
      },
      "source": [
        "# This variable will help to save the best model if its performance increases after an epoch   \n",
        "highest_accuracy = 0\n",
        "\n",
        "# Training the model for 50 epochs\n",
        "for epoch in range(50):\n",
        "\n",
        "    print(\"Epoch \",epoch+1)\n",
        "    \n",
        "    # Getting the current time before starting the training\n",
        "    # This will help to keep track of how much time an epoch took\n",
        "    start = time.time()\n",
        "    \n",
        "    train_and_checkpoint(model, manager, dataset, epoch+1)\n",
        "    \n",
        "    # Saving the train loss and train accuracy metric for TensorBoard visualization\n",
        "    with train_summary_writer.as_default():\n",
        "        tf.summary.scalar('loss', train_loss.result(), step=ckpt.step.numpy())\n",
        "        tf.summary.scalar('accuracy', train_accuracy.result(), step=ckpt.step.numpy())\n",
        "    \n",
        "    # Validation phase\n",
        "    for (x_test, y_test) in dataset['val'].take(math.ceil(204/16)):\n",
        "        pred = test_step(model, x_test, y_test)\n",
        "    \n",
        "    # Saving the validation loss and validation accuracy metric for Tensorboard visualization\n",
        "    with test_summary_writer.as_default():\n",
        "        tf.summary.scalar('loss', test_loss.result(), step=ckpt.step.numpy())\n",
        "        tf.summary.scalar('accuracy', test_accuracy.result(), step=ckpt.step.numpy())\n",
        "    \n",
        "    # Calculating the time it took for the entire epoch to run\n",
        "    print(\"Time taken \",time.time()-start)\n",
        "    \n",
        "    # Printing the metrics for the epoch\n",
        "    template = 'Epoch {}, Loss: {:.3f}, Accuracy: {:.3f}, Val Loss: {:.3f}, Val Accuracy: {:.3f}'\n",
        "    print (template.format(epoch+1,\n",
        "                            train_loss.result(), \n",
        "                            train_accuracy.result()*100,\n",
        "                            test_loss.result(), \n",
        "                            test_accuracy.result()*100))\n",
        "    \n",
        "    # If accuracy has increased in this epoch, updating the highest accuracy and saving the model\n",
        "    if(test_accuracy.result().numpy()*100>highest_accuracy):\n",
        "        print(\"Validation accuracy increased from {:.3f} to {:.3f}. Saving model weights.\".format(highest_accuracy,test_accuracy.result().numpy()*100))\n",
        "        highest_accuracy = test_accuracy.result().numpy()*100\n",
        "        model.save_weights('pspnet_weights-epoch-{}.hdf5'.format(epoch+1))\n",
        "\n",
        "    print('_'*80)\n",
        "\n",
        "    # Reset metrics after every epoch\n",
        "    train_loss.reset_states()\n",
        "    test_loss.reset_states()\n",
        "    train_accuracy.reset_states()\n",
        "    test_accuracy.reset_states()"
      ],
      "execution_count": null,
      "outputs": [
        {
          "output_type": "stream",
          "text": [
            "Epoch  1\n",
            "Saved checkpoint for epoch 1: tf_ckpts/ckpt-1\n",
            "Time taken  11.591219425201416\n",
            "Epoch 1, Loss: 1.405, Accuracy: 55.695, Val Loss: 1.397, Val Accuracy: 54.426\n",
            "Validation accuracy increased from 0.000 to 54.426. Saving model weights.\n",
            "________________________________________________________________________________\n",
            "Epoch  2\n",
            "Saved checkpoint for epoch 2: tf_ckpts/ckpt-2\n",
            "Time taken  7.210581541061401\n",
            "Epoch 2, Loss: 1.222, Accuracy: 62.237, Val Loss: 1.185, Val Accuracy: 61.691\n",
            "Validation accuracy increased from 54.426 to 61.691. Saving model weights.\n",
            "________________________________________________________________________________\n",
            "Epoch  3\n",
            "Saved checkpoint for epoch 3: tf_ckpts/ckpt-3\n",
            "Time taken  7.408657789230347\n",
            "Epoch 3, Loss: 1.139, Accuracy: 64.068, Val Loss: 1.180, Val Accuracy: 63.452\n",
            "Validation accuracy increased from 61.691 to 63.452. Saving model weights.\n",
            "________________________________________________________________________________\n",
            "Epoch  4\n",
            "Saved checkpoint for epoch 4: tf_ckpts/ckpt-4\n",
            "Time taken  7.264097452163696\n",
            "Epoch 4, Loss: 1.080, Accuracy: 65.252, Val Loss: 1.154, Val Accuracy: 63.595\n",
            "Validation accuracy increased from 63.452 to 63.595. Saving model weights.\n",
            "________________________________________________________________________________\n",
            "Epoch  5\n",
            "Saved checkpoint for epoch 5: tf_ckpts/ckpt-5\n",
            "Time taken  7.329670190811157\n",
            "Epoch 5, Loss: 1.039, Accuracy: 65.797, Val Loss: 1.063, Val Accuracy: 63.552\n",
            "________________________________________________________________________________\n",
            "Epoch  6\n",
            "Saved checkpoint for epoch 6: tf_ckpts/ckpt-6\n",
            "Time taken  7.418422222137451\n",
            "Epoch 6, Loss: 1.006, Accuracy: 66.209, Val Loss: 1.083, Val Accuracy: 62.378\n",
            "________________________________________________________________________________\n",
            "Epoch  7\n",
            "Saved checkpoint for epoch 7: tf_ckpts/ckpt-7\n",
            "Time taken  7.1792120933532715\n",
            "Epoch 7, Loss: 0.974, Accuracy: 66.838, Val Loss: 1.029, Val Accuracy: 65.706\n",
            "Validation accuracy increased from 63.595 to 65.706. Saving model weights.\n",
            "________________________________________________________________________________\n",
            "Epoch  8\n",
            "Saved checkpoint for epoch 8: tf_ckpts/ckpt-8\n",
            "Time taken  7.2384421825408936\n",
            "Epoch 8, Loss: 0.956, Accuracy: 66.988, Val Loss: 0.988, Val Accuracy: 64.327\n",
            "________________________________________________________________________________\n",
            "Epoch  9\n",
            "Saved checkpoint for epoch 9: tf_ckpts/ckpt-9\n",
            "Time taken  7.0959413051605225\n",
            "Epoch 9, Loss: 0.938, Accuracy: 67.150, Val Loss: 1.091, Val Accuracy: 59.880\n",
            "________________________________________________________________________________\n",
            "Epoch  10\n",
            "Saved checkpoint for epoch 10: tf_ckpts/ckpt-10\n",
            "Time taken  7.29752254486084\n",
            "Epoch 10, Loss: 0.919, Accuracy: 67.624, Val Loss: 0.954, Val Accuracy: 64.914\n",
            "________________________________________________________________________________\n",
            "Epoch  11\n",
            "Saved checkpoint for epoch 11: tf_ckpts/ckpt-11\n",
            "Time taken  7.367499351501465\n",
            "Epoch 11, Loss: 0.910, Accuracy: 67.527, Val Loss: 0.962, Val Accuracy: 64.482\n",
            "________________________________________________________________________________\n",
            "Epoch  12\n",
            "Saved checkpoint for epoch 12: tf_ckpts/ckpt-12\n",
            "Time taken  7.266934394836426\n",
            "Epoch 12, Loss: 0.900, Accuracy: 67.691, Val Loss: 0.941, Val Accuracy: 66.465\n",
            "Validation accuracy increased from 65.706 to 66.465. Saving model weights.\n",
            "________________________________________________________________________________\n",
            "Epoch  13\n",
            "Saved checkpoint for epoch 13: tf_ckpts/ckpt-13\n",
            "Time taken  7.2067670822143555\n",
            "Epoch 13, Loss: 0.892, Accuracy: 67.766, Val Loss: 0.989, Val Accuracy: 62.914\n",
            "________________________________________________________________________________\n",
            "Epoch  14\n",
            "Saved checkpoint for epoch 14: tf_ckpts/ckpt-14\n",
            "Time taken  7.286325931549072\n",
            "Epoch 14, Loss: 0.883, Accuracy: 67.825, Val Loss: 1.156, Val Accuracy: 55.867\n",
            "________________________________________________________________________________\n",
            "Epoch  15\n",
            "Saved checkpoint for epoch 15: tf_ckpts/ckpt-15\n",
            "Time taken  7.212453365325928\n",
            "Epoch 15, Loss: 0.877, Accuracy: 67.916, Val Loss: 0.926, Val Accuracy: 65.969\n",
            "________________________________________________________________________________\n",
            "Epoch  16\n",
            "Saved checkpoint for epoch 16: tf_ckpts/ckpt-16\n",
            "Time taken  7.184956312179565\n",
            "Epoch 16, Loss: 0.865, Accuracy: 68.303, Val Loss: 1.096, Val Accuracy: 58.883\n",
            "________________________________________________________________________________\n",
            "Epoch  17\n",
            "Saved checkpoint for epoch 17: tf_ckpts/ckpt-17\n",
            "Time taken  7.304548978805542\n",
            "Epoch 17, Loss: 0.862, Accuracy: 68.212, Val Loss: 0.916, Val Accuracy: 65.641\n",
            "________________________________________________________________________________\n",
            "Epoch  18\n",
            "Saved checkpoint for epoch 18: tf_ckpts/ckpt-18\n",
            "Time taken  7.139010906219482\n",
            "Epoch 18, Loss: 0.859, Accuracy: 68.209, Val Loss: 0.957, Val Accuracy: 65.141\n",
            "________________________________________________________________________________\n",
            "Epoch  19\n",
            "Saved checkpoint for epoch 19: tf_ckpts/ckpt-19\n",
            "Time taken  7.354763507843018\n",
            "Epoch 19, Loss: 0.856, Accuracy: 68.256, Val Loss: 0.979, Val Accuracy: 64.364\n",
            "________________________________________________________________________________\n",
            "Epoch  20\n",
            "Saved checkpoint for epoch 20: tf_ckpts/ckpt-20\n",
            "Time taken  7.2101099491119385\n",
            "Epoch 20, Loss: 0.850, Accuracy: 68.377, Val Loss: 1.033, Val Accuracy: 59.610\n",
            "________________________________________________________________________________\n",
            "Epoch  21\n",
            "Saved checkpoint for epoch 21: tf_ckpts/ckpt-21\n",
            "Time taken  7.285935163497925\n",
            "Epoch 21, Loss: 0.848, Accuracy: 68.308, Val Loss: 0.976, Val Accuracy: 64.981\n",
            "________________________________________________________________________________\n",
            "Epoch  22\n",
            "Saved checkpoint for epoch 22: tf_ckpts/ckpt-22\n",
            "Time taken  7.576024055480957\n",
            "Epoch 22, Loss: 0.845, Accuracy: 68.343, Val Loss: 0.946, Val Accuracy: 64.652\n",
            "________________________________________________________________________________\n",
            "Epoch  23\n",
            "Saved checkpoint for epoch 23: tf_ckpts/ckpt-23\n",
            "Time taken  7.225688219070435\n",
            "Epoch 23, Loss: 0.840, Accuracy: 68.599, Val Loss: 0.910, Val Accuracy: 66.329\n",
            "________________________________________________________________________________\n",
            "Epoch  24\n",
            "Saved checkpoint for epoch 24: tf_ckpts/ckpt-24\n",
            "Time taken  7.403748512268066\n",
            "Epoch 24, Loss: 0.834, Accuracy: 68.673, Val Loss: 0.960, Val Accuracy: 63.957\n",
            "________________________________________________________________________________\n",
            "Epoch  25\n",
            "Saved checkpoint for epoch 25: tf_ckpts/ckpt-25\n",
            "Time taken  7.300802946090698\n",
            "Epoch 25, Loss: 0.836, Accuracy: 68.520, Val Loss: 0.969, Val Accuracy: 64.513\n",
            "________________________________________________________________________________\n",
            "Epoch  26\n",
            "Saved checkpoint for epoch 26: tf_ckpts/ckpt-26\n",
            "Time taken  7.010425806045532\n",
            "Epoch 26, Loss: 0.832, Accuracy: 68.690, Val Loss: 0.939, Val Accuracy: 64.732\n",
            "________________________________________________________________________________\n",
            "Epoch  27\n",
            "Saved checkpoint for epoch 27: tf_ckpts/ckpt-27\n",
            "Time taken  7.0638203620910645\n",
            "Epoch 27, Loss: 0.830, Accuracy: 68.710, Val Loss: 0.898, Val Accuracy: 64.904\n",
            "________________________________________________________________________________\n",
            "Epoch  28\n",
            "Saved checkpoint for epoch 28: tf_ckpts/ckpt-28\n",
            "Time taken  7.2963502407073975\n",
            "Epoch 28, Loss: 0.826, Accuracy: 68.756, Val Loss: 1.001, Val Accuracy: 63.073\n",
            "________________________________________________________________________________\n",
            "Epoch  29\n",
            "Saved checkpoint for epoch 29: tf_ckpts/ckpt-29\n",
            "Time taken  7.24605655670166\n",
            "Epoch 29, Loss: 0.826, Accuracy: 68.845, Val Loss: 0.909, Val Accuracy: 65.645\n",
            "________________________________________________________________________________\n",
            "Epoch  30\n",
            "Saved checkpoint for epoch 30: tf_ckpts/ckpt-30\n",
            "Time taken  7.17319393157959\n",
            "Epoch 30, Loss: 0.821, Accuracy: 68.995, Val Loss: 0.929, Val Accuracy: 65.997\n",
            "________________________________________________________________________________\n",
            "Epoch  31\n",
            "Saved checkpoint for epoch 31: tf_ckpts/ckpt-31\n",
            "Time taken  7.280449628829956\n",
            "Epoch 31, Loss: 0.822, Accuracy: 68.836, Val Loss: 0.953, Val Accuracy: 64.327\n",
            "________________________________________________________________________________\n",
            "Epoch  32\n",
            "Saved checkpoint for epoch 32: tf_ckpts/ckpt-32\n",
            "Time taken  7.006879568099976\n",
            "Epoch 32, Loss: 0.817, Accuracy: 69.009, Val Loss: 0.992, Val Accuracy: 66.069\n",
            "________________________________________________________________________________\n",
            "Epoch  33\n",
            "Saved checkpoint for epoch 33: tf_ckpts/ckpt-33\n",
            "Time taken  7.247586965560913\n",
            "Epoch 33, Loss: 0.818, Accuracy: 68.933, Val Loss: 0.965, Val Accuracy: 63.335\n",
            "________________________________________________________________________________\n",
            "Epoch  34\n",
            "Saved checkpoint for epoch 34: tf_ckpts/ckpt-34\n",
            "Time taken  7.104877233505249\n",
            "Epoch 34, Loss: 0.821, Accuracy: 68.768, Val Loss: 0.964, Val Accuracy: 63.067\n",
            "________________________________________________________________________________\n",
            "Epoch  35\n",
            "Saved checkpoint for epoch 35: tf_ckpts/ckpt-35\n",
            "Time taken  7.241483449935913\n",
            "Epoch 35, Loss: 0.814, Accuracy: 69.068, Val Loss: 1.077, Val Accuracy: 63.928\n",
            "________________________________________________________________________________\n",
            "Epoch  36\n",
            "Saved checkpoint for epoch 36: tf_ckpts/ckpt-36\n",
            "Time taken  7.162634611129761\n",
            "Epoch 36, Loss: 0.816, Accuracy: 68.906, Val Loss: 0.927, Val Accuracy: 64.988\n",
            "________________________________________________________________________________\n",
            "Epoch  37\n",
            "Saved checkpoint for epoch 37: tf_ckpts/ckpt-37\n",
            "Time taken  7.372175455093384\n",
            "Epoch 37, Loss: 0.812, Accuracy: 69.114, Val Loss: 0.891, Val Accuracy: 66.223\n",
            "________________________________________________________________________________\n",
            "Epoch  38\n",
            "Saved checkpoint for epoch 38: tf_ckpts/ckpt-38\n",
            "Time taken  7.255686044692993\n",
            "Epoch 38, Loss: 0.810, Accuracy: 69.138, Val Loss: 0.991, Val Accuracy: 62.219\n",
            "________________________________________________________________________________\n",
            "Epoch  39\n",
            "Saved checkpoint for epoch 39: tf_ckpts/ckpt-39\n",
            "Time taken  7.31021785736084\n",
            "Epoch 39, Loss: 0.811, Accuracy: 69.011, Val Loss: 1.085, Val Accuracy: 63.773\n",
            "________________________________________________________________________________\n",
            "Epoch  40\n",
            "Saved checkpoint for epoch 40: tf_ckpts/ckpt-40\n",
            "Time taken  7.305400848388672\n",
            "Epoch 40, Loss: 0.807, Accuracy: 69.228, Val Loss: 0.907, Val Accuracy: 66.654\n",
            "Validation accuracy increased from 66.465 to 66.654. Saving model weights.\n",
            "________________________________________________________________________________\n",
            "Epoch  41\n",
            "Saved checkpoint for epoch 41: tf_ckpts/ckpt-41\n",
            "Time taken  7.136502981185913\n",
            "Epoch 41, Loss: 0.808, Accuracy: 69.203, Val Loss: 1.068, Val Accuracy: 61.955\n",
            "________________________________________________________________________________\n",
            "Epoch  42\n",
            "Saved checkpoint for epoch 42: tf_ckpts/ckpt-42\n",
            "Time taken  7.324802875518799\n",
            "Epoch 42, Loss: 0.805, Accuracy: 69.141, Val Loss: 0.978, Val Accuracy: 65.293\n",
            "________________________________________________________________________________\n",
            "Epoch  43\n",
            "Saved checkpoint for epoch 43: tf_ckpts/ckpt-43\n",
            "Time taken  7.171260595321655\n",
            "Epoch 43, Loss: 0.805, Accuracy: 69.147, Val Loss: 0.942, Val Accuracy: 62.945\n",
            "________________________________________________________________________________\n",
            "Epoch  44\n",
            "Saved checkpoint for epoch 44: tf_ckpts/ckpt-44\n",
            "Time taken  7.219796419143677\n",
            "Epoch 44, Loss: 0.804, Accuracy: 69.146, Val Loss: 1.552, Val Accuracy: 42.245\n",
            "________________________________________________________________________________\n",
            "Epoch  45\n",
            "Saved checkpoint for epoch 45: tf_ckpts/ckpt-45\n",
            "Time taken  7.327098369598389\n",
            "Epoch 45, Loss: 0.803, Accuracy: 69.287, Val Loss: 0.936, Val Accuracy: 61.746\n",
            "________________________________________________________________________________\n",
            "Epoch  46\n",
            "Saved checkpoint for epoch 46: tf_ckpts/ckpt-46\n",
            "Time taken  7.3458778858184814\n",
            "Epoch 46, Loss: 0.801, Accuracy: 69.297, Val Loss: 0.892, Val Accuracy: 64.713\n",
            "________________________________________________________________________________\n",
            "Epoch  47\n",
            "Saved checkpoint for epoch 47: tf_ckpts/ckpt-47\n",
            "Time taken  7.232350587844849\n",
            "Epoch 47, Loss: 0.801, Accuracy: 69.298, Val Loss: 0.936, Val Accuracy: 63.779\n",
            "________________________________________________________________________________\n",
            "Epoch  48\n",
            "Saved checkpoint for epoch 48: tf_ckpts/ckpt-48\n",
            "Time taken  7.501100063323975\n",
            "Epoch 48, Loss: 0.805, Accuracy: 69.176, Val Loss: 1.260, Val Accuracy: 61.539\n",
            "________________________________________________________________________________\n",
            "Epoch  49\n",
            "Saved checkpoint for epoch 49: tf_ckpts/ckpt-49\n",
            "Time taken  7.382242918014526\n",
            "Epoch 49, Loss: 0.801, Accuracy: 69.260, Val Loss: 0.927, Val Accuracy: 63.075\n",
            "________________________________________________________________________________\n",
            "Epoch  50\n",
            "Saved checkpoint for epoch 50: tf_ckpts/ckpt-50\n",
            "Time taken  7.142063617706299\n",
            "Epoch 50, Loss: 0.802, Accuracy: 69.122, Val Loss: 1.044, Val Accuracy: 60.211\n",
            "________________________________________________________________________________\n"
          ],
          "name": "stdout"
        }
      ]
    },
    {
      "cell_type": "code",
      "metadata": {
        "colab": {
          "base_uri": "https://localhost:8080/",
          "height": 37
        },
        "id": "hVH-7L79_4IQ",
        "outputId": "80409d24-c0e3-4656-8275-a74ceae0b71d"
      },
      "source": [
        "display(Image('Pretrained Encoder.png'))"
      ],
      "execution_count": null,
      "outputs": [
        {
          "output_type": "display_data",
          "data": {
            "image/png": "Pretrained Encoder.png",
            "text/plain": [
              "<IPython.core.display.Image object>"
            ]
          },
          "metadata": {
            "tags": []
          }
        }
      ]
    },
    {
      "cell_type": "code",
      "metadata": {
        "id": "oKLs4Yyu_4IR"
      },
      "source": [
        "# Loading the weights of the best model\n",
        "model.load_weights('pspnet_weights-epoch-40.hdf5')"
      ],
      "execution_count": null,
      "outputs": []
    },
    {
      "cell_type": "code",
      "metadata": {
        "id": "zA-SKwNz_4IR"
      },
      "source": [
        "def predict(model,image_path):\n",
        "    \"\"\"\n",
        "    This function will take the model which is going to be used to predict the image and the image path of \n",
        "    the input image as inputs and predict the mask\n",
        "    It returns the true mask and predicted mask\n",
        "    \"\"\"\n",
        "    # Getting the datapoint\n",
        "    # This function will load the image and its annotation (mask) and return a dictionary.\n",
        "    datapoint = parse_image(image_path)\n",
        "    # Normalizing the resizing the datapoint\n",
        "    input_image,image_mask = load_image_test(datapoint)\n",
        "    # As the model takes input with 4 dimensions (batch_size, rows, columns, channels),\n",
        "    # and the shape of the input image is (rows, columns, channels)\n",
        "    # we will expand the first dimension so we will get the shape as  (1, rows, columns, channels)\n",
        "    img = tf.expand_dims(input_image, 0)\n",
        "    # Predicting the image by passing it to the model\n",
        "    prediction = model(img)\n",
        "    # The model will predict 8 outputs for each pixel\n",
        "    # We have to get the maximum value out of it\n",
        "    prediction = tf.argmax(prediction, axis=-1)\n",
        "    prediction = tf.squeeze(prediction, axis = 0)\n",
        "    pred_mask = tf.expand_dims(prediction, axis=-1)\n",
        "    # Displaying the input image, true mask, predicted mask\n",
        "    #display_sample([input_image, image_mask, pred_mask])\n",
        "    return image_mask, pred_mask"
      ],
      "execution_count": null,
      "outputs": []
    },
    {
      "cell_type": "code",
      "metadata": {
        "id": "IPdg9dkK_4IS"
      },
      "source": [
        "# Reference -> https://github.com/saisandeepNSS/IDD_SemanticSegmentation\n",
        "\n",
        "def IoU(y_i,y_pred):\n",
        "    # This function calculates the mean Intersection over Union\n",
        "    # Mean IoU = TP/(FN + TP + FP)\n",
        "    # This list will save the IoU of all the classes\n",
        "    IoUs = []\n",
        "    # Defining the number of classes which the model has predicted\n",
        "    n_classes = 8\n",
        "    for c in range(n_classes):\n",
        "        # Calculating the True Positives\n",
        "        TP = np.sum((y_i == c)&(y_pred==c))\n",
        "        # Calculating the False Positives\n",
        "        FP = np.sum((y_i != c)&(y_pred==c))\n",
        "        # Calculating the False Negatives\n",
        "        FN = np.sum((y_i == c)&(y_pred!= c))\n",
        "        # Calculating the IoU for the particular class\n",
        "        IoU = TP/float(TP + FP + FN)\n",
        "        # Printing the outputs\n",
        "        # Uncomment the print statement below when you want to analyze the results for each class\n",
        "        #print(\"class {:02.0f}: #TP={:6.0f}, #FP={:6.0f}, #FN={:5.0f}, IoU={:4.3f}\".format(c,TP,FP,FN,IoU))\n",
        "        # Appending the IoU to the list as it mean needs to be calculated later\n",
        "        if(math.isnan(IoU)):\n",
        "            IoUs.append(0)\n",
        "            continue\n",
        "        IoUs.append(IoU)\n",
        "    # Calculating the mean\n",
        "    mIoU = np.mean(IoUs)\n",
        "    #print(\"_________________\")\n",
        "    #print(\"Mean IoU: {:4.3f}\".format(mIoU))\n",
        "    return mIoU"
      ],
      "execution_count": null,
      "outputs": []
    },
    {
      "cell_type": "markdown",
      "metadata": {
        "id": "XlaUSTF3_4IS"
      },
      "source": [
        "### Validation mIoU for PSPNet with Pretrained Encoder  "
      ]
    },
    {
      "cell_type": "code",
      "metadata": {
        "id": "RiQfsPKB_4IT"
      },
      "source": [
        "img_val = dataset_path + 'leftImg8bit/val/'\n",
        "val_paths = glob(img_val+'*/*_image.jpg')"
      ],
      "execution_count": null,
      "outputs": []
    },
    {
      "cell_type": "code",
      "metadata": {
        "id": "G84FVntz_4IT"
      },
      "source": [
        "mIoU = []\n",
        "for path in val_paths:\n",
        "    true_mask, pred_mask = predict(model,path)\n",
        "    mIoU.append(IoU(true_mask, pred_mask))"
      ],
      "execution_count": null,
      "outputs": []
    },
    {
      "cell_type": "code",
      "metadata": {
        "colab": {
          "base_uri": "https://localhost:8080/"
        },
        "id": "8bsXIkxg_4IT",
        "outputId": "d892955e-b2ee-4781-9798-07c64ec9c728"
      },
      "source": [
        "print(\"Validation mIoU = \",sum(mIoU)/len(mIoU))"
      ],
      "execution_count": null,
      "outputs": [
        {
          "output_type": "stream",
          "text": [
            "Validation mIoU =  0.24133502200990242\n"
          ],
          "name": "stdout"
        }
      ]
    },
    {
      "cell_type": "markdown",
      "metadata": {
        "id": "HDPZazRz_4IT"
      },
      "source": [
        "# Importing PSPNet from existing official models"
      ]
    },
    {
      "cell_type": "code",
      "metadata": {
        "id": "4goO_tnLuNAb"
      },
      "source": [
        "import shutil\n",
        "import tensorflow as tf\n",
        "from tqdm import tqdm\n",
        "\n",
        "for i in tqdm(train_paths):\n",
        "    img = i.split('/')[-1]\n",
        "    shutil.copy(i,'dataset_train/'+img)\n",
        "    mask_path = tf.strings.regex_replace(i, \"leftImg8bit\", \"gtFine\")\n",
        "    mask_path = tf.strings.regex_replace(mask_path, \"_image.jpg\", \"_label.png\")\n",
        "    mask = img.split('_')[0]+'_label.png'\n",
        "    shutil.copy(mask_path.numpy(),'dataset_train/'+mask)"
      ],
      "execution_count": null,
      "outputs": []
    },
    {
      "cell_type": "code",
      "metadata": {
        "colab": {
          "base_uri": "https://localhost:8080/",
          "height": 34
        },
        "id": "OeblsmaAuY2Q",
        "outputId": "23c5b7ee-bf35-4af6-ac37-dec100eab1ef"
      },
      "source": [
        "for i in tqdm(val_paths):\n",
        "    img = i.split('/')[-1]\n",
        "    shutil.copy(i,'dataset_val/'+img)\n",
        "    mask_path = tf.strings.regex_replace(i, \"leftImg8bit\", \"gtFine\")\n",
        "    mask_path = tf.strings.regex_replace(mask_path, \"_image.jpg\", \"_label.png\")\n",
        "    mask = img.split('_')[0]+'_label.png'\n",
        "    shutil.copy(mask_path.numpy(),'dataset_val/'+mask)"
      ],
      "execution_count": null,
      "outputs": [
        {
          "output_type": "stream",
          "text": [
            "100%|██████████| 204/204 [04:46<00:00,  1.40s/it]\n"
          ],
          "name": "stderr"
        }
      ]
    },
    {
      "cell_type": "code",
      "metadata": {
        "id": "stOBgVx1tqVm"
      },
      "source": [
        "# here dir_path is the route directory where all the images and segmentation maps are there\n",
        "train_path = \"dataset_train\"\n",
        "X_train = []\n",
        "for i in os.listdir(train_path):\n",
        "    X_train.append(i.split('.')[0])\n",
        "\n",
        "val_path = \"dataset_val\"\n",
        "X_test = []\n",
        "for i in os.listdir(val_path):\n",
        "    X_test.append(i.split('.')[0])"
      ],
      "execution_count": null,
      "outputs": []
    },
    {
      "cell_type": "code",
      "metadata": {
        "colab": {
          "base_uri": "https://localhost:8080/",
          "height": 356
        },
        "id": "GbzLx6nQbuoR",
        "scrolled": true,
        "outputId": "75b2397d-04cb-4607-9276-c91d4d7890f5"
      },
      "source": [
        "!pip install segmentation-models"
      ],
      "execution_count": null,
      "outputs": [
        {
          "output_type": "stream",
          "text": [
            "Requirement already satisfied: segmentation-models in /usr/local/lib/python3.6/dist-packages (1.0.1)\n",
            "Requirement already satisfied: efficientnet==1.0.0 in /usr/local/lib/python3.6/dist-packages (from segmentation-models) (1.0.0)\n",
            "Requirement already satisfied: image-classifiers==1.0.0 in /usr/local/lib/python3.6/dist-packages (from segmentation-models) (1.0.0)\n",
            "Requirement already satisfied: keras-applications<=1.0.8,>=1.0.7 in /usr/local/lib/python3.6/dist-packages (from segmentation-models) (1.0.8)\n",
            "Requirement already satisfied: scikit-image in /usr/local/lib/python3.6/dist-packages (from efficientnet==1.0.0->segmentation-models) (0.16.2)\n",
            "Requirement already satisfied: h5py in /usr/local/lib/python3.6/dist-packages (from keras-applications<=1.0.8,>=1.0.7->segmentation-models) (2.10.0)\n",
            "Requirement already satisfied: numpy>=1.9.1 in /usr/local/lib/python3.6/dist-packages (from keras-applications<=1.0.8,>=1.0.7->segmentation-models) (1.18.4)\n",
            "Requirement already satisfied: pillow>=4.3.0 in /usr/local/lib/python3.6/dist-packages (from scikit-image->efficientnet==1.0.0->segmentation-models) (7.0.0)\n",
            "Requirement already satisfied: PyWavelets>=0.4.0 in /usr/local/lib/python3.6/dist-packages (from scikit-image->efficientnet==1.0.0->segmentation-models) (1.1.1)\n",
            "Requirement already satisfied: matplotlib!=3.0.0,>=2.0.0 in /usr/local/lib/python3.6/dist-packages (from scikit-image->efficientnet==1.0.0->segmentation-models) (3.2.1)\n",
            "Requirement already satisfied: scipy>=0.19.0 in /usr/local/lib/python3.6/dist-packages (from scikit-image->efficientnet==1.0.0->segmentation-models) (1.4.1)\n",
            "Requirement already satisfied: imageio>=2.3.0 in /usr/local/lib/python3.6/dist-packages (from scikit-image->efficientnet==1.0.0->segmentation-models) (2.4.1)\n",
            "Requirement already satisfied: networkx>=2.0 in /usr/local/lib/python3.6/dist-packages (from scikit-image->efficientnet==1.0.0->segmentation-models) (2.4)\n",
            "Requirement already satisfied: six in /usr/local/lib/python3.6/dist-packages (from h5py->keras-applications<=1.0.8,>=1.0.7->segmentation-models) (1.12.0)\n",
            "Requirement already satisfied: kiwisolver>=1.0.1 in /usr/local/lib/python3.6/dist-packages (from matplotlib!=3.0.0,>=2.0.0->scikit-image->efficientnet==1.0.0->segmentation-models) (1.2.0)\n",
            "Requirement already satisfied: cycler>=0.10 in /usr/local/lib/python3.6/dist-packages (from matplotlib!=3.0.0,>=2.0.0->scikit-image->efficientnet==1.0.0->segmentation-models) (0.10.0)\n",
            "Requirement already satisfied: pyparsing!=2.0.4,!=2.1.2,!=2.1.6,>=2.0.1 in /usr/local/lib/python3.6/dist-packages (from matplotlib!=3.0.0,>=2.0.0->scikit-image->efficientnet==1.0.0->segmentation-models) (2.4.7)\n",
            "Requirement already satisfied: python-dateutil>=2.1 in /usr/local/lib/python3.6/dist-packages (from matplotlib!=3.0.0,>=2.0.0->scikit-image->efficientnet==1.0.0->segmentation-models) (2.8.1)\n",
            "Requirement already satisfied: decorator>=4.3.0 in /usr/local/lib/python3.6/dist-packages (from networkx>=2.0->scikit-image->efficientnet==1.0.0->segmentation-models) (4.4.2)\n"
          ],
          "name": "stdout"
        }
      ]
    },
    {
      "cell_type": "code",
      "metadata": {
        "id": "aeJCeGIrbuoS"
      },
      "source": [
        "# we are importing the pretrained unet from the segmentation models\n",
        "# https://github.com/qubvel/segmentation_models\n",
        "import segmentation_models as sm\n",
        "from segmentation_models import PSPNet\n",
        "# sm.set_framework('tf.keras')\n",
        "tf.keras.backend.set_image_data_format('channels_last')"
      ],
      "execution_count": null,
      "outputs": []
    },
    {
      "cell_type": "code",
      "metadata": {
        "id": "XpTKEnXnbuoU",
        "scrolled": true
      },
      "source": [
        "# loading the unet model and using the resnet 34 and initilized weights with imagenet weights\n",
        "# \"classes\" :different types of classes in the dataset\n",
        "model = PSPNet('resnet34', encoder_weights='imagenet', classes=8, activation='softmax', input_shape=(192,192,3))"
      ],
      "execution_count": null,
      "outputs": []
    },
    {
      "cell_type": "code",
      "metadata": {
        "colab": {
          "base_uri": "https://localhost:8080/",
          "height": 1000
        },
        "id": "IhV3Ir5ibuoW",
        "outputId": "16b600d9-8c61-432d-f9c6-3e591f02d108"
      },
      "source": [
        "model.summary()"
      ],
      "execution_count": null,
      "outputs": [
        {
          "output_type": "stream",
          "text": [
            "Model: \"model_4\"\n",
            "__________________________________________________________________________________________________\n",
            "Layer (type)                    Output Shape         Param #     Connected to                     \n",
            "==================================================================================================\n",
            "data (InputLayer)               (None, 192, 192, 3)  0                                            \n",
            "__________________________________________________________________________________________________\n",
            "bn_data (BatchNormalization)    (None, 192, 192, 3)  9           data[0][0]                       \n",
            "__________________________________________________________________________________________________\n",
            "zero_padding2d_35 (ZeroPadding2 (None, 198, 198, 3)  0           bn_data[0][0]                    \n",
            "__________________________________________________________________________________________________\n",
            "conv0 (Conv2D)                  (None, 96, 96, 64)   9408        zero_padding2d_35[0][0]          \n",
            "__________________________________________________________________________________________________\n",
            "bn0 (BatchNormalization)        (None, 96, 96, 64)   256         conv0[0][0]                      \n",
            "__________________________________________________________________________________________________\n",
            "relu0 (Activation)              (None, 96, 96, 64)   0           bn0[0][0]                        \n",
            "__________________________________________________________________________________________________\n",
            "zero_padding2d_36 (ZeroPadding2 (None, 98, 98, 64)   0           relu0[0][0]                      \n",
            "__________________________________________________________________________________________________\n",
            "pooling0 (MaxPooling2D)         (None, 48, 48, 64)   0           zero_padding2d_36[0][0]          \n",
            "__________________________________________________________________________________________________\n",
            "stage1_unit1_bn1 (BatchNormaliz (None, 48, 48, 64)   256         pooling0[0][0]                   \n",
            "__________________________________________________________________________________________________\n",
            "stage1_unit1_relu1 (Activation) (None, 48, 48, 64)   0           stage1_unit1_bn1[0][0]           \n",
            "__________________________________________________________________________________________________\n",
            "zero_padding2d_37 (ZeroPadding2 (None, 50, 50, 64)   0           stage1_unit1_relu1[0][0]         \n",
            "__________________________________________________________________________________________________\n",
            "stage1_unit1_conv1 (Conv2D)     (None, 48, 48, 64)   36864       zero_padding2d_37[0][0]          \n",
            "__________________________________________________________________________________________________\n",
            "stage1_unit1_bn2 (BatchNormaliz (None, 48, 48, 64)   256         stage1_unit1_conv1[0][0]         \n",
            "__________________________________________________________________________________________________\n",
            "stage1_unit1_relu2 (Activation) (None, 48, 48, 64)   0           stage1_unit1_bn2[0][0]           \n",
            "__________________________________________________________________________________________________\n",
            "zero_padding2d_38 (ZeroPadding2 (None, 50, 50, 64)   0           stage1_unit1_relu2[0][0]         \n",
            "__________________________________________________________________________________________________\n",
            "stage1_unit1_conv2 (Conv2D)     (None, 48, 48, 64)   36864       zero_padding2d_38[0][0]          \n",
            "__________________________________________________________________________________________________\n",
            "stage1_unit1_sc (Conv2D)        (None, 48, 48, 64)   4096        stage1_unit1_relu1[0][0]         \n",
            "__________________________________________________________________________________________________\n",
            "add_17 (Add)                    (None, 48, 48, 64)   0           stage1_unit1_conv2[0][0]         \n",
            "                                                                 stage1_unit1_sc[0][0]            \n",
            "__________________________________________________________________________________________________\n",
            "stage1_unit2_bn1 (BatchNormaliz (None, 48, 48, 64)   256         add_17[0][0]                     \n",
            "__________________________________________________________________________________________________\n",
            "stage1_unit2_relu1 (Activation) (None, 48, 48, 64)   0           stage1_unit2_bn1[0][0]           \n",
            "__________________________________________________________________________________________________\n",
            "zero_padding2d_39 (ZeroPadding2 (None, 50, 50, 64)   0           stage1_unit2_relu1[0][0]         \n",
            "__________________________________________________________________________________________________\n",
            "stage1_unit2_conv1 (Conv2D)     (None, 48, 48, 64)   36864       zero_padding2d_39[0][0]          \n",
            "__________________________________________________________________________________________________\n",
            "stage1_unit2_bn2 (BatchNormaliz (None, 48, 48, 64)   256         stage1_unit2_conv1[0][0]         \n",
            "__________________________________________________________________________________________________\n",
            "stage1_unit2_relu2 (Activation) (None, 48, 48, 64)   0           stage1_unit2_bn2[0][0]           \n",
            "__________________________________________________________________________________________________\n",
            "zero_padding2d_40 (ZeroPadding2 (None, 50, 50, 64)   0           stage1_unit2_relu2[0][0]         \n",
            "__________________________________________________________________________________________________\n",
            "stage1_unit2_conv2 (Conv2D)     (None, 48, 48, 64)   36864       zero_padding2d_40[0][0]          \n",
            "__________________________________________________________________________________________________\n",
            "add_18 (Add)                    (None, 48, 48, 64)   0           stage1_unit2_conv2[0][0]         \n",
            "                                                                 add_17[0][0]                     \n",
            "__________________________________________________________________________________________________\n",
            "stage1_unit3_bn1 (BatchNormaliz (None, 48, 48, 64)   256         add_18[0][0]                     \n",
            "__________________________________________________________________________________________________\n",
            "stage1_unit3_relu1 (Activation) (None, 48, 48, 64)   0           stage1_unit3_bn1[0][0]           \n",
            "__________________________________________________________________________________________________\n",
            "zero_padding2d_41 (ZeroPadding2 (None, 50, 50, 64)   0           stage1_unit3_relu1[0][0]         \n",
            "__________________________________________________________________________________________________\n",
            "stage1_unit3_conv1 (Conv2D)     (None, 48, 48, 64)   36864       zero_padding2d_41[0][0]          \n",
            "__________________________________________________________________________________________________\n",
            "stage1_unit3_bn2 (BatchNormaliz (None, 48, 48, 64)   256         stage1_unit3_conv1[0][0]         \n",
            "__________________________________________________________________________________________________\n",
            "stage1_unit3_relu2 (Activation) (None, 48, 48, 64)   0           stage1_unit3_bn2[0][0]           \n",
            "__________________________________________________________________________________________________\n",
            "zero_padding2d_42 (ZeroPadding2 (None, 50, 50, 64)   0           stage1_unit3_relu2[0][0]         \n",
            "__________________________________________________________________________________________________\n",
            "stage1_unit3_conv2 (Conv2D)     (None, 48, 48, 64)   36864       zero_padding2d_42[0][0]          \n",
            "__________________________________________________________________________________________________\n",
            "add_19 (Add)                    (None, 48, 48, 64)   0           stage1_unit3_conv2[0][0]         \n",
            "                                                                 add_18[0][0]                     \n",
            "__________________________________________________________________________________________________\n",
            "stage2_unit1_bn1 (BatchNormaliz (None, 48, 48, 64)   256         add_19[0][0]                     \n",
            "__________________________________________________________________________________________________\n",
            "stage2_unit1_relu1 (Activation) (None, 48, 48, 64)   0           stage2_unit1_bn1[0][0]           \n",
            "__________________________________________________________________________________________________\n",
            "zero_padding2d_43 (ZeroPadding2 (None, 50, 50, 64)   0           stage2_unit1_relu1[0][0]         \n",
            "__________________________________________________________________________________________________\n",
            "stage2_unit1_conv1 (Conv2D)     (None, 24, 24, 128)  73728       zero_padding2d_43[0][0]          \n",
            "__________________________________________________________________________________________________\n",
            "stage2_unit1_bn2 (BatchNormaliz (None, 24, 24, 128)  512         stage2_unit1_conv1[0][0]         \n",
            "__________________________________________________________________________________________________\n",
            "stage2_unit1_relu2 (Activation) (None, 24, 24, 128)  0           stage2_unit1_bn2[0][0]           \n",
            "__________________________________________________________________________________________________\n",
            "zero_padding2d_44 (ZeroPadding2 (None, 26, 26, 128)  0           stage2_unit1_relu2[0][0]         \n",
            "__________________________________________________________________________________________________\n",
            "stage2_unit1_conv2 (Conv2D)     (None, 24, 24, 128)  147456      zero_padding2d_44[0][0]          \n",
            "__________________________________________________________________________________________________\n",
            "stage2_unit1_sc (Conv2D)        (None, 24, 24, 128)  8192        stage2_unit1_relu1[0][0]         \n",
            "__________________________________________________________________________________________________\n",
            "add_20 (Add)                    (None, 24, 24, 128)  0           stage2_unit1_conv2[0][0]         \n",
            "                                                                 stage2_unit1_sc[0][0]            \n",
            "__________________________________________________________________________________________________\n",
            "stage2_unit2_bn1 (BatchNormaliz (None, 24, 24, 128)  512         add_20[0][0]                     \n",
            "__________________________________________________________________________________________________\n",
            "stage2_unit2_relu1 (Activation) (None, 24, 24, 128)  0           stage2_unit2_bn1[0][0]           \n",
            "__________________________________________________________________________________________________\n",
            "zero_padding2d_45 (ZeroPadding2 (None, 26, 26, 128)  0           stage2_unit2_relu1[0][0]         \n",
            "__________________________________________________________________________________________________\n",
            "stage2_unit2_conv1 (Conv2D)     (None, 24, 24, 128)  147456      zero_padding2d_45[0][0]          \n",
            "__________________________________________________________________________________________________\n",
            "stage2_unit2_bn2 (BatchNormaliz (None, 24, 24, 128)  512         stage2_unit2_conv1[0][0]         \n",
            "__________________________________________________________________________________________________\n",
            "stage2_unit2_relu2 (Activation) (None, 24, 24, 128)  0           stage2_unit2_bn2[0][0]           \n",
            "__________________________________________________________________________________________________\n",
            "zero_padding2d_46 (ZeroPadding2 (None, 26, 26, 128)  0           stage2_unit2_relu2[0][0]         \n",
            "__________________________________________________________________________________________________\n",
            "stage2_unit2_conv2 (Conv2D)     (None, 24, 24, 128)  147456      zero_padding2d_46[0][0]          \n",
            "__________________________________________________________________________________________________\n",
            "add_21 (Add)                    (None, 24, 24, 128)  0           stage2_unit2_conv2[0][0]         \n",
            "                                                                 add_20[0][0]                     \n",
            "__________________________________________________________________________________________________\n",
            "stage2_unit3_bn1 (BatchNormaliz (None, 24, 24, 128)  512         add_21[0][0]                     \n",
            "__________________________________________________________________________________________________\n",
            "stage2_unit3_relu1 (Activation) (None, 24, 24, 128)  0           stage2_unit3_bn1[0][0]           \n",
            "__________________________________________________________________________________________________\n",
            "zero_padding2d_47 (ZeroPadding2 (None, 26, 26, 128)  0           stage2_unit3_relu1[0][0]         \n",
            "__________________________________________________________________________________________________\n",
            "stage2_unit3_conv1 (Conv2D)     (None, 24, 24, 128)  147456      zero_padding2d_47[0][0]          \n",
            "__________________________________________________________________________________________________\n",
            "stage2_unit3_bn2 (BatchNormaliz (None, 24, 24, 128)  512         stage2_unit3_conv1[0][0]         \n",
            "__________________________________________________________________________________________________\n",
            "stage2_unit3_relu2 (Activation) (None, 24, 24, 128)  0           stage2_unit3_bn2[0][0]           \n",
            "__________________________________________________________________________________________________\n",
            "zero_padding2d_48 (ZeroPadding2 (None, 26, 26, 128)  0           stage2_unit3_relu2[0][0]         \n",
            "__________________________________________________________________________________________________\n",
            "stage2_unit3_conv2 (Conv2D)     (None, 24, 24, 128)  147456      zero_padding2d_48[0][0]          \n",
            "__________________________________________________________________________________________________\n",
            "add_22 (Add)                    (None, 24, 24, 128)  0           stage2_unit3_conv2[0][0]         \n",
            "                                                                 add_21[0][0]                     \n",
            "__________________________________________________________________________________________________\n",
            "stage2_unit4_bn1 (BatchNormaliz (None, 24, 24, 128)  512         add_22[0][0]                     \n",
            "__________________________________________________________________________________________________\n",
            "stage2_unit4_relu1 (Activation) (None, 24, 24, 128)  0           stage2_unit4_bn1[0][0]           \n",
            "__________________________________________________________________________________________________\n",
            "zero_padding2d_49 (ZeroPadding2 (None, 26, 26, 128)  0           stage2_unit4_relu1[0][0]         \n",
            "__________________________________________________________________________________________________\n",
            "stage2_unit4_conv1 (Conv2D)     (None, 24, 24, 128)  147456      zero_padding2d_49[0][0]          \n",
            "__________________________________________________________________________________________________\n",
            "stage2_unit4_bn2 (BatchNormaliz (None, 24, 24, 128)  512         stage2_unit4_conv1[0][0]         \n",
            "__________________________________________________________________________________________________\n",
            "stage2_unit4_relu2 (Activation) (None, 24, 24, 128)  0           stage2_unit4_bn2[0][0]           \n",
            "__________________________________________________________________________________________________\n",
            "zero_padding2d_50 (ZeroPadding2 (None, 26, 26, 128)  0           stage2_unit4_relu2[0][0]         \n",
            "__________________________________________________________________________________________________\n",
            "stage2_unit4_conv2 (Conv2D)     (None, 24, 24, 128)  147456      zero_padding2d_50[0][0]          \n",
            "__________________________________________________________________________________________________\n",
            "add_23 (Add)                    (None, 24, 24, 128)  0           stage2_unit4_conv2[0][0]         \n",
            "                                                                 add_22[0][0]                     \n",
            "__________________________________________________________________________________________________\n",
            "stage3_unit1_bn1 (BatchNormaliz (None, 24, 24, 128)  512         add_23[0][0]                     \n",
            "__________________________________________________________________________________________________\n",
            "stage3_unit1_relu1 (Activation) (None, 24, 24, 128)  0           stage3_unit1_bn1[0][0]           \n",
            "__________________________________________________________________________________________________\n",
            "psp_level1_pooling (AveragePool (None, 1, 1, 128)    0           stage3_unit1_relu1[0][0]         \n",
            "__________________________________________________________________________________________________\n",
            "psp_level2_pooling (AveragePool (None, 2, 2, 128)    0           stage3_unit1_relu1[0][0]         \n",
            "__________________________________________________________________________________________________\n",
            "psp_level3_pooling (AveragePool (None, 3, 3, 128)    0           stage3_unit1_relu1[0][0]         \n",
            "__________________________________________________________________________________________________\n",
            "psp_level6_pooling (AveragePool (None, 6, 6, 128)    0           stage3_unit1_relu1[0][0]         \n",
            "__________________________________________________________________________________________________\n",
            "psp_level1_conv (Conv2D)        (None, 1, 1, 512)    65536       psp_level1_pooling[0][0]         \n",
            "__________________________________________________________________________________________________\n",
            "psp_level2_conv (Conv2D)        (None, 2, 2, 512)    65536       psp_level2_pooling[0][0]         \n",
            "__________________________________________________________________________________________________\n",
            "psp_level3_conv (Conv2D)        (None, 3, 3, 512)    65536       psp_level3_pooling[0][0]         \n",
            "__________________________________________________________________________________________________\n",
            "psp_level6_conv (Conv2D)        (None, 6, 6, 512)    65536       psp_level6_pooling[0][0]         \n",
            "__________________________________________________________________________________________________\n",
            "psp_level1_bn (BatchNormalizati (None, 1, 1, 512)    2048        psp_level1_conv[0][0]            \n",
            "__________________________________________________________________________________________________\n",
            "psp_level2_bn (BatchNormalizati (None, 2, 2, 512)    2048        psp_level2_conv[0][0]            \n",
            "__________________________________________________________________________________________________\n",
            "psp_level3_bn (BatchNormalizati (None, 3, 3, 512)    2048        psp_level3_conv[0][0]            \n",
            "__________________________________________________________________________________________________\n",
            "psp_level6_bn (BatchNormalizati (None, 6, 6, 512)    2048        psp_level6_conv[0][0]            \n",
            "__________________________________________________________________________________________________\n",
            "psp_level1_relu (Activation)    (None, 1, 1, 512)    0           psp_level1_bn[0][0]              \n",
            "__________________________________________________________________________________________________\n",
            "psp_level2_relu (Activation)    (None, 2, 2, 512)    0           psp_level2_bn[0][0]              \n",
            "__________________________________________________________________________________________________\n",
            "psp_level3_relu (Activation)    (None, 3, 3, 512)    0           psp_level3_bn[0][0]              \n",
            "__________________________________________________________________________________________________\n",
            "psp_level6_relu (Activation)    (None, 6, 6, 512)    0           psp_level6_bn[0][0]              \n",
            "__________________________________________________________________________________________________\n",
            "psp_level1_upsampling (UpSampli (None, 24, 24, 512)  0           psp_level1_relu[0][0]            \n",
            "__________________________________________________________________________________________________\n",
            "psp_level2_upsampling (UpSampli (None, 24, 24, 512)  0           psp_level2_relu[0][0]            \n",
            "__________________________________________________________________________________________________\n",
            "psp_level3_upsampling (UpSampli (None, 24, 24, 512)  0           psp_level3_relu[0][0]            \n",
            "__________________________________________________________________________________________________\n",
            "psp_level6_upsampling (UpSampli (None, 24, 24, 512)  0           psp_level6_relu[0][0]            \n",
            "__________________________________________________________________________________________________\n",
            "psp_concat (Concatenate)        (None, 24, 24, 2176) 0           stage3_unit1_relu1[0][0]         \n",
            "                                                                 psp_level1_upsampling[0][0]      \n",
            "                                                                 psp_level2_upsampling[0][0]      \n",
            "                                                                 psp_level3_upsampling[0][0]      \n",
            "                                                                 psp_level6_upsampling[0][0]      \n",
            "__________________________________________________________________________________________________\n",
            "aggregation_conv (Conv2D)       (None, 24, 24, 512)  1114112     psp_concat[0][0]                 \n",
            "__________________________________________________________________________________________________\n",
            "aggregation_bn (BatchNormalizat (None, 24, 24, 512)  2048        aggregation_conv[0][0]           \n",
            "__________________________________________________________________________________________________\n",
            "aggregation_relu (Activation)   (None, 24, 24, 512)  0           aggregation_bn[0][0]             \n",
            "__________________________________________________________________________________________________\n",
            "final_conv (Conv2D)             (None, 24, 24, 8)    36872       aggregation_relu[0][0]           \n",
            "__________________________________________________________________________________________________\n",
            "final_upsampling (UpSampling2D) (None, 192, 192, 8)  0           final_conv[0][0]                 \n",
            "__________________________________________________________________________________________________\n",
            "softmax (Activation)            (None, 192, 192, 8)  0           final_upsampling[0][0]           \n",
            "==================================================================================================\n",
            "Total params: 2,778,321\n",
            "Trainable params: 2,770,123\n",
            "Non-trainable params: 8,198\n",
            "__________________________________________________________________________________________________\n"
          ],
          "name": "stdout"
        }
      ]
    },
    {
      "cell_type": "code",
      "metadata": {
        "id": "1YL4QZdAbuoZ"
      },
      "source": [
        "# import imgaug.augmenters as iaa\n",
        "# For the assignment choose any 4 augumentation techniques\n",
        "# check the imgaug documentations for more augmentations\n",
        "aug2 = iaa.Fliplr(1)\n",
        "aug3 = iaa.Flipud(1)\n",
        "aug4 = iaa.Emboss(alpha=(1), strength=1)\n",
        "aug5 = iaa.DirectedEdgeDetect(alpha=(0.8), direction=(1.0))\n",
        "aug6 = iaa.Sharpen(alpha=(1.0), lightness=(1.5))"
      ],
      "execution_count": null,
      "outputs": []
    },
    {
      "cell_type": "code",
      "metadata": {
        "id": "nweraVpDbuoa"
      },
      "source": [
        "def visualize(**images):\n",
        "    n = len(images)\n",
        "    plt.figure(figsize=(16, 5))\n",
        "    for i, (name, image) in enumerate(images.items()):\n",
        "        plt.subplot(1, n, i + 1)\n",
        "        plt.xticks([])\n",
        "        plt.yticks([])\n",
        "        plt.title(' '.join(name.split('_')).title())\n",
        "        if i==1:\n",
        "            plt.imshow(image, cmap='gray', vmax=1, vmin=0)\n",
        "        else:\n",
        "            plt.imshow(image)\n",
        "    plt.show()\n",
        "    \n",
        "def normalize_image(img):\n",
        "    img = img/255\n",
        "    return img\n",
        "\n",
        "class Dataset:\n",
        "    \n",
        "    CLASSES = [0,1,2,3,4,5,6,7]\n",
        "    \n",
        "    def __init__(self, directory, img_files,  classes):\n",
        "        \n",
        "        self.img_ids = img_files\n",
        "        self.images_fps   = [os.path.join(directory, image_id.split('_')[0]+'_image.jpg') for image_id in self.img_ids]\n",
        "        self.masks_fps    = [os.path.join(directory, image_id.split('_')[0]+'_label.png') for image_id in self.img_ids]\n",
        "        self.class_values = [0,1,2,3,4,5,6,7]\n",
        "        \n",
        "    def __getitem__(self, i):\n",
        "        \n",
        "        # read data\n",
        "        image = cv2.imread(self.images_fps[i], cv2.IMREAD_UNCHANGED)\n",
        "        mask  = cv2.imread(self.masks_fps[i], cv2.IMREAD_UNCHANGED)\n",
        "        image = np.float32(cv2.resize(image,(192,192)))\n",
        "        mask = np.float32(cv2.resize(mask,(192,192)))\n",
        "        mask[mask==255] = 7\n",
        "        image = normalize_image(image)\n",
        "\n",
        "        image_masks = [(mask == v) for v in self.class_values]\n",
        "        image_mask = np.stack(image_masks, axis=-1).astype('float')\n",
        "\n",
        "        a = np.random.uniform()\n",
        "        if a<0.2:\n",
        "            image = aug2.augment_image(image)\n",
        "            image_mask = aug2.augment_image(image_mask)\n",
        "        elif a<0.4:\n",
        "            image = aug3.augment_image(image)\n",
        "            image_mask = aug3.augment_image(image_mask)\n",
        "        elif a<0.6:\n",
        "            image = aug4.augment_image(image)\n",
        "            image_mask = aug4.augment_image(image_mask)\n",
        "        elif a<0.8:\n",
        "            image = aug5.augment_image(image)\n",
        "            image_mask = image_mask\n",
        "        else:\n",
        "            image = aug6.augment_image(image)\n",
        "            image_mask = aug6.augment_image(image_mask)\n",
        "\n",
        "        return image, image_mask\n",
        "        \n",
        "    def __len__(self):\n",
        "        return len(self.img_ids)\n",
        "    \n",
        "    \n",
        "class Dataloder(tf.keras.utils.Sequence):    \n",
        "    def __init__(self, dataset, batch_size=1, shuffle=False):\n",
        "        self.dataset = dataset\n",
        "        self.batch_size = batch_size\n",
        "        self.shuffle = shuffle\n",
        "        self.indexes = np.arange(len(dataset))\n",
        "\n",
        "    def __getitem__(self, i):       \n",
        "        # collect batch data\n",
        "        start = i * self.batch_size\n",
        "        stop = (i + 1) * self.batch_size\n",
        "        data = []\n",
        "        for j in range(start, stop):\n",
        "            data.append(self.dataset[j])\n",
        "        \n",
        "        batch = [np.stack(samples, axis=0) for samples in zip(*data)]\n",
        "        \n",
        "        return tuple(batch)\n",
        "    \n",
        "    def __len__(self):\n",
        "        return len(self.indexes) // self.batch_size\n",
        "    \n",
        "    def on_epoch_end(self):\n",
        "        if self.shuffle:\n",
        "            self.indexes = np.random.permutation(self.indexes)"
      ],
      "execution_count": null,
      "outputs": []
    },
    {
      "cell_type": "code",
      "metadata": {
        "id": "XT3hj1dGbuod"
      },
      "source": [
        "# https://github.com/qubvel/segmentation_models\n",
        "import segmentation_models as sm\n",
        "from segmentation_models.metrics import iou_score\n",
        "from segmentation_models import Unet\n",
        "\n",
        "optim = tf.keras.optimizers.Adam(0.0001)\n",
        "\n",
        "focal_loss = sm.losses.cce_dice_loss\n",
        "\n",
        "# actulally total_loss can be imported directly from library, above example just show you how to manipulate with losses\n",
        "# total_loss = sm.losses.binary_focal_dice_loss \n",
        "# or total_loss = sm.losses.categorical_focal_dice_loss \n",
        "\n",
        "model.compile(optim, focal_loss, metrics=['accuracy',iou_score])"
      ],
      "execution_count": null,
      "outputs": []
    },
    {
      "cell_type": "code",
      "metadata": {
        "id": "c6MdKt4Tbuof"
      },
      "source": [
        "# Dataset for train images\n",
        "CLASSES = ['Drivable', 'Non_Drivable', 'Living_things', 'Vehicles', 'Road_side_objects', 'Far_objects', 'Sky', 'Other']\n",
        "    \n",
        "train_dataset = Dataset(train_path, X_train, classes=CLASSES)\n",
        "test_dataset  = Dataset(val_path, X_test, classes=CLASSES)"
      ],
      "execution_count": null,
      "outputs": []
    },
    {
      "cell_type": "code",
      "metadata": {
        "colab": {
          "base_uri": "https://localhost:8080/",
          "height": 34
        },
        "id": "HDa3vPNMnoZe",
        "outputId": "68dd94f5-b913-4693-8e7e-99bd1ffc8b97"
      },
      "source": [
        "train_dataloader = Dataloder(train_dataset, batch_size=16, shuffle=True)\n",
        "test_dataloader = Dataloder(test_dataset, batch_size=16, shuffle=True)\n",
        "\n",
        "print(train_dataloader[0][0].shape)\n",
        "assert train_dataloader[0][0].shape == (16, 192, 192, 3)\n",
        "assert train_dataloader[0][1].shape == (16, 192, 192, 8)"
      ],
      "execution_count": null,
      "outputs": [
        {
          "output_type": "stream",
          "text": [
            "(16, 192, 192, 3)\n"
          ],
          "name": "stdout"
        }
      ]
    },
    {
      "cell_type": "code",
      "metadata": {
        "colab": {
          "base_uri": "https://localhost:8080/",
          "height": 1000
        },
        "id": "eigCK3TZbuoh",
        "outputId": "b2ff08b5-7ad2-4314-d786-651343f0064e"
      },
      "source": [
        "history = model.fit_generator(train_dataloader, steps_per_epoch=len(train_dataloader), epochs=50,\\\n",
        "                              validation_data=test_dataloader)"
      ],
      "execution_count": null,
      "outputs": [
        {
          "output_type": "stream",
          "text": [
            "Epoch 1/50\n",
            "172/172 [==============================] - 56s 324ms/step - loss: 0.6927 - accuracy: 0.7007 - iou_score: 0.3307 - val_loss: 1.1258 - val_accuracy: 0.3242 - val_iou_score: 0.0811\n",
            "Epoch 2/50\n",
            "172/172 [==============================] - 50s 292ms/step - loss: 0.5616 - accuracy: 0.7755 - iou_score: 0.4275 - val_loss: 1.3182 - val_accuracy: 0.3515 - val_iou_score: 0.0993\n",
            "Epoch 3/50\n",
            "172/172 [==============================] - 50s 292ms/step - loss: 0.5139 - accuracy: 0.7985 - iou_score: 0.4656 - val_loss: 1.1319 - val_accuracy: 0.4567 - val_iou_score: 0.1664\n",
            "Epoch 4/50\n",
            "172/172 [==============================] - 50s 293ms/step - loss: 0.4784 - accuracy: 0.8138 - iou_score: 0.4964 - val_loss: 0.7648 - val_accuracy: 0.6318 - val_iou_score: 0.3004\n",
            "Epoch 5/50\n",
            "172/172 [==============================] - 50s 293ms/step - loss: 0.4549 - accuracy: 0.8233 - iou_score: 0.5180 - val_loss: 0.5992 - val_accuracy: 0.7234 - val_iou_score: 0.4027\n",
            "Epoch 6/50\n",
            "172/172 [==============================] - 50s 291ms/step - loss: 0.4376 - accuracy: 0.8302 - iou_score: 0.5330 - val_loss: 0.5339 - val_accuracy: 0.7803 - val_iou_score: 0.4730\n",
            "Epoch 7/50\n",
            "172/172 [==============================] - 50s 293ms/step - loss: 0.4232 - accuracy: 0.8367 - iou_score: 0.5452 - val_loss: 0.4503 - val_accuracy: 0.8015 - val_iou_score: 0.5155\n",
            "Epoch 8/50\n",
            "172/172 [==============================] - 50s 293ms/step - loss: 0.4107 - accuracy: 0.8418 - iou_score: 0.5560 - val_loss: 0.5303 - val_accuracy: 0.8045 - val_iou_score: 0.5060\n",
            "Epoch 9/50\n",
            "172/172 [==============================] - 50s 291ms/step - loss: 0.4036 - accuracy: 0.8455 - iou_score: 0.5607 - val_loss: 0.4561 - val_accuracy: 0.8082 - val_iou_score: 0.5014\n",
            "Epoch 10/50\n",
            "172/172 [==============================] - 51s 294ms/step - loss: 0.3904 - accuracy: 0.8511 - iou_score: 0.5751 - val_loss: 0.4671 - val_accuracy: 0.8145 - val_iou_score: 0.5216\n",
            "Epoch 11/50\n",
            "172/172 [==============================] - 50s 292ms/step - loss: 0.3815 - accuracy: 0.8547 - iou_score: 0.5818 - val_loss: 0.4644 - val_accuracy: 0.8139 - val_iou_score: 0.5202\n",
            "Epoch 12/50\n",
            "172/172 [==============================] - 50s 291ms/step - loss: 0.3754 - accuracy: 0.8571 - iou_score: 0.5869 - val_loss: 0.4706 - val_accuracy: 0.8122 - val_iou_score: 0.5172\n",
            "Epoch 13/50\n",
            "172/172 [==============================] - 50s 293ms/step - loss: 0.3643 - accuracy: 0.8608 - iou_score: 0.5981 - val_loss: 0.4457 - val_accuracy: 0.8143 - val_iou_score: 0.5284\n",
            "Epoch 14/50\n",
            "172/172 [==============================] - 50s 292ms/step - loss: 0.3617 - accuracy: 0.8629 - iou_score: 0.5989 - val_loss: 0.4543 - val_accuracy: 0.8169 - val_iou_score: 0.5220\n",
            "Epoch 15/50\n",
            "172/172 [==============================] - 50s 292ms/step - loss: 0.3527 - accuracy: 0.8658 - iou_score: 0.6086 - val_loss: 0.4512 - val_accuracy: 0.8196 - val_iou_score: 0.5188\n",
            "Epoch 16/50\n",
            "172/172 [==============================] - 50s 292ms/step - loss: 0.3498 - accuracy: 0.8677 - iou_score: 0.6110 - val_loss: 0.4573 - val_accuracy: 0.8206 - val_iou_score: 0.5450\n",
            "Epoch 17/50\n",
            "172/172 [==============================] - 50s 291ms/step - loss: 0.3412 - accuracy: 0.8694 - iou_score: 0.6193 - val_loss: 0.4476 - val_accuracy: 0.8224 - val_iou_score: 0.5422\n",
            "Epoch 18/50\n",
            "172/172 [==============================] - 50s 291ms/step - loss: 0.3349 - accuracy: 0.8712 - iou_score: 0.6264 - val_loss: 0.4522 - val_accuracy: 0.8224 - val_iou_score: 0.5361\n",
            "Epoch 19/50\n",
            "172/172 [==============================] - 50s 291ms/step - loss: 0.3323 - accuracy: 0.8733 - iou_score: 0.6290 - val_loss: 0.4734 - val_accuracy: 0.8152 - val_iou_score: 0.5323\n",
            "Epoch 20/50\n",
            "172/172 [==============================] - 50s 293ms/step - loss: 0.3236 - accuracy: 0.8751 - iou_score: 0.6376 - val_loss: 0.4593 - val_accuracy: 0.8249 - val_iou_score: 0.5447\n",
            "Epoch 21/50\n",
            "172/172 [==============================] - 50s 292ms/step - loss: 0.3251 - accuracy: 0.8760 - iou_score: 0.6346 - val_loss: 0.4678 - val_accuracy: 0.8212 - val_iou_score: 0.5348\n",
            "Epoch 22/50\n",
            "172/172 [==============================] - 50s 293ms/step - loss: 0.3221 - accuracy: 0.8773 - iou_score: 0.6395 - val_loss: 0.4400 - val_accuracy: 0.8149 - val_iou_score: 0.5416\n",
            "Epoch 23/50\n",
            "172/172 [==============================] - 50s 291ms/step - loss: 0.3129 - accuracy: 0.8792 - iou_score: 0.6484 - val_loss: 0.4350 - val_accuracy: 0.8174 - val_iou_score: 0.5375\n",
            "Epoch 24/50\n",
            "172/172 [==============================] - 50s 292ms/step - loss: 0.3122 - accuracy: 0.8796 - iou_score: 0.6454 - val_loss: 0.4207 - val_accuracy: 0.8216 - val_iou_score: 0.5470\n",
            "Epoch 25/50\n",
            "172/172 [==============================] - 50s 292ms/step - loss: 0.3090 - accuracy: 0.8814 - iou_score: 0.6510 - val_loss: 0.4567 - val_accuracy: 0.8223 - val_iou_score: 0.5567\n",
            "Epoch 26/50\n",
            "172/172 [==============================] - 50s 292ms/step - loss: 0.3046 - accuracy: 0.8829 - iou_score: 0.6578 - val_loss: 0.4549 - val_accuracy: 0.8251 - val_iou_score: 0.5421\n",
            "Epoch 27/50\n",
            "172/172 [==============================] - 50s 291ms/step - loss: 0.3046 - accuracy: 0.8834 - iou_score: 0.6570 - val_loss: 0.4248 - val_accuracy: 0.8230 - val_iou_score: 0.5479\n",
            "Epoch 28/50\n",
            "172/172 [==============================] - 50s 292ms/step - loss: 0.3016 - accuracy: 0.8839 - iou_score: 0.6609 - val_loss: 0.4350 - val_accuracy: 0.8263 - val_iou_score: 0.5488\n",
            "Epoch 29/50\n",
            "172/172 [==============================] - 50s 292ms/step - loss: 0.3009 - accuracy: 0.8849 - iou_score: 0.6584 - val_loss: 0.4531 - val_accuracy: 0.8257 - val_iou_score: 0.5404\n",
            "Epoch 30/50\n",
            "172/172 [==============================] - 50s 293ms/step - loss: 0.2960 - accuracy: 0.8862 - iou_score: 0.6617 - val_loss: 0.4188 - val_accuracy: 0.8267 - val_iou_score: 0.5551\n",
            "Epoch 31/50\n",
            "172/172 [==============================] - 51s 295ms/step - loss: 0.2913 - accuracy: 0.8875 - iou_score: 0.6712 - val_loss: 0.4784 - val_accuracy: 0.8276 - val_iou_score: 0.5550\n",
            "Epoch 32/50\n",
            "172/172 [==============================] - 50s 293ms/step - loss: 0.2921 - accuracy: 0.8878 - iou_score: 0.6695 - val_loss: 0.4336 - val_accuracy: 0.8217 - val_iou_score: 0.5507\n",
            "Epoch 33/50\n",
            "172/172 [==============================] - 50s 293ms/step - loss: 0.2912 - accuracy: 0.8884 - iou_score: 0.6684 - val_loss: 0.4310 - val_accuracy: 0.8230 - val_iou_score: 0.5424\n",
            "Epoch 34/50\n",
            "172/172 [==============================] - 50s 293ms/step - loss: 0.2892 - accuracy: 0.8896 - iou_score: 0.6698 - val_loss: 0.4308 - val_accuracy: 0.8281 - val_iou_score: 0.5395\n",
            "Epoch 35/50\n",
            "172/172 [==============================] - 50s 293ms/step - loss: 0.2854 - accuracy: 0.8906 - iou_score: 0.6775 - val_loss: 0.4043 - val_accuracy: 0.8282 - val_iou_score: 0.5485\n",
            "Epoch 36/50\n",
            "172/172 [==============================] - 50s 293ms/step - loss: 0.2787 - accuracy: 0.8917 - iou_score: 0.6833 - val_loss: 0.4173 - val_accuracy: 0.8248 - val_iou_score: 0.5517\n",
            "Epoch 37/50\n",
            "172/172 [==============================] - 50s 293ms/step - loss: 0.2778 - accuracy: 0.8917 - iou_score: 0.6827 - val_loss: 0.4586 - val_accuracy: 0.8269 - val_iou_score: 0.5575\n",
            "Epoch 38/50\n",
            "172/172 [==============================] - 50s 293ms/step - loss: 0.2798 - accuracy: 0.8919 - iou_score: 0.6796 - val_loss: 0.4548 - val_accuracy: 0.8290 - val_iou_score: 0.5509\n",
            "Epoch 39/50\n",
            "172/172 [==============================] - 50s 293ms/step - loss: 0.2761 - accuracy: 0.8934 - iou_score: 0.6865 - val_loss: 0.4126 - val_accuracy: 0.8190 - val_iou_score: 0.5570\n",
            "Epoch 40/50\n",
            "172/172 [==============================] - 50s 292ms/step - loss: 0.2744 - accuracy: 0.8938 - iou_score: 0.6856 - val_loss: 0.4333 - val_accuracy: 0.8257 - val_iou_score: 0.5590\n",
            "Epoch 41/50\n",
            "172/172 [==============================] - 51s 294ms/step - loss: 0.2707 - accuracy: 0.8945 - iou_score: 0.6907 - val_loss: 0.4037 - val_accuracy: 0.8269 - val_iou_score: 0.5571\n",
            "Epoch 42/50\n",
            "172/172 [==============================] - 51s 295ms/step - loss: 0.2692 - accuracy: 0.8957 - iou_score: 0.6932 - val_loss: 0.4789 - val_accuracy: 0.8272 - val_iou_score: 0.5535\n",
            "Epoch 43/50\n",
            "172/172 [==============================] - 50s 293ms/step - loss: 0.2648 - accuracy: 0.8962 - iou_score: 0.6975 - val_loss: 0.4413 - val_accuracy: 0.8289 - val_iou_score: 0.5528\n",
            "Epoch 44/50\n",
            "172/172 [==============================] - 51s 294ms/step - loss: 0.2624 - accuracy: 0.8962 - iou_score: 0.7001 - val_loss: 0.4471 - val_accuracy: 0.8298 - val_iou_score: 0.5724\n",
            "Epoch 45/50\n",
            "172/172 [==============================] - 50s 293ms/step - loss: 0.2676 - accuracy: 0.8967 - iou_score: 0.6934 - val_loss: 0.4827 - val_accuracy: 0.8272 - val_iou_score: 0.5456\n",
            "Epoch 46/50\n",
            "172/172 [==============================] - 50s 293ms/step - loss: 0.2599 - accuracy: 0.8968 - iou_score: 0.7004 - val_loss: 0.3968 - val_accuracy: 0.8191 - val_iou_score: 0.5539\n",
            "Epoch 47/50\n",
            "172/172 [==============================] - 50s 292ms/step - loss: 0.2598 - accuracy: 0.8975 - iou_score: 0.7035 - val_loss: 0.4671 - val_accuracy: 0.8274 - val_iou_score: 0.5593\n",
            "Epoch 48/50\n",
            "172/172 [==============================] - 50s 293ms/step - loss: 0.2592 - accuracy: 0.8981 - iou_score: 0.7028 - val_loss: 0.4484 - val_accuracy: 0.8252 - val_iou_score: 0.5527\n",
            "Epoch 49/50\n",
            "172/172 [==============================] - 50s 292ms/step - loss: 0.2558 - accuracy: 0.8989 - iou_score: 0.7055 - val_loss: 0.4223 - val_accuracy: 0.8262 - val_iou_score: 0.5638\n",
            "Epoch 50/50\n",
            "172/172 [==============================] - 50s 292ms/step - loss: 0.2573 - accuracy: 0.8991 - iou_score: 0.7042 - val_loss: 0.4005 - val_accuracy: 0.8308 - val_iou_score: 0.5499\n"
          ],
          "name": "stdout"
        }
      ]
    },
    {
      "cell_type": "code",
      "metadata": {
        "colab": {
          "base_uri": "https://localhost:8080/",
          "height": 290
        },
        "id": "OxForupXbuoi",
        "outputId": "f4d9e6ac-cb17-426c-e2ab-d124ee45fe42"
      },
      "source": [
        "# Plot training & validation iou_score values\n",
        "plt.figure(figsize=(30, 5))\n",
        "plt.subplot(121)\n",
        "plt.plot(history.history['iou_score'])\n",
        "plt.plot(history.history['val_iou_score'])\n",
        "plt.title('Model iou_score')\n",
        "plt.ylabel('iou_score')\n",
        "plt.xlabel('Epoch')\n",
        "plt.legend(['Train', 'Test'], loc='upper left')\n",
        "\n",
        "# Plot training & validation loss values\n",
        "plt.subplot(122)\n",
        "plt.plot(history.history['loss'])\n",
        "plt.plot(history.history['val_loss'])\n",
        "plt.title('Model loss')\n",
        "plt.ylabel('Loss')\n",
        "plt.xlabel('Epoch')\n",
        "plt.legend(['Train', 'Test'], loc='upper left')\n",
        "plt.show()"
      ],
      "execution_count": null,
      "outputs": [
        {
          "output_type": "display_data",
          "data": {
            "image/png": "[encoded data removed]",
            "text/plain": [
              "<Figure size 2160x360 with 2 Axes>"
            ]
          },
          "metadata": {
            "tags": [],
            "needs_background": "light"
          }
        }
      ]
    },
    {
      "cell_type": "code",
      "metadata": {
        "id": "kIK8bq3Nb9MY"
      },
      "source": [
        "HEIGHT = 192\n",
        "WIDTH = 192\n",
        "\n",
        "def parse_image(img_path):\n",
        "    \"\"\"\n",
        "    Load an image and its annotation (mask) and returning a dictionary.\n",
        "    \"\"\"\n",
        "    # Reading the image\n",
        "    image = tf.io.read_file(img_path)\n",
        "    image = tf.image.decode_jpeg(image, channels=3)\n",
        "    # For one Image path:\n",
        "    # .../idd20k_lite/leftImg8bit/train/024541_image.jpg\n",
        "    # Its corresponding annotation path is:\n",
        "    # .../idd20k_lite/gtFine/train/024541_label.png\n",
        "    mask_path = tf.strings.regex_replace(img_path, \"leftImg8bit\", \"gtFine\")\n",
        "    mask_path = tf.strings.regex_replace(mask_path, \"_image.jpg\", \"_label.png\")\n",
        "    # Reading the annotation file corresponding the image file\n",
        "    mask = tf.io.read_file(mask_path)\n",
        "    mask = tf.image.decode_png(mask, channels=1)\n",
        "    # In scene parsing, \"not labeled\" = 255\n",
        "    # But it will mess with our N_CLASS = 7\n",
        "    # Since 255 means the 255th class\n",
        "    # Which doesn't exist\n",
        "    mask = tf.where(mask==255, np.dtype('uint8').type(7), mask)\n",
        "    # Note that we have to convert the new value (7)\n",
        "    # With the same dtype than the tensor itself\n",
        "    return {'image': image, 'segmentation_mask': mask}\n",
        "\n",
        "# Reference -> https://www.tensorflow.org/api_docs/python/tf/cast\n",
        "# Returns a Tensor same shape as given tensor and same type as dtype that is mentioned.\n",
        "\n",
        "def normalize(input_image, input_mask):\n",
        "    \"\"\"\n",
        "    Rescale the pixel values of the images between 0 and 1 compared to [0,255] originally.\n",
        "    \"\"\"\n",
        "    input_image = tf.cast(input_image, tf.float32) / 255.0\n",
        "    return input_image, input_mask\n",
        "\n",
        "def load_image_test(datapoint):\n",
        "    \"\"\"\n",
        "    Normalize and resize a test image and its annotation.\n",
        "    Since this is for the test set, we don't need to apply any data augmentation technique.\n",
        "    \"\"\"\n",
        "    input_image = tf.image.resize(datapoint['image'], (HEIGHT,WIDTH))\n",
        "    input_mask = tf.image.resize(datapoint['segmentation_mask'], (HEIGHT,WIDTH))\n",
        "    input_image, input_mask = normalize(input_image, input_mask)\n",
        "    return input_image, input_mask"
      ],
      "execution_count": null,
      "outputs": []
    },
    {
      "cell_type": "code",
      "metadata": {
        "id": "WcEcEIvMJDJO"
      },
      "source": [
        "# Reference -> https://github.com/saisandeepNSS/IDD_SemanticSegmentation\n",
        "\n",
        "def IoU(y_i,y_pred):\n",
        "    # This function calculates the mean Intersection over Union\n",
        "    # Mean IoU = TP/(FN + TP + FP)\n",
        "    # This list will save the IoU of all the classes\n",
        "    IoUs = []\n",
        "    # Defining the number of classes which the model has predicted\n",
        "    n_classes = 8\n",
        "    for c in range(n_classes):\n",
        "        # Calculating the True Positives\n",
        "        TP = np.sum((y_i == c)&(y_pred==c))\n",
        "        # Calculating the False Positives\n",
        "        FP = np.sum((y_i != c)&(y_pred==c))\n",
        "        # Calculating the False Negatives\n",
        "        FN = np.sum((y_i == c)&(y_pred!= c))\n",
        "        # Calculating the IoU for the particular class\n",
        "        IoU = TP/float(TP + FP + FN)\n",
        "        # Printing the outputs\n",
        "        # Uncomment the print statement below when you want to analyze the results for each class\n",
        "        #print(\"class {:02.0f}: #TP={:6.0f}, #FP={:6.0f}, #FN={:5.0f}, IoU={:4.3f}\".format(c,TP,FP,FN,IoU))\n",
        "        # Appending the IoU to the list as it mean needs to be calculated later\n",
        "        if(math.isnan(IoU)):\n",
        "            IoUs.append(0)\n",
        "            continue\n",
        "        IoUs.append(IoU)\n",
        "    # Calculating the mean\n",
        "    mIoU = np.mean(IoUs)\n",
        "    #print(\"_________________\")\n",
        "    #print(\"Mean IoU: {:4.3f}\".format(mIoU))\n",
        "    return mIoU"
      ],
      "execution_count": null,
      "outputs": []
    },
    {
      "cell_type": "code",
      "metadata": {
        "id": "epCBdc3oJuGU"
      },
      "source": [
        "def predict(model,image_path):\n",
        "    \"\"\"\n",
        "    This function will take the model which is going to be used to predict the image and the image path of \n",
        "    the input image as inputs and predict the mask\n",
        "    It returns the true mask and predicted mask\n",
        "    \"\"\"\n",
        "    # Getting the datapoint\n",
        "    # This function will load the image and its annotation (mask) and return a dictionary.\n",
        "    datapoint = parse_image(image_path)\n",
        "    # Normalizing the resizing the datapoint\n",
        "    input_image,image_mask = load_image_test(datapoint)\n",
        "    # As the model takes input with 4 dimensions (batch_size, rows, columns, channels),\n",
        "    # and the shape of the input image is (rows, columns, channels)\n",
        "    # we will expand the first dimension so we will get the shape as  (1, rows, columns, channels)\n",
        "    img = tf.expand_dims(input_image, 0)\n",
        "    # Predicting the image by passing it to the model\n",
        "    prediction = model.predict_on_batch(img)\n",
        "    # The model will predict 8 outputs for each pixel\n",
        "    # We have to get the maximum value out of it\n",
        "    prediction = tf.argmax(prediction, axis=-1)\n",
        "    prediction = tf.squeeze(prediction, axis = 0)\n",
        "    pred_mask = tf.expand_dims(prediction, axis=-1)\n",
        "    # Displaying the input image, true mask, predicted mask\n",
        "    #display_sample([input_image, image_mask, pred_mask])\n",
        "    return image_mask, pred_mask"
      ],
      "execution_count": null,
      "outputs": []
    },
    {
      "cell_type": "markdown",
      "metadata": {
        "id": "i04dwyBh_4Ib"
      },
      "source": [
        "### Validation mIoU for PSPNet imported model "
      ]
    },
    {
      "cell_type": "code",
      "metadata": {
        "id": "8O9we200JP3D"
      },
      "source": [
        "img_val = dataset_path + 'leftImg8bit/val/'\n",
        "val_paths = glob(img_val+'*/*_image.jpg')"
      ],
      "execution_count": null,
      "outputs": []
    },
    {
      "cell_type": "code",
      "metadata": {
        "colab": {
          "base_uri": "https://localhost:8080/",
          "height": 34
        },
        "id": "eTz1GK53JJBF",
        "outputId": "cf9aed40-a4c1-4bfb-8e61-687621825050"
      },
      "source": [
        "mIoU = []\n",
        "for path in val_paths:\n",
        "    true_mask, pred_mask = predict(model,path)\n",
        "    mIoU.append(IoU(true_mask, pred_mask))"
      ],
      "execution_count": null,
      "outputs": [
        {
          "output_type": "stream",
          "text": [
            "/usr/local/lib/python3.6/dist-packages/ipykernel_launcher.py:18: RuntimeWarning: invalid value encountered in true_divide\n"
          ],
          "name": "stderr"
        }
      ]
    },
    {
      "cell_type": "code",
      "metadata": {
        "colab": {
          "base_uri": "https://localhost:8080/",
          "height": 34
        },
        "id": "V7ZAZG1Wdc-K",
        "outputId": "9651a8a8-e2da-41c4-fa6b-34668b0bc2fd"
      },
      "source": [
        "print(\"Validation mIoU Score : \",sum(mIoU)/len(mIoU))"
      ],
      "execution_count": null,
      "outputs": [
        {
          "output_type": "stream",
          "text": [
            "Validation mIoU Score :  0.363701048404907\n"
          ],
          "name": "stdout"
        }
      ]
    },
    {
      "cell_type": "markdown",
      "metadata": {
        "id": "-7YK3U_U_4Ic"
      },
      "source": [
        "# Observations"
      ]
    },
    {
      "cell_type": "code",
      "metadata": {
        "id": "UEAB1NtU_4Ic",
        "outputId": "a10dc3f5-1d62-4cc9-bb64-c00046de539c"
      },
      "source": [
        "from prettytable import PrettyTable\n",
        "\n",
        "# Representing results in a table\n",
        "pt = PrettyTable()\n",
        "\n",
        "pt.field_names = [\"Model\", \"Highest Train Accuracy\", \"Highest Validation Accuracy\", \"Validation mIoU\"]\n",
        "pt.add_row([\"PSPNet (from Scratch)\",'89.76 %','80.80 %',0.43338])\n",
        "pt.add_row([\"PSPNet with a Pretrained Encoder\",'69.438 %','66.919 %',0.24952])\n",
        "pt.add_row([\"PSPNet (from official models)\",'89.91 %','83.08 %', 0.36370])\n",
        "print(pt)            "
      ],
      "execution_count": null,
      "outputs": [
        {
          "output_type": "stream",
          "text": [
            "+----------------------------------+------------------------+-----------------------------+-----------------+\n",
            "|              Model               | Highest Train Accuracy | Highest Validation Accuracy | Validation mIoU |\n",
            "+----------------------------------+------------------------+-----------------------------+-----------------+\n",
            "|      PSPNet (from Scratch)       |        89.76 %         |           80.80 %           |     0.43338     |\n",
            "| PSPNet with a Pretrained Encoder |        69.438 %        |           66.919 %          |     0.24952     |\n",
            "|  PSPNet (from official models)   |        89.91 %         |           83.08 %           |      0.3637     |\n",
            "+----------------------------------+------------------------+-----------------------------+-----------------+\n"
          ],
          "name": "stdout"
        }
      ]
    },
    {
      "cell_type": "markdown",
      "metadata": {
        "id": "RnucsZCP_4Ic"
      },
      "source": [
        "* The best results are found using PSPNet from Scratch model.\n",
        "* When we train PSPNet using a pretrained encoder, the results fluctuate a lot and the validation mIoU is very low as well.\n",
        "* While using the official model, we get a high validation accuracy, but the validation mIoU score is low."
      ]
    }
  ]
}