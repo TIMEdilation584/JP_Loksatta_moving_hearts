{
  "nbformat": 4,
  "nbformat_minor": 0,
  "metadata": {
    "colab": {
      "name": "18_02_22_My independent work on lists of python.ipynb",
      "provenance": [],
      "authorship_tag": "ABX9TyOqJUmOLNgY2G9Xn/g2aq+z",
      "include_colab_link": true
    },
    "kernelspec": {
      "name": "python3",
      "display_name": "Python 3"
    },
    "language_info": {
      "name": "python"
    }
  },
  "cells": [
    {
      "cell_type": "markdown",
      "metadata": {
        "id": "view-in-github",
        "colab_type": "text"
      },
      "source": [
        "<a href=\"https://colab.research.google.com/github/TIMEdilation584/JP_Loksatta_moving_hearts/blob/master/18_02_22_My_independent_work_on_lists_of_python.ipynb\" target=\"_parent\"><img src=\"https://colab.research.google.com/assets/colab-badge.svg\" alt=\"Open In Colab\"/></a>"
      ]
    },
    {
      "cell_type": "code",
      "execution_count": null,
      "metadata": {
        "colab": {
          "base_uri": "https://localhost:8080/",
          "height": 130
        },
        "id": "cj2hd-plyERd",
        "outputId": "6f0287fb-0ec0-4ea3-db25-e311053e1b3d"
      },
      "outputs": [
        {
          "output_type": "error",
          "ename": "SyntaxError",
          "evalue": "ignored",
          "traceback": [
            "\u001b[0;36m  File \u001b[0;32m\"<ipython-input-4-2d071c1bb04d>\"\u001b[0;36m, line \u001b[0;32m4\u001b[0m\n\u001b[0;31m    const obj = Object.assign({}, names)\u001b[0m\n\u001b[0m            ^\u001b[0m\n\u001b[0;31mSyntaxError\u001b[0m\u001b[0;31m:\u001b[0m invalid syntax\n"
          ]
        }
      ],
      "source": [
        "const_names = ['Alex', 'Bob', 'Johny', 'Atta']\n",
        "\n",
        "\n",
        "const obj = Object.assign({}, names)\n",
        "\n",
        "\n",
        "console.log(obj)\n",
        "\n"
      ]
    },
    {
      "cell_type": "code",
      "source": [
        "\n",
        "# import module\n",
        "import numpy as np\n",
        "  \n",
        "# create array\n",
        "print(\"\\nArray:\")\n",
        "arr = np.array([[1, 2, 3], \n",
        "                [4, 5, 6], \n",
        "                [7, 8, 9]])\n",
        "print(arr)\n",
        "print(type(arr))\n",
        "  \n",
        "# apply method\n",
        "lis = arr.tolist()\n",
        "  \n",
        "# display list\n",
        "print(\"\\nList:\")\n",
        "print(lis)\n",
        "print(type(lis))"
      ],
      "metadata": {
        "colab": {
          "base_uri": "https://localhost:8080/"
        },
        "id": "WCh3h-TwyLWH",
        "outputId": "00b71450-091c-430a-fca5-ff1eb4bc2abc"
      },
      "execution_count": null,
      "outputs": [
        {
          "output_type": "stream",
          "name": "stdout",
          "text": [
            "\n",
            "Array:\n",
            "[[1 2 3]\n",
            " [4 5 6]\n",
            " [7 8 9]]\n",
            "<class 'numpy.ndarray'>\n",
            "\n",
            "List:\n",
            "[[1, 2, 3], [4, 5, 6], [7, 8, 9]]\n",
            "<class 'list'>\n"
          ]
        }
      ]
    },
    {
      "cell_type": "code",
      "source": [
        " \n",
        "list1=[['a'],[1,2,3]]\n",
        "list2=[['b'],[2,4,5]]\n",
        "list3 = [['c'],[3,7,8]]\n",
        "listoflists= []\n",
        "listoflists.append(list1)\n",
        "listoflists.append(list2)\n",
        "listoflists.append(list3)\n",
        "print(\"List of Lists:\",listoflists)"
      ],
      "metadata": {
        "colab": {
          "base_uri": "https://localhost:8080/"
        },
        "id": "eV1bGLPpyyF7",
        "outputId": "8d847c15-11b6-4eeb-b3a6-2f78b5e81370"
      },
      "execution_count": null,
      "outputs": [
        {
          "output_type": "stream",
          "name": "stdout",
          "text": [
            "List of Lists: [[['a'], [1, 2, 3]], [['b'], [2, 4, 5]], [['c'], [3, 7, 8]]]\n"
          ]
        }
      ]
    },
    {
      "cell_type": "code",
      "source": [
        "listoflists[1:0]"
      ],
      "metadata": {
        "colab": {
          "base_uri": "https://localhost:8080/"
        },
        "id": "LEfiLgwO1JQ-",
        "outputId": "430389b4-9fba-4466-8361-87ac2ef5e3d9"
      },
      "execution_count": null,
      "outputs": [
        {
          "output_type": "execute_result",
          "data": {
            "text/plain": [
              "[]"
            ]
          },
          "metadata": {},
          "execution_count": 28
        }
      ]
    },
    {
      "cell_type": "code",
      "source": [
        "for a in listoflists:\n",
        "    print(item)"
      ],
      "metadata": {
        "colab": {
          "base_uri": "https://localhost:8080/"
        },
        "id": "2YWOSnCJ1wh8",
        "outputId": "a26f3b4d-60de-4dd1-f3a5-9b719abd654b"
      },
      "execution_count": null,
      "outputs": [
        {
          "output_type": "stream",
          "name": "stdout",
          "text": [
            "[['b'], [2, 4, 5]]\n",
            "[['b'], [2, 4, 5]]\n"
          ]
        }
      ]
    },
    {
      "cell_type": "code",
      "source": [
        "for i in listoflists:\n",
        "  print(\"list\",i,\"elements\")\n",
        "  for j in i:\n",
        "    print(j)"
      ],
      "metadata": {
        "colab": {
          "base_uri": "https://localhost:8080/"
        },
        "id": "wfT8AUM124gj",
        "outputId": "fc7bd386-2d64-4e9d-bb98-8b05fb0ce450"
      },
      "execution_count": null,
      "outputs": [
        {
          "output_type": "stream",
          "name": "stdout",
          "text": [
            "list [['a'], [1, 2, 3]] elements\n",
            "['a']\n",
            "[1, 2, 3]\n",
            "list [['b'], [2, 4, 5]] elements\n",
            "['b']\n",
            "[2, 4, 5]\n",
            "list [['c'], [3, 7, 8]] elements\n",
            "['c']\n",
            "[3, 7, 8]\n"
          ]
        }
      ]
    },
    {
      "cell_type": "code",
      "source": [
        "listoflists[1][0]"
      ],
      "metadata": {
        "colab": {
          "base_uri": "https://localhost:8080/"
        },
        "id": "vhJB0lDb3pw1",
        "outputId": "227f48ec-7a61-4c3f-8619-e1cfed28c149"
      },
      "execution_count": null,
      "outputs": [
        {
          "output_type": "execute_result",
          "data": {
            "text/plain": [
              "[['b']]"
            ]
          },
          "metadata": {},
          "execution_count": 46
        }
      ]
    },
    {
      "cell_type": "code",
      "source": [
        "mylist4 = []\n",
        "for solo in listoflists:\n",
        "   for j in solo[0]:\n",
        "    mylist4.append(solo[0])\n",
        "\n",
        "print(mylist4)\n"
      ],
      "metadata": {
        "colab": {
          "base_uri": "https://localhost:8080/"
        },
        "id": "TkVLAUx26bt8",
        "outputId": "0ed072ef-fba5-4ba2-ffff-6a825a623c08"
      },
      "execution_count": null,
      "outputs": [
        {
          "output_type": "stream",
          "name": "stdout",
          "text": [
            "[['a'], ['b'], ['c']]\n"
          ]
        }
      ]
    },
    {
      "cell_type": "code",
      "source": [
        "mylist5 = []\n",
        "for solo in listoflists:\n",
        "   for j in solo[1]:\n",
        "    mylist5.append(solo[1])\n",
        "\n",
        "print(mylist5)\n"
      ],
      "metadata": {
        "colab": {
          "base_uri": "https://localhost:8080/"
        },
        "id": "ZojTsU1T7iZP",
        "outputId": "268b7ec6-38c1-417a-8fad-7a1d71311066"
      },
      "execution_count": null,
      "outputs": [
        {
          "output_type": "stream",
          "name": "stdout",
          "text": [
            "[[1, 2, 3], [1, 2, 3], [1, 2, 3], [2, 4, 5], [2, 4, 5], [2, 4, 5], [3, 7, 8], [3, 7, 8], [3, 7, 8]]\n"
          ]
        }
      ]
    },
    {
      "cell_type": "code",
      "source": [
        ""
      ],
      "metadata": {
        "id": "vtQdE6rn8IC3"
      },
      "execution_count": null,
      "outputs": []
    },
    {
      "cell_type": "code",
      "source": [
        "\n",
        "patients = [ ['Milos', 'Jones', 48, 'male', 'smoker', 210], \n",
        "             ['Delia', 'Chan', 39, 'female', 'non-smoker', 170], \n",
        "             ['Denise', 'Ross', 62, 'female', 'non-smoker', 150] ]\n",
        "\n",
        "female_patients = []\n",
        "for solo_patient in patients:\n",
        "    if solo_patient[3] == 'female':\n",
        "        female_patients.append(solo_patient[1])\n",
        "\n",
        "print(female_patients)"
      ],
      "metadata": {
        "colab": {
          "base_uri": "https://localhost:8080/"
        },
        "id": "Kd-5Rd264B6Y",
        "outputId": "fb0bf1b0-3928-4033-e530-8ea61ab99f3c"
      },
      "execution_count": null,
      "outputs": [
        {
          "output_type": "stream",
          "name": "stdout",
          "text": [
            "['Chan', 'Ross']\n"
          ]
        }
      ]
    },
    {
      "cell_type": "code",
      "source": [
        ""
      ],
      "metadata": {
        "id": "K2jWFWHC6UK3"
      },
      "execution_count": null,
      "outputs": []
    }
  ]
}