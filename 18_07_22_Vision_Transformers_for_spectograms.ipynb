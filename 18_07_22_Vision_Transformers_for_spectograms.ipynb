{
  "nbformat": 4,
  "nbformat_minor": 0,
  "metadata": {
    "colab": {
      "name": "18_07_22_Vision_Transformers_for_spectograms.ipynb",
      "provenance": [],
      "authorship_tag": "ABX9TyNNyK95ft2hUAXtcIPqwn13",
      "include_colab_link": true
    },
    "kernelspec": {
      "name": "python3",
      "display_name": "Python 3"
    },
    "language_info": {
      "name": "python"
    }
  },
  "cells": [
    {
      "cell_type": "markdown",
      "metadata": {
        "id": "view-in-github",
        "colab_type": "text"
      },
      "source": [
        "<a href=\"https://colab.research.google.com/github/TIMEdilation584/JP_Loksatta_moving_hearts/blob/master/18_07_22_Vision_Transformers_for_spectograms.ipynb\" target=\"_parent\"><img src=\"https://colab.research.google.com/assets/colab-badge.svg\" alt=\"Open In Colab\"/></a>"
      ]
    },
    {
      "cell_type": "code",
      "execution_count": null,
      "metadata": {
        "id": "xrHPLg6tejSy"
      },
      "outputs": [],
      "source": [
        ""
      ]
    }
  ]
}