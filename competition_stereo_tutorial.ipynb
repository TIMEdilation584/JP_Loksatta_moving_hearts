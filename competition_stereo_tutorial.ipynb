{
  "cells": [
    {
      "cell_type": "markdown",
      "metadata": {
        "id": "view-in-github",
        "colab_type": "text"
      },
      "source": [
        "<a href=\"https://colab.research.google.com/github/TIMEdilation584/JP_Loksatta_moving_hearts/blob/master/competition_stereo_tutorial.ipynb\" target=\"_parent\"><img src=\"https://colab.research.google.com/assets/colab-badge.svg\" alt=\"Open In Colab\"/></a>"
      ]
    },
    {
      "cell_type": "markdown",
      "metadata": {
        "id": "42yY5XpJO1rI"
      },
      "source": [
        "# Argoverse Stereo Competition"
      ]
    },
    {
      "cell_type": "markdown",
      "metadata": {
        "id": "k5sA8AV5O1rP"
      },
      "source": [
        "To support our Stereo Competition on [EvalAI](https://eval.ai/web/challenges/challenge-page/1704/overview), we have made available ground-truth depth for [Argoverse v1.1](https://www.argoverse.org/av1.html#stereo-link), derived from lidar point cloud accumulation. We used our [scene flow method](https://arxiv.org/pdf/2011.00320.pdf) to accumulate lidar points from 11 frames and adopted evaluation metrics from the great [KITTI stereo challenge](http://www.cvlibs.net/datasets/kitti/eval_scene_flow.php?benchmark=stereo). However, in comparison to KITTI, our stereo images have 10 times the resolution and 16 times as many training frames — making it a much larger and more challenging dataset.\n",
        "\n",
        "Argoverse Stereo consists of rectified stereo images and ground truth disparity maps for 74 out of the 113 Argoverse 3D Tracking Sequences. The stereo images are (2056 x 2464 pixels) and sampled at 5 Hz. The dataset contains a total of 6,624 stereo pairs with ground truth depth, although we withhold the ground truth depth for the 15 sequence test set.\n",
        "\n",
        "So here is a notebook to get you started with our stereo dataset and stereo competition. Have fun!\n",
        "\n",
        "**NOTE: Please carefully check the section `Updates for the Stereo Competition 2022` for specific details about out latest competition.**"
      ]
    },
    {
      "cell_type": "markdown",
      "metadata": {
        "id": "aHcDliTJO1rR"
      },
      "source": [
        "## Data setup\n",
        "The Argoverse Stereo dataset can be download from [here](https://www.argoverse.org/av1.html#stereo-link). There are 2 packages from the **Argoverse Stereo v1.1** section you will need to download to get started with this tutorial: \n",
        "\n",
        "* Rectified stereo images ( train / val / test )\n",
        "* Disparity maps ( train / val )\n",
        "\n",
        "This tutorial assumes that you have already downloaded and extracted all necessary data into a specific folder and that you have the [Argoverse API](https://github.com/argoai/argoverse-api) up and running. For example, this is the directory structure you should have:\n",
        "\n",
        "```\n",
        "argoverse_stereo_v1.1\n",
        "└───disparity_maps_v1.1\n",
        "|   └───test\n",
        "|   └───train\n",
        "|   |    └───273c1883-673a-36bf-b124-88311b1a80be\n",
        "|   |        └───stereo_front_left_rect_disparity\n",
        "|   |        └───stereo_front_left_rect_objects_disparity\n",
        "|   └───val\n",
        "└───rectified_stereo_images_v1.1\n",
        "    └───test\n",
        "    └───train\n",
        "    |    └───273c1883-673a-36bf-b124-88311b1a80be\n",
        "    |        └───stereo_front_left_rect\n",
        "    |        └───stereo_front_right_rect\n",
        "    |            vehicle_calibration_stereo_info.json\n",
        "    └───val\n",
        "```"
      ]
    },
    {
      "cell_type": "markdown",
      "metadata": {
        "id": "hhT25RyyO1rS"
      },
      "source": [
        "## Installing the dependencies\n",
        "\n",
        "You will need to install three dependencies to run this tutorial:\n",
        "\n",
        "* **Open3D**: See instructions on how to install [here](https://github.com/intel-isl/Open3D).\n",
        "\n",
        "* **OpenCV contrib**:\n",
        "See instructions on how to install [here](https://pypi.org/project/opencv-contrib-python).\n",
        "\n",
        "* **Plotly**:\n",
        "See instructions on how to install [here](https://github.com/plotly/plotly.py).\n",
        "\n",
        "Once you get ready with the dataset and the dependencies you can run the cells below. Please make sure to change the path to the dataset accordingly."
      ]
    },
    {
      "cell_type": "code",
      "source": [
        "!pip install open3d"
      ],
      "metadata": {
        "colab": {
          "base_uri": "https://localhost:8080/",
          "height": 1000
        },
        "id": "uYHmwi2N-Hgf",
        "outputId": "7c27834e-9f83-4f04-da79-eef8f528fa81"
      },
      "execution_count": 1,
      "outputs": [
        {
          "output_type": "stream",
          "name": "stdout",
          "text": [
            "Looking in indexes: https://pypi.org/simple, https://us-python.pkg.dev/colab-wheels/public/simple/\n",
            "Collecting open3d\n",
            "  Downloading open3d-0.15.2-cp37-cp37m-manylinux_2_27_x86_64.whl (408.6 MB)\n",
            "\u001b[K     |████████████████████████████████| 408.6 MB 23 kB/s \n",
            "\u001b[?25hCollecting pyyaml>=5.4.1\n",
            "  Downloading PyYAML-6.0-cp37-cp37m-manylinux_2_5_x86_64.manylinux1_x86_64.manylinux_2_12_x86_64.manylinux2010_x86_64.whl (596 kB)\n",
            "\u001b[K     |████████████████████████████████| 596 kB 46.0 MB/s \n",
            "\u001b[?25hRequirement already satisfied: scikit-learn>=0.21 in /usr/local/lib/python3.7/dist-packages (from open3d) (1.0.2)\n",
            "Requirement already satisfied: tqdm in /usr/local/lib/python3.7/dist-packages (from open3d) (4.64.0)\n",
            "Requirement already satisfied: matplotlib>=3 in /usr/local/lib/python3.7/dist-packages (from open3d) (3.2.2)\n",
            "Collecting pygments>=2.7.4\n",
            "  Downloading Pygments-2.12.0-py3-none-any.whl (1.1 MB)\n",
            "\u001b[K     |████████████████████████████████| 1.1 MB 40.2 MB/s \n",
            "\u001b[?25hCollecting addict\n",
            "  Downloading addict-2.4.0-py3-none-any.whl (3.8 kB)\n",
            "Requirement already satisfied: ipywidgets>=7.6.0 in /usr/local/lib/python3.7/dist-packages (from open3d) (7.7.0)\n",
            "Requirement already satisfied: setuptools>=40.8.0 in /usr/local/lib/python3.7/dist-packages (from open3d) (57.4.0)\n",
            "Collecting jupyterlab==3.*,>=3.0.0\n",
            "  Downloading jupyterlab-3.4.2-py3-none-any.whl (8.8 MB)\n",
            "\u001b[K     |████████████████████████████████| 8.8 MB 41.8 MB/s \n",
            "\u001b[?25hRequirement already satisfied: numpy>=1.18.0 in /usr/local/lib/python3.7/dist-packages (from open3d) (1.21.6)\n",
            "Requirement already satisfied: pandas>=1.0 in /usr/local/lib/python3.7/dist-packages (from open3d) (1.3.5)\n",
            "Collecting pyquaternion\n",
            "  Downloading pyquaternion-0.9.9-py3-none-any.whl (14 kB)\n",
            "Collecting pillow>=8.2.0\n",
            "  Downloading Pillow-9.1.1-cp37-cp37m-manylinux_2_17_x86_64.manylinux2014_x86_64.whl (3.1 MB)\n",
            "\u001b[K     |████████████████████████████████| 3.1 MB 45.2 MB/s \n",
            "\u001b[?25hCollecting jupyter-packaging~=0.10\n",
            "  Downloading jupyter_packaging-0.12.1-py3-none-any.whl (15 kB)\n",
            "Requirement already satisfied: wheel>=0.36.0 in /usr/local/lib/python3.7/dist-packages (from open3d) (0.37.1)\n",
            "Collecting jupyter-server~=1.16\n",
            "  Downloading jupyter_server-1.17.0-py3-none-any.whl (342 kB)\n",
            "\u001b[K     |████████████████████████████████| 342 kB 63.5 MB/s \n",
            "\u001b[?25hCollecting tornado>=6.1.0\n",
            "  Downloading tornado-6.1-cp37-cp37m-manylinux2010_x86_64.whl (428 kB)\n",
            "\u001b[K     |████████████████████████████████| 428 kB 53.0 MB/s \n",
            "\u001b[?25hRequirement already satisfied: packaging in /usr/local/lib/python3.7/dist-packages (from jupyterlab==3.*,>=3.0.0->open3d) (21.3)\n",
            "Requirement already satisfied: jupyter-core in /usr/local/lib/python3.7/dist-packages (from jupyterlab==3.*,>=3.0.0->open3d) (4.10.0)\n",
            "Requirement already satisfied: ipython in /usr/local/lib/python3.7/dist-packages (from jupyterlab==3.*,>=3.0.0->open3d) (5.5.0)\n",
            "Requirement already satisfied: jinja2>=2.1 in /usr/local/lib/python3.7/dist-packages (from jupyterlab==3.*,>=3.0.0->open3d) (2.11.3)\n",
            "Collecting nbclassic~=0.2\n",
            "  Downloading nbclassic-0.3.7-py3-none-any.whl (13 kB)\n",
            "Collecting jupyterlab-server~=2.10\n",
            "  Downloading jupyterlab_server-2.14.0-py3-none-any.whl (54 kB)\n",
            "\u001b[K     |████████████████████████████████| 54 kB 2.5 MB/s \n",
            "\u001b[?25hRequirement already satisfied: ipython-genutils~=0.2.0 in /usr/local/lib/python3.7/dist-packages (from ipywidgets>=7.6.0->open3d) (0.2.0)\n",
            "Requirement already satisfied: ipykernel>=4.5.1 in /usr/local/lib/python3.7/dist-packages (from ipywidgets>=7.6.0->open3d) (4.10.1)\n",
            "Requirement already satisfied: nbformat>=4.2.0 in /usr/local/lib/python3.7/dist-packages (from ipywidgets>=7.6.0->open3d) (5.4.0)\n",
            "Requirement already satisfied: jupyterlab-widgets>=1.0.0 in /usr/local/lib/python3.7/dist-packages (from ipywidgets>=7.6.0->open3d) (1.1.0)\n",
            "Requirement already satisfied: traitlets>=4.3.1 in /usr/local/lib/python3.7/dist-packages (from ipywidgets>=7.6.0->open3d) (5.1.1)\n",
            "Requirement already satisfied: widgetsnbextension~=3.6.0 in /usr/local/lib/python3.7/dist-packages (from ipywidgets>=7.6.0->open3d) (3.6.0)\n",
            "Requirement already satisfied: jupyter-client in /usr/local/lib/python3.7/dist-packages (from ipykernel>=4.5.1->ipywidgets>=7.6.0->open3d) (5.3.5)\n",
            "Requirement already satisfied: pexpect in /usr/local/lib/python3.7/dist-packages (from ipython->jupyterlab==3.*,>=3.0.0->open3d) (4.8.0)\n",
            "Requirement already satisfied: decorator in /usr/local/lib/python3.7/dist-packages (from ipython->jupyterlab==3.*,>=3.0.0->open3d) (4.4.2)\n",
            "Requirement already satisfied: prompt-toolkit<2.0.0,>=1.0.4 in /usr/local/lib/python3.7/dist-packages (from ipython->jupyterlab==3.*,>=3.0.0->open3d) (1.0.18)\n",
            "Requirement already satisfied: pickleshare in /usr/local/lib/python3.7/dist-packages (from ipython->jupyterlab==3.*,>=3.0.0->open3d) (0.7.5)\n",
            "Requirement already satisfied: simplegeneric>0.8 in /usr/local/lib/python3.7/dist-packages (from ipython->jupyterlab==3.*,>=3.0.0->open3d) (0.8.1)\n",
            "Requirement already satisfied: MarkupSafe>=0.23 in /usr/local/lib/python3.7/dist-packages (from jinja2>=2.1->jupyterlab==3.*,>=3.0.0->open3d) (2.0.1)\n",
            "Collecting setuptools>=40.8.0\n",
            "  Downloading setuptools-62.3.2-py3-none-any.whl (1.2 MB)\n",
            "\u001b[K     |████████████████████████████████| 1.2 MB 38.8 MB/s \n",
            "\u001b[?25hCollecting deprecation\n",
            "  Downloading deprecation-2.1.0-py2.py3-none-any.whl (11 kB)\n",
            "Collecting tomlkit\n",
            "  Downloading tomlkit-0.11.0-py3-none-any.whl (34 kB)\n",
            "Requirement already satisfied: argon2-cffi in /usr/local/lib/python3.7/dist-packages (from jupyter-server~=1.16->jupyterlab==3.*,>=3.0.0->open3d) (21.3.0)\n",
            "Collecting jupyter-client\n",
            "  Downloading jupyter_client-7.3.1-py3-none-any.whl (130 kB)\n",
            "\u001b[K     |████████████████████████████████| 130 kB 62.4 MB/s \n",
            "\u001b[?25hRequirement already satisfied: terminado>=0.8.3 in /usr/local/lib/python3.7/dist-packages (from jupyter-server~=1.16->jupyterlab==3.*,>=3.0.0->open3d) (0.13.3)\n",
            "Requirement already satisfied: Send2Trash in /usr/local/lib/python3.7/dist-packages (from jupyter-server~=1.16->jupyterlab==3.*,>=3.0.0->open3d) (1.8.0)\n",
            "Collecting websocket-client\n",
            "  Downloading websocket_client-1.3.2-py3-none-any.whl (54 kB)\n",
            "\u001b[K     |████████████████████████████████| 54 kB 2.8 MB/s \n",
            "\u001b[?25hCollecting anyio<4,>=3.1.0\n",
            "  Downloading anyio-3.6.1-py3-none-any.whl (80 kB)\n",
            "\u001b[K     |████████████████████████████████| 80 kB 8.9 MB/s \n",
            "\u001b[?25hRequirement already satisfied: prometheus-client in /usr/local/lib/python3.7/dist-packages (from jupyter-server~=1.16->jupyterlab==3.*,>=3.0.0->open3d) (0.14.1)\n",
            "Collecting nbconvert>=6.4.4\n",
            "  Downloading nbconvert-6.5.0-py3-none-any.whl (561 kB)\n",
            "\u001b[K     |████████████████████████████████| 561 kB 47.1 MB/s \n",
            "\u001b[?25hRequirement already satisfied: pyzmq>=17 in /usr/local/lib/python3.7/dist-packages (from jupyter-server~=1.16->jupyterlab==3.*,>=3.0.0->open3d) (23.0.0)\n",
            "Requirement already satisfied: typing-extensions in /usr/local/lib/python3.7/dist-packages (from anyio<4,>=3.1.0->jupyter-server~=1.16->jupyterlab==3.*,>=3.0.0->open3d) (4.2.0)\n",
            "Collecting sniffio>=1.1\n",
            "  Downloading sniffio-1.2.0-py3-none-any.whl (10 kB)\n",
            "Requirement already satisfied: idna>=2.8 in /usr/local/lib/python3.7/dist-packages (from anyio<4,>=3.1.0->jupyter-server~=1.16->jupyterlab==3.*,>=3.0.0->open3d) (2.10)\n",
            "Requirement already satisfied: nest-asyncio>=1.5.4 in /usr/local/lib/python3.7/dist-packages (from jupyter-client->ipykernel>=4.5.1->ipywidgets>=7.6.0->open3d) (1.5.5)\n",
            "Requirement already satisfied: python-dateutil>=2.8.2 in /usr/local/lib/python3.7/dist-packages (from jupyter-client->ipykernel>=4.5.1->ipywidgets>=7.6.0->open3d) (2.8.2)\n",
            "Requirement already satisfied: entrypoints in /usr/local/lib/python3.7/dist-packages (from jupyter-client->ipykernel>=4.5.1->ipywidgets>=7.6.0->open3d) (0.4)\n",
            "Requirement already satisfied: importlib-metadata>=3.6 in /usr/local/lib/python3.7/dist-packages (from jupyterlab-server~=2.10->jupyterlab==3.*,>=3.0.0->open3d) (4.11.3)\n",
            "Collecting jinja2>=2.1\n",
            "  Downloading Jinja2-3.1.2-py3-none-any.whl (133 kB)\n",
            "\u001b[K     |████████████████████████████████| 133 kB 62.7 MB/s \n",
            "\u001b[?25hRequirement already satisfied: requests in /usr/local/lib/python3.7/dist-packages (from jupyterlab-server~=2.10->jupyterlab==3.*,>=3.0.0->open3d) (2.23.0)\n",
            "Requirement already satisfied: babel in /usr/local/lib/python3.7/dist-packages (from jupyterlab-server~=2.10->jupyterlab==3.*,>=3.0.0->open3d) (2.10.1)\n",
            "Requirement already satisfied: jsonschema>=3.0.1 in /usr/local/lib/python3.7/dist-packages (from jupyterlab-server~=2.10->jupyterlab==3.*,>=3.0.0->open3d) (4.3.3)\n",
            "Collecting json5\n",
            "  Downloading json5-0.9.8.tar.gz (22 kB)\n",
            "Requirement already satisfied: zipp>=0.5 in /usr/local/lib/python3.7/dist-packages (from importlib-metadata>=3.6->jupyterlab-server~=2.10->jupyterlab==3.*,>=3.0.0->open3d) (3.8.0)\n",
            "Requirement already satisfied: importlib-resources>=1.4.0 in /usr/local/lib/python3.7/dist-packages (from jsonschema>=3.0.1->jupyterlab-server~=2.10->jupyterlab==3.*,>=3.0.0->open3d) (5.7.1)\n",
            "Requirement already satisfied: pyrsistent!=0.17.0,!=0.17.1,!=0.17.2,>=0.14.0 in /usr/local/lib/python3.7/dist-packages (from jsonschema>=3.0.1->jupyterlab-server~=2.10->jupyterlab==3.*,>=3.0.0->open3d) (0.18.1)\n",
            "Requirement already satisfied: attrs>=17.4.0 in /usr/local/lib/python3.7/dist-packages (from jsonschema>=3.0.1->jupyterlab-server~=2.10->jupyterlab==3.*,>=3.0.0->open3d) (21.4.0)\n",
            "Requirement already satisfied: kiwisolver>=1.0.1 in /usr/local/lib/python3.7/dist-packages (from matplotlib>=3->open3d) (1.4.2)\n",
            "Requirement already satisfied: pyparsing!=2.0.4,!=2.1.2,!=2.1.6,>=2.0.1 in /usr/local/lib/python3.7/dist-packages (from matplotlib>=3->open3d) (3.0.9)\n",
            "Requirement already satisfied: cycler>=0.10 in /usr/local/lib/python3.7/dist-packages (from matplotlib>=3->open3d) (0.11.0)\n",
            "Collecting notebook-shim>=0.1.0\n",
            "  Downloading notebook_shim-0.1.0-py3-none-any.whl (13 kB)\n",
            "Requirement already satisfied: notebook<7 in /usr/local/lib/python3.7/dist-packages (from nbclassic~=0.2->jupyterlab==3.*,>=3.0.0->open3d) (5.3.1)\n",
            "Requirement already satisfied: nbclient>=0.5.0 in /usr/local/lib/python3.7/dist-packages (from nbconvert>=6.4.4->jupyter-server~=1.16->jupyterlab==3.*,>=3.0.0->open3d) (0.6.3)\n",
            "Requirement already satisfied: jupyterlab-pygments in /usr/local/lib/python3.7/dist-packages (from nbconvert>=6.4.4->jupyter-server~=1.16->jupyterlab==3.*,>=3.0.0->open3d) (0.2.2)\n",
            "Requirement already satisfied: tinycss2 in /usr/local/lib/python3.7/dist-packages (from nbconvert>=6.4.4->jupyter-server~=1.16->jupyterlab==3.*,>=3.0.0->open3d) (1.1.1)\n",
            "Requirement already satisfied: bleach in /usr/local/lib/python3.7/dist-packages (from nbconvert>=6.4.4->jupyter-server~=1.16->jupyterlab==3.*,>=3.0.0->open3d) (5.0.0)\n",
            "Requirement already satisfied: defusedxml in /usr/local/lib/python3.7/dist-packages (from nbconvert>=6.4.4->jupyter-server~=1.16->jupyterlab==3.*,>=3.0.0->open3d) (0.7.1)\n",
            "Requirement already satisfied: beautifulsoup4 in /usr/local/lib/python3.7/dist-packages (from nbconvert>=6.4.4->jupyter-server~=1.16->jupyterlab==3.*,>=3.0.0->open3d) (4.6.3)\n",
            "Requirement already satisfied: mistune<2,>=0.8.1 in /usr/local/lib/python3.7/dist-packages (from nbconvert>=6.4.4->jupyter-server~=1.16->jupyterlab==3.*,>=3.0.0->open3d) (0.8.4)\n",
            "Requirement already satisfied: pandocfilters>=1.4.1 in /usr/local/lib/python3.7/dist-packages (from nbconvert>=6.4.4->jupyter-server~=1.16->jupyterlab==3.*,>=3.0.0->open3d) (1.5.0)\n",
            "Requirement already satisfied: fastjsonschema in /usr/local/lib/python3.7/dist-packages (from nbformat>=4.2.0->ipywidgets>=7.6.0->open3d) (2.15.3)\n",
            "Requirement already satisfied: pytz>=2017.3 in /usr/local/lib/python3.7/dist-packages (from pandas>=1.0->open3d) (2022.1)\n",
            "Requirement already satisfied: wcwidth in /usr/local/lib/python3.7/dist-packages (from prompt-toolkit<2.0.0,>=1.0.4->ipython->jupyterlab==3.*,>=3.0.0->open3d) (0.2.5)\n",
            "Requirement already satisfied: six>=1.9.0 in /usr/local/lib/python3.7/dist-packages (from prompt-toolkit<2.0.0,>=1.0.4->ipython->jupyterlab==3.*,>=3.0.0->open3d) (1.15.0)\n",
            "Requirement already satisfied: threadpoolctl>=2.0.0 in /usr/local/lib/python3.7/dist-packages (from scikit-learn>=0.21->open3d) (3.1.0)\n",
            "Requirement already satisfied: scipy>=1.1.0 in /usr/local/lib/python3.7/dist-packages (from scikit-learn>=0.21->open3d) (1.4.1)\n",
            "Requirement already satisfied: joblib>=0.11 in /usr/local/lib/python3.7/dist-packages (from scikit-learn>=0.21->open3d) (1.1.0)\n",
            "Requirement already satisfied: ptyprocess in /usr/local/lib/python3.7/dist-packages (from terminado>=0.8.3->jupyter-server~=1.16->jupyterlab==3.*,>=3.0.0->open3d) (0.7.0)\n",
            "Requirement already satisfied: argon2-cffi-bindings in /usr/local/lib/python3.7/dist-packages (from argon2-cffi->jupyter-server~=1.16->jupyterlab==3.*,>=3.0.0->open3d) (21.2.0)\n",
            "Requirement already satisfied: cffi>=1.0.1 in /usr/local/lib/python3.7/dist-packages (from argon2-cffi-bindings->argon2-cffi->jupyter-server~=1.16->jupyterlab==3.*,>=3.0.0->open3d) (1.15.0)\n",
            "Requirement already satisfied: pycparser in /usr/local/lib/python3.7/dist-packages (from cffi>=1.0.1->argon2-cffi-bindings->argon2-cffi->jupyter-server~=1.16->jupyterlab==3.*,>=3.0.0->open3d) (2.21)\n",
            "Requirement already satisfied: webencodings in /usr/local/lib/python3.7/dist-packages (from bleach->nbconvert>=6.4.4->jupyter-server~=1.16->jupyterlab==3.*,>=3.0.0->open3d) (0.5.1)\n",
            "Requirement already satisfied: certifi>=2017.4.17 in /usr/local/lib/python3.7/dist-packages (from requests->jupyterlab-server~=2.10->jupyterlab==3.*,>=3.0.0->open3d) (2022.5.18.1)\n",
            "Requirement already satisfied: chardet<4,>=3.0.2 in /usr/local/lib/python3.7/dist-packages (from requests->jupyterlab-server~=2.10->jupyterlab==3.*,>=3.0.0->open3d) (3.0.4)\n",
            "Requirement already satisfied: urllib3!=1.25.0,!=1.25.1,<1.26,>=1.21.1 in /usr/local/lib/python3.7/dist-packages (from requests->jupyterlab-server~=2.10->jupyterlab==3.*,>=3.0.0->open3d) (1.24.3)\n",
            "Building wheels for collected packages: json5\n",
            "  Building wheel for json5 (setup.py) ... \u001b[?25l\u001b[?25hdone\n",
            "  Created wheel for json5: filename=json5-0.9.8-py2.py3-none-any.whl size=18604 sha256=cfb8107a66b8326cf80621a6850a4eabef0ce9ee49e631c3f6f24f96bf21822c\n",
            "  Stored in directory: /root/.cache/pip/wheels/ac/9b/de/6e4fd8f159d3dfa42c42ceddf2184fda29ea7fb1e8f5f8371c\n",
            "Successfully built json5\n",
            "Installing collected packages: tornado, jupyter-client, sniffio, setuptools, pygments, jinja2, websocket-client, nbconvert, anyio, jupyter-server, notebook-shim, json5, tomlkit, nbclassic, jupyterlab-server, deprecation, pyyaml, pyquaternion, pillow, jupyterlab, jupyter-packaging, addict, open3d\n",
            "  Attempting uninstall: tornado\n",
            "    Found existing installation: tornado 5.1.1\n",
            "    Uninstalling tornado-5.1.1:\n",
            "      Successfully uninstalled tornado-5.1.1\n",
            "  Attempting uninstall: jupyter-client\n",
            "    Found existing installation: jupyter-client 5.3.5\n",
            "    Uninstalling jupyter-client-5.3.5:\n",
            "      Successfully uninstalled jupyter-client-5.3.5\n",
            "  Attempting uninstall: setuptools\n",
            "    Found existing installation: setuptools 57.4.0\n",
            "    Uninstalling setuptools-57.4.0:\n",
            "      Successfully uninstalled setuptools-57.4.0\n",
            "  Attempting uninstall: pygments\n",
            "    Found existing installation: Pygments 2.6.1\n",
            "    Uninstalling Pygments-2.6.1:\n",
            "      Successfully uninstalled Pygments-2.6.1\n",
            "  Attempting uninstall: jinja2\n",
            "    Found existing installation: Jinja2 2.11.3\n",
            "    Uninstalling Jinja2-2.11.3:\n",
            "      Successfully uninstalled Jinja2-2.11.3\n",
            "  Attempting uninstall: nbconvert\n",
            "    Found existing installation: nbconvert 5.6.1\n",
            "    Uninstalling nbconvert-5.6.1:\n",
            "      Successfully uninstalled nbconvert-5.6.1\n",
            "  Attempting uninstall: pyyaml\n",
            "    Found existing installation: PyYAML 3.13\n",
            "    Uninstalling PyYAML-3.13:\n",
            "      Successfully uninstalled PyYAML-3.13\n",
            "  Attempting uninstall: pillow\n",
            "    Found existing installation: Pillow 7.1.2\n",
            "    Uninstalling Pillow-7.1.2:\n",
            "      Successfully uninstalled Pillow-7.1.2\n",
            "\u001b[31mERROR: pip's dependency resolver does not currently take into account all the packages that are installed. This behaviour is the source of the following dependency conflicts.\n",
            "tensorflow 2.8.0+zzzcolab20220506162203 requires tf-estimator-nightly==2.8.0.dev2021122109, which is not installed.\n",
            "google-colab 1.0.0 requires tornado~=5.1.0; python_version >= \"3.0\", but you have tornado 6.1 which is incompatible.\n",
            "flask 1.1.4 requires Jinja2<3.0,>=2.10.1, but you have jinja2 3.1.2 which is incompatible.\n",
            "datascience 0.10.6 requires folium==0.2.1, but you have folium 0.8.3 which is incompatible.\n",
            "albumentations 0.1.12 requires imgaug<0.2.7,>=0.2.5, but you have imgaug 0.2.9 which is incompatible.\u001b[0m\n",
            "Successfully installed addict-2.4.0 anyio-3.6.1 deprecation-2.1.0 jinja2-3.1.2 json5-0.9.8 jupyter-client-7.3.1 jupyter-packaging-0.12.1 jupyter-server-1.17.0 jupyterlab-3.4.2 jupyterlab-server-2.14.0 nbclassic-0.3.7 nbconvert-6.5.0 notebook-shim-0.1.0 open3d-0.15.2 pillow-9.1.1 pygments-2.12.0 pyquaternion-0.9.9 pyyaml-6.0 setuptools-62.3.2 sniffio-1.2.0 tomlkit-0.11.0 tornado-6.1 websocket-client-1.3.2\n"
          ]
        },
        {
          "output_type": "display_data",
          "data": {
            "application/vnd.colab-display-data+json": {
              "pip_warning": {
                "packages": [
                  "PIL",
                  "jupyter_client",
                  "pkg_resources",
                  "pygments",
                  "tornado"
                ]
              }
            }
          },
          "metadata": {}
        }
      ]
    },
    {
      "cell_type": "code",
      "source": [
        "!python -c \"import open3d as o3d; print(o3d.__version__)\""
      ],
      "metadata": {
        "colab": {
          "base_uri": "https://localhost:8080/"
        },
        "id": "eWdKhxVeH-mY",
        "outputId": "a433c3cb-bd77-4afe-de93-731968599368"
      },
      "execution_count": 2,
      "outputs": [
        {
          "output_type": "stream",
          "name": "stdout",
          "text": [
            "0.15.2\n"
          ]
        }
      ]
    },
    {
      "cell_type": "code",
      "source": [
        "! pip install opencv-contrib-python"
      ],
      "metadata": {
        "colab": {
          "base_uri": "https://localhost:8080/"
        },
        "id": "59CTiv8wIZkY",
        "outputId": "ae09102e-cf97-418b-c6e6-e2787c6b9eca"
      },
      "execution_count": 3,
      "outputs": [
        {
          "output_type": "stream",
          "name": "stdout",
          "text": [
            "Looking in indexes: https://pypi.org/simple, https://us-python.pkg.dev/colab-wheels/public/simple/\n",
            "Requirement already satisfied: opencv-contrib-python in /usr/local/lib/python3.7/dist-packages (4.1.2.30)\n",
            "Requirement already satisfied: numpy>=1.14.5 in /usr/local/lib/python3.7/dist-packages (from opencv-contrib-python) (1.21.6)\n"
          ]
        }
      ]
    },
    {
      "cell_type": "code",
      "source": [
        "!pip install plotly==5.8.0"
      ],
      "metadata": {
        "colab": {
          "base_uri": "https://localhost:8080/"
        },
        "id": "MtPIbsoBIgxx",
        "outputId": "4697a74f-52e2-40e2-b4ec-fabf237b3080"
      },
      "execution_count": 4,
      "outputs": [
        {
          "output_type": "stream",
          "name": "stdout",
          "text": [
            "Looking in indexes: https://pypi.org/simple, https://us-python.pkg.dev/colab-wheels/public/simple/\n",
            "Collecting plotly==5.8.0\n",
            "  Downloading plotly-5.8.0-py2.py3-none-any.whl (15.2 MB)\n",
            "\u001b[K     |████████████████████████████████| 15.2 MB 14.8 MB/s \n",
            "\u001b[?25hRequirement already satisfied: tenacity>=6.2.0 in /usr/local/lib/python3.7/dist-packages (from plotly==5.8.0) (8.0.1)\n",
            "Installing collected packages: plotly\n",
            "  Attempting uninstall: plotly\n",
            "    Found existing installation: plotly 5.5.0\n",
            "    Uninstalling plotly-5.5.0:\n",
            "      Successfully uninstalled plotly-5.5.0\n",
            "Successfully installed plotly-5.8.0\n"
          ]
        }
      ]
    },
    {
      "cell_type": "code",
      "execution_count": 5,
      "metadata": {
        "scrolled": false,
        "colab": {
          "base_uri": "https://localhost:8080/",
          "height": 375
        },
        "id": "HVy_07gjO1rU",
        "outputId": "a0aa6f3a-5b81-4aaf-b69c-612bf88d0bd7"
      },
      "outputs": [
        {
          "output_type": "error",
          "ename": "ModuleNotFoundError",
          "evalue": "ignored",
          "traceback": [
            "\u001b[0;31m---------------------------------------------------------------------------\u001b[0m",
            "\u001b[0;31mModuleNotFoundError\u001b[0m                       Traceback (most recent call last)",
            "\u001b[0;32m<ipython-input-5-638f807be219>\u001b[0m in \u001b[0;36m<module>\u001b[0;34m()\u001b[0m\n\u001b[1;32m     12\u001b[0m \u001b[0;32mimport\u001b[0m \u001b[0mplotly\u001b[0m\u001b[0;34m.\u001b[0m\u001b[0mgraph_objects\u001b[0m \u001b[0;32mas\u001b[0m \u001b[0mgo\u001b[0m\u001b[0;34m\u001b[0m\u001b[0;34m\u001b[0m\u001b[0m\n\u001b[1;32m     13\u001b[0m \u001b[0;34m\u001b[0m\u001b[0m\n\u001b[0;32m---> 14\u001b[0;31m \u001b[0;32mfrom\u001b[0m \u001b[0margoverse\u001b[0m\u001b[0;34m.\u001b[0m\u001b[0mdata_loading\u001b[0m\u001b[0;34m.\u001b[0m\u001b[0mstereo_dataloader\u001b[0m \u001b[0;32mimport\u001b[0m \u001b[0mArgoverseStereoDataLoader\u001b[0m\u001b[0;34m\u001b[0m\u001b[0;34m\u001b[0m\u001b[0m\n\u001b[0m\u001b[1;32m     15\u001b[0m \u001b[0;32mfrom\u001b[0m \u001b[0margoverse\u001b[0m\u001b[0;34m.\u001b[0m\u001b[0mevaluation\u001b[0m\u001b[0;34m.\u001b[0m\u001b[0mstereo\u001b[0m\u001b[0;34m.\u001b[0m\u001b[0meval\u001b[0m \u001b[0;32mimport\u001b[0m \u001b[0mStereoEvaluator\u001b[0m\u001b[0;34m\u001b[0m\u001b[0;34m\u001b[0m\u001b[0m\n\u001b[1;32m     16\u001b[0m \u001b[0;32mfrom\u001b[0m \u001b[0margoverse\u001b[0m\u001b[0;34m.\u001b[0m\u001b[0mutils\u001b[0m\u001b[0;34m.\u001b[0m\u001b[0mcalibration\u001b[0m \u001b[0;32mimport\u001b[0m \u001b[0mget_calibration_config\u001b[0m\u001b[0;34m\u001b[0m\u001b[0;34m\u001b[0m\u001b[0m\n",
            "\u001b[0;31mModuleNotFoundError\u001b[0m: No module named 'argoverse'",
            "",
            "\u001b[0;31m---------------------------------------------------------------------------\u001b[0;32m\nNOTE: If your import is failing due to a missing package, you can\nmanually install dependencies using either !pip or !apt.\n\nTo view examples of installing some common dependencies, click the\n\"Open Examples\" button below.\n\u001b[0;31m---------------------------------------------------------------------------\u001b[0m\n"
          ],
          "errorDetails": {
            "actions": [
              {
                "action": "open_url",
                "actionText": "Open Examples",
                "url": "/notebooks/snippets/importing_libraries.ipynb"
              }
            ]
          }
        }
      ],
      "source": [
        "%matplotlib notebook\n",
        "\n",
        "import copy\n",
        "import json\n",
        "import shutil\n",
        "from pathlib import Path\n",
        "\n",
        "import cv2\n",
        "import matplotlib.pyplot as plt\n",
        "import numpy as np\n",
        "import open3d as o3d\n",
        "import plotly.graph_objects as go\n",
        "\n",
        "from argoverse.data_loading.stereo_dataloader import ArgoverseStereoDataLoader\n",
        "from argoverse.evaluation.stereo.eval import StereoEvaluator\n",
        "from argoverse.utils.calibration import get_calibration_config\n",
        "from argoverse.utils.camera_stats import RECTIFIED_STEREO_CAMERA_LIST\n",
        "\n",
        "STEREO_FRONT_LEFT_RECT = RECTIFIED_STEREO_CAMERA_LIST[0]\n",
        "STEREO_FRONT_RIGHT_RECT = RECTIFIED_STEREO_CAMERA_LIST[1]\n",
        "\n",
        "\n",
        "# Path to the dataset (please change accordingly).\n",
        "data_dir = \"/data/datasets/stereo/argoverse1/\"\n",
        "\n",
        "# Choosing the data split: train, val, or test (note that we do not provide ground truth for the test set).\n",
        "split_name = \"train\"\n",
        "\n",
        "# Choosing a specific log id. For example, 273c1883-673a-36bf-b124-88311b1a80be.\n",
        "log_id = \"273c1883-673a-36bf-b124-88311b1a80be\"\n",
        "\n",
        "# Choosing an index to select a specific stereo image pair. You can always modify this to loop over all data.\n",
        "idx = 34\n",
        "\n",
        "# Creating the Argoverse Stereo data loader.\n",
        "stereo_data_loader = ArgoverseStereoDataLoader(data_dir, split_name)\n",
        "\n",
        "# Loading the left rectified stereo image paths for the chosen log.\n",
        "left_stereo_img_fpaths = stereo_data_loader.get_ordered_log_stereo_image_fpaths(\n",
        "    log_id=log_id,\n",
        "    camera_name=STEREO_FRONT_LEFT_RECT,\n",
        ")\n",
        "\n",
        "# Loading the right rectified stereo image paths for the chosen log.\n",
        "right_stereo_img_fpaths = stereo_data_loader.get_ordered_log_stereo_image_fpaths(\n",
        "    log_id=log_id,\n",
        "    camera_name=STEREO_FRONT_RIGHT_RECT,\n",
        ")\n",
        "\n",
        "# Loading the disparity map paths for the chosen log.\n",
        "disparity_map_fpaths = stereo_data_loader.get_ordered_log_disparity_map_fpaths(\n",
        "    log_id=log_id,\n",
        "    disparity_name=\"stereo_front_left_rect_disparity\",\n",
        ")\n",
        "\n",
        "# Loading the disparity map paths for foreground objects for the chosen log.\n",
        "disparity_obj_map_fpaths = stereo_data_loader.get_ordered_log_disparity_map_fpaths(\n",
        "    log_id=log_id,\n",
        "    disparity_name=\"stereo_front_left_rect_objects_disparity\",\n",
        ")"
      ]
    },
    {
      "cell_type": "markdown",
      "metadata": {
        "id": "EU6rQtNcO1rY"
      },
      "source": [
        "## Stereo images and ground-truth disparity loading\n",
        "\n",
        "We provide rectified stereo image pairs, disparity maps for the left stereo images, and also disparity maps for foreground objects only."
      ]
    },
    {
      "cell_type": "code",
      "execution_count": null,
      "metadata": {
        "scrolled": false,
        "id": "PzUZNwiJO1rZ"
      },
      "outputs": [],
      "source": [
        "# Loading the rectified stereo images.\n",
        "stereo_front_left_rect_image = stereo_data_loader.get_rectified_stereo_image(left_stereo_img_fpaths[idx])\n",
        "stereo_front_right_rect_image = stereo_data_loader.get_rectified_stereo_image(right_stereo_img_fpaths[idx])\n",
        "\n",
        "# Loading the ground-truth disparity maps. \n",
        "stereo_front_left_rect_disparity = stereo_data_loader.get_disparity_map(disparity_map_fpaths[idx])\n",
        "\n",
        "# Loading the ground-truth disparity maps for foreground objects only. \n",
        "stereo_front_left_rect_objects_disparity = stereo_data_loader.get_disparity_map(disparity_obj_map_fpaths[idx])"
      ]
    },
    {
      "cell_type": "markdown",
      "metadata": {
        "id": "gBe7SlJhO1rZ"
      },
      "source": [
        "## Visualization\n",
        "Let's visualize the stereo image pair and its ground-truth disparities."
      ]
    },
    {
      "cell_type": "code",
      "execution_count": null,
      "metadata": {
        "scrolled": false,
        "id": "lE-W0oEEO1rZ"
      },
      "outputs": [],
      "source": [
        "# Dilating the disparity maps for a better visualization.\n",
        "stereo_front_left_rect_disparity_dil = cv2.dilate(\n",
        "    stereo_front_left_rect_disparity, \n",
        "    kernel=np.ones((2, 2), np.uint8), \n",
        "    iterations=7,\n",
        ")\n",
        "\n",
        "stereo_front_left_rect_objects_disparity_dil = cv2.dilate(\n",
        "    stereo_front_left_rect_objects_disparity,\n",
        "    kernel=np.ones((2, 2), np.uint8),\n",
        "    iterations=7,\n",
        ")\n",
        "\n",
        "plt.figure(figsize=(9, 9))\n",
        "plt.subplot(2, 2, 1)\n",
        "plt.title(\"Rectified left stereo image\")\n",
        "plt.imshow(stereo_front_left_rect_image)\n",
        "plt.axis(\"off\")\n",
        "plt.subplot(2, 2, 2)\n",
        "plt.title(\"Rectified right stereo image\")\n",
        "plt.imshow(stereo_front_right_rect_image)\n",
        "plt.axis(\"off\")\n",
        "plt.subplot(2, 2, 3)\n",
        "plt.title(\"Left disparity map\")\n",
        "plt.imshow(\n",
        "    stereo_front_left_rect_disparity_dil,\n",
        "    cmap=\"nipy_spectral\",\n",
        "    vmin=0,\n",
        "    vmax=192,\n",
        "    interpolation=\"none\",\n",
        ")\n",
        "plt.axis(\"off\")\n",
        "plt.subplot(2, 2, 4)\n",
        "plt.title(\"Left object disparity map\")\n",
        "plt.imshow(\n",
        "    stereo_front_left_rect_objects_disparity_dil,\n",
        "    cmap=\"nipy_spectral\",\n",
        "    vmin=0,\n",
        "    vmax=192,\n",
        "    interpolation=\"none\",\n",
        ")\n",
        "plt.axis(\"off\")\n",
        "plt.tight_layout()"
      ]
    },
    {
      "cell_type": "markdown",
      "metadata": {
        "id": "9U50PN0dO1rb"
      },
      "source": [
        "## Recovering and visualizing the true depth from the disparity map\n",
        "Here we use the following relationship to recover the depth from disparity: $z = \\frac{fB}{d}$, where $z$ is the depth in meters, $f$ is the focal length in pixels, $B$ is the baseline in meters, and $d$ is the disparity in pixels."
      ]
    },
    {
      "cell_type": "code",
      "execution_count": null,
      "metadata": {
        "scrolled": false,
        "id": "agdQ3IrAO1rc"
      },
      "outputs": [],
      "source": [
        "# First, we need to load the camera calibration. Specifically, we want the camera intrinsic parameters.\n",
        "calib_data = stereo_data_loader.get_log_calibration_data(log_id=log_id)\n",
        "camera_config = get_calibration_config(calib_data, camera_name=STEREO_FRONT_LEFT_RECT)\n",
        "\n",
        "# Getting the focal lenght and baseline. Note that the baseline is constant for the Argoverse stereo rig setup.\n",
        "focal_lenght = camera_config.intrinsic[0, 0]  # Focal length in pixels.\n",
        "BASELINE = 0.2986  # Baseline in meters.\n",
        "\n",
        "# We consider disparities greater than zero to be valid disparities.\n",
        "# A zero disparity corresponds to an infinite distance.\n",
        "valid_pixels = stereo_front_left_rect_disparity > 0\n",
        "\n",
        "# Using the stereo relationship previsouly described, we can recover the depth map by:\n",
        "stereo_front_left_rect_depth = \\\n",
        "    np.float32((focal_lenght * BASELINE) / (stereo_front_left_rect_disparity + (1.0 - valid_pixels)))\n",
        "\n",
        "# Recovering the colorized point cloud using Open3D.\n",
        "left_image_o3d = o3d.geometry.Image(stereo_front_left_rect_image)\n",
        "depth_o3d = o3d.geometry.Image(stereo_front_left_rect_depth)\n",
        "rgbd_image_o3d = o3d.geometry.RGBDImage.create_from_color_and_depth(\n",
        "    left_image_o3d, \n",
        "    depth_o3d, \n",
        "    convert_rgb_to_intensity=False, \n",
        "    depth_scale=1.0, \n",
        "    depth_trunc=200,\n",
        ")\n",
        "pinhole_camera_intrinsic = o3d.camera.PinholeCameraIntrinsic()\n",
        "pinhole_camera_intrinsic.intrinsic_matrix = camera_config.intrinsic[:3, :3]\n",
        "pinhole_camera_intrinsic.height = camera_config.img_height\n",
        "pinhole_camera_intrinsic.width = camera_config.img_width\n",
        "pcd = o3d.geometry.PointCloud.create_from_rgbd_image(rgbd_image_o3d, pinhole_camera_intrinsic)\n",
        "\n",
        "# Showing the colorized point cloud using the interactive Plotly.\n",
        "points = np.asarray(pcd.points)\n",
        "colors = np.asarray(pcd.colors)\n",
        "\n",
        "fig = go.Figure(\n",
        "    data=[\n",
        "        go.Scatter3d(\n",
        "            x=points[:, 0],\n",
        "            y=points[:, 1],\n",
        "            z=points[:, 2],\n",
        "            mode=\"markers\",\n",
        "            marker=dict(size=1, color=colors),\n",
        "        )\n",
        "    ],\n",
        "    layout=dict(\n",
        "        scene=dict(\n",
        "            xaxis=dict(visible=False),\n",
        "            yaxis=dict(visible=False),\n",
        "            zaxis=dict(visible=False),\n",
        "            aspectmode=\"data\",\n",
        "        )\n",
        "    ),\n",
        ")\n",
        "fig.show()"
      ]
    },
    {
      "cell_type": "markdown",
      "metadata": {
        "id": "LTbaNoQCO1rd"
      },
      "source": [
        "## Predicting the disparity map from a stereo pair image\n",
        "Here we provide a baseline to predict a disparity map given the left and right rectified stereo images.\n",
        "We choose the classic **Semi-Global Matching (SGM)** algorithm and used its OpenCV implementation.\n",
        "Please check the [OpenCV documentation](https://docs.opencv.org/3.4/d2/d85/classcv_1_1StereoSGBM.html) and the great [SGM paper](https://core.ac.uk/download/pdf/11134866.pdf), if you are interested in more details."
      ]
    },
    {
      "cell_type": "code",
      "execution_count": null,
      "metadata": {
        "scrolled": false,
        "id": "uU9qvwjAO1re"
      },
      "outputs": [],
      "source": [
        "# Defining the SGM parameters (please check the OpenCV documentation for details).\n",
        "# We found this parameters empirically and based on the Argoverse Stereo data. \n",
        "max_disp = 192\n",
        "win_size = 10\n",
        "uniqueness_ratio = 15\n",
        "speckle_window_size = 200\n",
        "speckle_range = 2\n",
        "block_size = 11\n",
        "P1 = 8 * 3 * win_size ** 2\n",
        "P2 = 32 * 3 * win_size ** 2\n",
        "\n",
        "# Defining the Weighted Least Squares (WLS) filter parameters.\n",
        "lmbda = 0.1\n",
        "sigma = 1.0\n",
        "\n",
        "# Defining the SGM left matcher.\n",
        "left_matcher = cv2.StereoSGBM_create(\n",
        "    minDisparity=0,\n",
        "    numDisparities=max_disp,\n",
        "    blockSize=block_size,\n",
        "    P1=P1,\n",
        "    P2=P2,\n",
        "    disp12MaxDiff=max_disp,\n",
        "    uniquenessRatio=uniqueness_ratio,\n",
        "    speckleWindowSize=speckle_window_size,\n",
        "    speckleRange=speckle_range,\n",
        "    mode=cv2.STEREO_SGBM_MODE_SGBM_3WAY,\n",
        ")\n",
        "\n",
        "# Defining the SGM right matcher needed for the left-right consistency check in the WLS filter.\n",
        "right_matcher = cv2.ximgproc.createRightMatcher(left_matcher)\n",
        "\n",
        "# Defining the WLS filter.\n",
        "wls_filter = cv2.ximgproc.createDisparityWLSFilter(matcher_left=left_matcher)\n",
        "wls_filter.setLambda(lmbda)\n",
        "wls_filter.setSigmaColor(sigma)\n",
        "\n",
        "# Computing the disparity maps.\n",
        "left_disparity = left_matcher.compute(stereo_front_left_rect_image, stereo_front_right_rect_image)\n",
        "right_disparity = right_matcher.compute(stereo_front_right_rect_image, stereo_front_left_rect_image)\n",
        "\n",
        "# Applying the WLS filter.\n",
        "left_disparity_pred = wls_filter.filter(left_disparity, stereo_front_left_rect_image, None, right_disparity)\n",
        "\n",
        "# Recovering the disparity map.\n",
        "# OpenCV produces a disparity map as a signed short obtained by multiplying subpixel shifts with 16.\n",
        "# To recover the true disparity values, we need to divide the output by 16 and convert to float.\n",
        "left_disparity_pred = np.float32(left_disparity_pred) / 16.0\n",
        "\n",
        "# OpenCV will also set negative values for invalid disparities where matches could not be found.\n",
        "# Here we set all invalid disparities to zero.\n",
        "left_disparity_pred[left_disparity_pred < 0] = 0"
      ]
    },
    {
      "cell_type": "markdown",
      "metadata": {
        "id": "91zPC24CO1rf"
      },
      "source": [
        "## Visualizing the results\n",
        "Here we plot the stereo image pair, the ground truth disparity, and the estimated disparity by SGM."
      ]
    },
    {
      "cell_type": "code",
      "execution_count": null,
      "metadata": {
        "scrolled": false,
        "id": "PTtXN0s0O1rf"
      },
      "outputs": [],
      "source": [
        "plt.figure(figsize=(9, 9))\n",
        "plt.subplot(2, 2, 1)\n",
        "plt.title(\"Rectified left stereo image\")\n",
        "plt.imshow(stereo_front_left_rect_image)\n",
        "plt.axis(\"off\")\n",
        "plt.subplot(2, 2, 2)\n",
        "plt.title(\"Rectified right stereo image\")\n",
        "plt.imshow(stereo_front_right_rect_image)\n",
        "plt.axis(\"off\")\n",
        "plt.subplot(2, 2, 3)\n",
        "plt.title(\"Ground-truth left disparity map\")\n",
        "plt.imshow(\n",
        "    stereo_front_left_rect_disparity_dil,\n",
        "    cmap=\"nipy_spectral\",\n",
        "    vmin=0,\n",
        "    vmax=192,\n",
        "    interpolation=\"none\",\n",
        ")\n",
        "plt.axis(\"off\")\n",
        "plt.subplot(2, 2, 4)\n",
        "plt.title(\"Estimated left disparity map\")\n",
        "plt.imshow(\n",
        "    left_disparity_pred, \n",
        "    cmap=\"nipy_spectral\", \n",
        "    vmin=0, \n",
        "    vmax=192, \n",
        "    interpolation=\"none\"\n",
        ")\n",
        "plt.axis(\"off\")\n",
        "plt.tight_layout()"
      ]
    },
    {
      "cell_type": "markdown",
      "metadata": {
        "id": "FYsvJkXlO1rg"
      },
      "source": [
        "## Recovering and visualizing the predicted point cloud from the disparity map\n"
      ]
    },
    {
      "cell_type": "code",
      "execution_count": null,
      "metadata": {
        "scrolled": false,
        "id": "9sdPKZYMO1rg"
      },
      "outputs": [],
      "source": [
        "# We consider disparities greater than zero to be valid disparities.\n",
        "# A zero disparity corresponds to an infinite distance.\n",
        "valid_pixels = left_disparity_pred > 0\n",
        "\n",
        "# Using the stereo relationship previsouly described, we can recover the predicted depth map by:\n",
        "left_depth_pred = \\\n",
        "    np.float32((focal_lenght * BASELINE) / (left_disparity_pred + (1.0 - valid_pixels)))\n",
        "\n",
        "# Recovering the colorized point cloud using Open3D.\n",
        "left_image_o3d = o3d.geometry.Image(stereo_front_left_rect_image)\n",
        "depth_o3d = o3d.geometry.Image(left_depth_pred)\n",
        "rgbd_image_o3d = o3d.geometry.RGBDImage.create_from_color_and_depth(\n",
        "    left_image_o3d, \n",
        "    depth_o3d, \n",
        "    convert_rgb_to_intensity=False, \n",
        "    depth_scale=1.0, \n",
        "    depth_trunc=200,\n",
        ")\n",
        "pinhole_camera_intrinsic = o3d.camera.PinholeCameraIntrinsic()\n",
        "pinhole_camera_intrinsic.intrinsic_matrix = camera_config.intrinsic[:3, :3]\n",
        "pinhole_camera_intrinsic.height = camera_config.img_height\n",
        "pinhole_camera_intrinsic.width = camera_config.img_width\n",
        "pcd = o3d.geometry.PointCloud.create_from_rgbd_image(rgbd_image_o3d, pinhole_camera_intrinsic)\n",
        "\n",
        "# Showing the colorized point cloud using the interactive Plotly.\n",
        "points = np.asarray(pcd.points)\n",
        "# Randomly sampling indices for faster rendering.\n",
        "indices = np.random.randint(len(points), size=100000)  \n",
        "points = points[indices]\n",
        "colors = np.asarray(pcd.colors)[indices]\n",
        "\n",
        "fig = go.Figure(\n",
        "    data=[\n",
        "        go.Scatter3d(\n",
        "            x=points[:, 0],\n",
        "            y=points[:, 1],\n",
        "            z=points[:, 2],\n",
        "            mode=\"markers\",\n",
        "            marker=dict(size=1, color=colors),\n",
        "        )\n",
        "    ],\n",
        "    layout=dict(\n",
        "        scene=dict(\n",
        "            xaxis=dict(visible=False),\n",
        "            yaxis=dict(visible=False),\n",
        "            zaxis=dict(visible=False),\n",
        "            aspectmode=\"data\",\n",
        "        ),\n",
        "    ),\n",
        ")\n",
        "fig.show()"
      ]
    },
    {
      "cell_type": "markdown",
      "metadata": {
        "id": "7ng6cwUIO1rh"
      },
      "source": [
        "## Saving the predicted disparity map to disk\n",
        "We encode the disparity maps using the raster-graphics PNG file format for lossless data compression. The disparity images are saved as uint16 and its values range is [0, 256].\n",
        "\n",
        "A zero \"0\" value indicates an invalid disparity/pixel. For the ground-truth disparity, zero means that no ground truth is available. \n",
        "\n",
        "To recover the real disparity value, we first convert the uint16 value to a float and then divide it by 256.0."
      ]
    },
    {
      "cell_type": "code",
      "execution_count": null,
      "metadata": {
        "scrolled": false,
        "id": "OusUHJe0O1rh"
      },
      "outputs": [],
      "source": [
        "# Encoding the real disparity values to an uint16 data format to save as an uint16 PNG file.\n",
        "left_disparity_pred = np.uint16(left_disparity_pred * 256.0)\n",
        "\n",
        "timestamp = int(Path(disparity_map_fpaths[idx]).stem.split(\"_\")[-1])\n",
        "\n",
        "# Change the path to the directory you would like to save the result.\n",
        "# The log id must be consistent with the stereo images' log id.\n",
        "save_dir_disp = f\"/tmp/results/sgm/stereo_output/{log_id}/\"\n",
        "Path(save_dir_disp).mkdir(parents=True, exist_ok=True)\n",
        "\n",
        "# The predicted disparity filename must have the format: 'disparity_[TIMESTAMP OF THE LEFT STEREO IMAGE].png' \n",
        "filename = f\"{save_dir_disp}/disparity_{timestamp}.png\"\n",
        "\n",
        "# Writing the PNG file to disk.\n",
        "cv2.imwrite(filename, left_disparity_pred)"
      ]
    },
    {
      "cell_type": "markdown",
      "metadata": {
        "id": "lDJ8OO2XO1ri"
      },
      "source": [
        "## Evaluating the results\n",
        "Our evaluation algorithm computes the percentage of bad pixels averaged over all ground-truth pixels, similar to the [KITTI Stereo 2015](http://www.cvlibs.net/datasets/kitti/eval_scene_flow.php?benchmark=stereo) benchmark. \n",
        "\n",
        "We consider the disparity of a pixel to be correctly estimated if the absolute disparity error is less than a threshold **or** its relative error is less than 10% of its true value. We define three disparity error thresholds: 3, 5, and 10 pixels.\n",
        "\n",
        "Our [EvalAI leaderboard](https://eval.ai/web/challenges/challenge-page/1704/overview) ranks all methods according to the number of bad pixels using a threshold of 10 pixels (i.e. **all:10**). Some stereo matching methods such as SGM might provide sparse disparity maps, meaning that some pixels will not have valid disparity values. In those cases, we interpolate the predicted disparity map using a simple nearest neighbor interpolation as in the [KITTI Stereo 2015](http://www.cvlibs.net/datasets/kitti/eval_scene_flow.php?benchmark=stereo) benchmark to assure we can compare it to our semi-dense ground-truth disparity map. Current deep stereo matching methods normally predict disparity maps with 100% density. Thus, an interpolation step is not needed for the evaluation.\n",
        "\n",
        "**The disparity errors metrics are the following:**\n",
        "\n",
        "* **all**: Percentage of stereo disparity errors averaged over all ground-truth pixels in the reference frame (left stereo image).\n",
        "* **bg**: Percentage of stereo disparity errors averaged only over background regions.\n",
        "* **fg**: Percentage of stereo disparity errors averaged only over foreground regions.\n",
        "\n",
        "The **$\\mathbf{*}$** (asterisk) means that the evaluation is performed using only the algorithm predicted disparities. Even though the disparities might be sparse, they are not interpolated.\n",
        "\n",
        "We evaluate all metrics using three error thresholds: 3, 5, or 10 pixels. \n",
        "The notation is then: **all:3**, **all:5**, **all:10**, **fg:3**, **fg:5**, **fg:10**, and so on."
      ]
    },
    {
      "cell_type": "code",
      "execution_count": null,
      "metadata": {
        "scrolled": false,
        "id": "594JWDxMO1rj"
      },
      "outputs": [],
      "source": [
        "# Path to the predicted disparity maps.\n",
        "pred_dir = Path(save_dir_disp)\n",
        "\n",
        "# Path to the ground-truth disparity maps.\n",
        "gt_dir = Path(f\"{data_dir}/disparity_maps_v1.1/{split_name}/{log_id}\")\n",
        "\n",
        "# Path to save the disparity error image.\n",
        "save_figures_dir = Path(\"/tmp/results/sgm/figures/\")\n",
        "save_figures_dir.mkdir(parents=True, exist_ok=True)\n",
        "\n",
        "print(pred_dir)\n",
        "print(gt_dir)\n",
        "\n",
        "# Creating the stereo evaluator.\n",
        "evaluator = StereoEvaluator(\n",
        "    pred_dir,\n",
        "    gt_dir,\n",
        "    save_figures_dir,\n",
        "    save_disparity_error_image=True,\n",
        "    num_procs=-1,\n",
        ")\n",
        "\n",
        "# Running the stereo evaluation.\n",
        "metrics = evaluator.evaluate()\n",
        "\n",
        "# Printing the quantitative results (using json trick for organized printing).\n",
        "print(f\"{json.dumps(metrics, sort_keys=False, indent=4)}\")"
      ]
    },
    {
      "cell_type": "markdown",
      "metadata": {
        "id": "fqj81WScO1rj"
      },
      "source": [
        "## Plotting the disparity error image\n",
        "We compute the disparity error image as in the [KITTI Stereo 2015](http://www.cvlibs.net/datasets/kitti/eval_scene_flow.php?benchmark=stereo) benchmark. The disparity error map uses a log colormap depicting correct estimates in blue and wrong estimates in red color tones. We define correct disparity estimates when the absolute disparity error is less than 10 pixels and the relative error is less than 10% of its true value."
      ]
    },
    {
      "cell_type": "code",
      "execution_count": null,
      "metadata": {
        "id": "maiKg5xKO1rj"
      },
      "outputs": [],
      "source": [
        "# Reading the PNG disparity error image and converting it to RGB.\n",
        "disparity_error_image_path = f\"{save_figures_dir}/{log_id}/disparity_error_{timestamp}.png\"\n",
        "disparity_error_image = cv2.cvtColor(cv2.imread(disparity_error_image_path), cv2.COLOR_BGR2RGB)\n",
        "\n",
        "# Showing the disparity error image.\n",
        "plt.figure(figsize=(9, 9))\n",
        "plt.imshow(disparity_error_image)\n",
        "plt.axis(\"off\")\n",
        "plt.tight_layout()"
      ]
    },
    {
      "cell_type": "markdown",
      "metadata": {
        "id": "6RnK0BgcO1rj"
      },
      "source": [
        "# \\*\\* Updates for the Stereo Competition 2022 \\*\\*\n",
        "For our 2022 stereo competition, we want to emphasize real-time performance. Although all entries will appear on the EvalAI leaderboard, your model must run faster than **200 ms** per depth prediction (i.e., during forward pass) on an Nvidia Tesla V100 GPU to be elegible for prizes.\n",
        "\n",
        "**For a fair competition, we highly encourage the use of the hardware platform [Amazon EC2 p3.2xlarge instance](https://aws.amazon.com/ec2/instance-types/p3/) which has a single Tesla V100 GPU.**\n",
        "\n",
        "To benchmark yor model, we provide a script to generate a model analysis report and the disparity predictions as demonstraded in the cells below.\n",
        "\n",
        "For those who cannot use the deginated hardware platform, we will estimate the final inference latency of the model as if it was run on a Tesla V100 GPU using the [Deep Learning GPU Benchmark: A Latency-based Approach](https://mtli.github.io/gpubench/) tool."
      ]
    },
    {
      "cell_type": "markdown",
      "metadata": {
        "id": "b8YTHnZxO1rk"
      },
      "source": [
        "## Benchmarking your model\n",
        "For our benchmark, we are only supporting PyTorch models. \n",
        "\n",
        "To run our benchmark script you will need the following dependencies:\n",
        "* **A cuda-enabled PyTorch installation with torchvision**\n",
        "* **[fvcore](https://github.com/facebookresearch/fvcore): See instructions on how to install [here](https://github.com/facebookresearch/fvcore).**\n",
        "\n",
        "**NOTE:** If you model is based on TensorFlow or cpu, please contact us so we can try to help you profiling the code.\n",
        "\n",
        "To submit the results from your stereo matching method for evaluation in our EvalAI server, you will need to run your method on the entire test set (15 log sequences).\n",
        "\n",
        "We provide a script ('generate_stereo_results.py') to generate the disparity predictions (PNG files) and benchmark you model over the entire test set. It evaluates latency, and number of flops, activations, and parameters of your model during the forward pass. Then, it generates the final submission zip file. The script checks whether the predicted dispartity maps have the correct shape and type, the number of logs are correct, and if the report file (model_analysis_report.txt) is available. \n",
        "\n",
        "It will take a couple of minutes (less than 10 minutes) to loop over the test dataset, perform the predictions, benchmark the model, and generate the submission zip file. If the zip file is created succesfully and it will be ready for submission.\n",
        "\n",
        "**Please use the scrip to generate the benchmarking results and the submission file. This avoids submission errors in the EvalAI server.**\n",
        "\n",
        "The final directory structure you should have is shown below:\n",
        "```\n",
        "submission\n",
        "└───\n",
        "|   stereo_output\n",
        "|   └───0f0d7759-fa6e-3296-b528-6c862d061bdd\n",
        "|   |       disparity_315974292602180504.png\n",
        "|   |       disparity_315974292801980264.png\n",
        "|   |                     .\n",
        "|   |                     .\n",
        "|   |                     .\n",
        "|   |  \n",
        "|   └───673e200e-944d-3b40-a447-f83353bd85ed\n",
        "|   └───764abf69-c7a0-32c3-97f5-330de68e13af\n",
        "|   └───model_analysis_report.txt\n",
        "└─── stereo_output.zip\n",
        "    \n",
        "```"
      ]
    },
    {
      "cell_type": "code",
      "execution_count": null,
      "metadata": {
        "id": "8s_oWRjhO1rl"
      },
      "outputs": [],
      "source": [
        "from pathlib import Path\n",
        "\n",
        "import torch\n",
        "import torchvision\n",
        "\n",
        "from argoverse.evaluation.stereo.generate_stereo_results import generate_stereo_results\n",
        "\n",
        "\n",
        "# Define stereo model (example of dummy model below)\n",
        "class YourStereoModel(torch.nn.Module):\n",
        "    def __init__(self) -> None:\n",
        "        super().__init__()\n",
        "        self.conv_layer1 = torch.nn.Conv2d(in_channels=3, out_channels=16, kernel_size=3, padding=1)\n",
        "        self.conv_layer2 = torch.nn.Conv2d(in_channels=32, out_channels=1, kernel_size=3, padding=1)\n",
        "\n",
        "    def forward(self, input1: torch.Tensor, input2: torch.Tensor) -> torch.Tensor:\n",
        "        output1 = self.conv_layer1(input1)\n",
        "        output2 = self.conv_layer1(input2)\n",
        "        output = self.conv_layer2(torch.cat((output1, output2), axis=1))\n",
        "        return output\n",
        "\n",
        "your_model = YourStereoModel()\n",
        "\n",
        "# Uncomment and load the model checkpoint to perform the final predictions\n",
        "# state_dict = torch.load(\"PATH_TO_MODEL_CHECKPOINT\")\n",
        "# your_model.load_state_dict(model_dict)\n",
        "\n",
        "# Change paths accordingly\n",
        "# Path to the Argoverse Stereo dataset\n",
        "data_dir = Path(\"/data/datasets/stereo/argoverse1/\")\n",
        "# Path to save the submission files (benchmark report, predictions, zip)\n",
        "output_dir = Path(\"/home/ubuntu/argoverse-stereo-competition/submission/stereo_output\")\n",
        "\n",
        "# Example of transforms to be applied to the input data\n",
        "# Change it accordingly. Transforms are ignored during latency computation.\n",
        "transforms = torchvision.transforms.Compose(\n",
        "    [\n",
        "        torchvision.transforms.Resize(size=(528, 624)),\n",
        "        torchvision.transforms.Normalize(\n",
        "            mean=(0.485, 0.456, 0.406),  # ResNet mean image normalization\n",
        "            std=(0.229, 0.224, 0.225),  # ResNet std image normalization\n",
        "        ),\n",
        "    ]\n",
        ")\n",
        "\n",
        "# Example of output report:\n",
        "# Device name: Tesla V100-SXM2-16GB\n",
        "# #Parameters: 737\n",
        "# #Flops: 379551744\n",
        "# #Activations: 10872576\n",
        "# Mean forward time (ms): 1.0553814383049989\n",
        "# Std forward time (ms): 0.05229927585160601\n",
        "# Input size 0: torch.Size([1, 3, 528, 624])\n",
        "# Input size 1: torch.Size([1, 3, 528, 624])\n",
        "# | module               | #parameters or shape   | #flops   | #activations   |\n",
        "# |:---------------------|:-----------------------|:---------|:---------------|\n",
        "# | model                | 0.737K                 | 0.38G    | 10.873M        |\n",
        "# |  conv_layer1         |  0.448K                |  0.285G  |  10.543M       |\n",
        "# |   conv_layer1.weight |   (16, 3, 3, 3)        |          |                |\n",
        "# |   conv_layer1.bias   |   (16,)                |          |                |\n",
        "# |  conv_layer2         |  0.289K                |  94.888M |  0.329M        |\n",
        "# |   conv_layer2.weight |   (1, 32, 3, 3)        |          |                |\n",
        "# |   conv_layer2.bias   |   (1,)                 |          |                |\n",
        "\n",
        "# NOTE: If your model outputs a disparity map with a different shape than the ground-truth disparity,\n",
        "# the script will resize it to the original size (i.e., 2464 x 2056 pixels) using bilinear interpolation \n",
        "# for the submission. Feel free to change the post-processing transformation according to your needs in the script.\n",
        "generate_stereo_results(your_model, data_dir, output_dir, transforms)\n",
        "\n",
        "# Running the stereo evaluation again to take into account the model analysis report.\n",
        "metrics = evaluator.evaluate()\n",
        "\n",
        "# Printing the results (using json trick for organized printing).\n",
        "print(f\"{json.dumps(metrics, sort_keys=False, indent=4)}\")"
      ]
    },
    {
      "cell_type": "markdown",
      "metadata": {
        "id": "vicIh9IFO1rl"
      },
      "source": [
        "## Submitting results to EvalAI\n",
        "Here are some directions to submit your results (i.e., the generated `stereo_output.zip`) to the EvalAI server.\n",
        "\n",
        "Your zip file will likely be large (e.g., ~3 GB). You will need to use the EvalAI command line interface (EvalAI-CLI) to submit such large files. Please follow the instructions described [here](https://github.com/Cloud-CV/evalai-cli) for installing it. In addition, you can follow the submission instructions in our [EvalAI Stereo Competition page](https://eval.ai/web/challenges/challenge-page/1704/submission).\n",
        "\n",
        "Once you have the EvalAI-CLI up and running, you can submit your results using the following command. Please ensure to add as much details as possible about your method (e.g., a brief description, link to paper, link to code if publicly available, etc.). \n",
        "\n",
        "**Note that you can only submit to EvalAI once a day. Please do not submit multiple times using different accounts. We are actively monitoring it.**\n",
        "\n",
        "```    \n",
        "$ evalai challenge 1704 phase 3365 submit --file /tmp/results/your-model/stereo_output.zip --large\n",
        "```\n",
        "\n",
        "If everything goes well, you can check the status of your submission using the command:\n",
        "\n",
        "```\n",
        "$ evalai submission 'YOUR SUBMISSION ID'`\n",
        "```\n",
        "\n",
        "**The evaluation normally takes about 2 minutes to complete.** Once completed you can check the results in the [My Submissions](https://eval.ai/web/challenges/challenge-page/1704/my-submission) session in the EvalAI web interface. Then, you can select to show your method in our [leaderboard](https://eval.ai/web/challenges/challenge-page/1704/evaluation) and check how it compares against our baselines and others!\n",
        "\n",
        "**Well done completing this tutorial and good luck!**"
      ]
    }
  ],
  "metadata": {
    "kernelspec": {
      "display_name": "Python 3 (ipykernel)",
      "language": "python",
      "name": "python3"
    },
    "language_info": {
      "codemirror_mode": {
        "name": "ipython",
        "version": 3
      },
      "file_extension": ".py",
      "mimetype": "text/x-python",
      "name": "python",
      "nbconvert_exporter": "python",
      "pygments_lexer": "ipython3",
      "version": "3.8.13"
    },
    "colab": {
      "name": "competition_stereo_tutorial.ipynb",
      "provenance": [],
      "include_colab_link": true
    }
  },
  "nbformat": 4,
  "nbformat_minor": 0
}