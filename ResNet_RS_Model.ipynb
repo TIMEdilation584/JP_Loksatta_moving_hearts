{
  "nbformat": 4,
  "nbformat_minor": 0,
  "metadata": {
    "colab": {
      "name": "ResNet-RS Model.ipynb",
      "provenance": [],
      "collapsed_sections": [],
      "machine_shape": "hm",
      "include_colab_link": true
    },
    "kernelspec": {
      "name": "python3",
      "display_name": "Python 3"
    },
    "language_info": {
      "name": "python"
    },
    "accelerator": "GPU",
    "widgets": {
      "application/vnd.jupyter.widget-state+json": {
        "adb96553565a434caf030f706ef3822d": {
          "model_module": "@jupyter-widgets/controls",
          "model_name": "VBoxModel",
          "state": {
            "_view_name": "VBoxView",
            "_dom_classes": [],
            "_model_name": "VBoxModel",
            "_view_module": "@jupyter-widgets/controls",
            "_model_module_version": "1.5.0",
            "_view_count": null,
            "_view_module_version": "1.5.0",
            "box_style": "",
            "layout": "IPY_MODEL_ff2a7da28af54b73969b46a341667a57",
            "_model_module": "@jupyter-widgets/controls",
            "children": [
              "IPY_MODEL_17adc7cd5768485585c9a44fc226409b",
              "IPY_MODEL_5bd0f3405c7545c1aced37587ec4a880"
            ]
          }
        },
        "ff2a7da28af54b73969b46a341667a57": {
          "model_module": "@jupyter-widgets/base",
          "model_name": "LayoutModel",
          "state": {
            "_view_name": "LayoutView",
            "grid_template_rows": null,
            "right": null,
            "justify_content": null,
            "_view_module": "@jupyter-widgets/base",
            "overflow": null,
            "_model_module_version": "1.2.0",
            "_view_count": null,
            "flex_flow": null,
            "width": null,
            "min_width": null,
            "border": null,
            "align_items": null,
            "bottom": null,
            "_model_module": "@jupyter-widgets/base",
            "top": null,
            "grid_column": null,
            "overflow_y": null,
            "overflow_x": null,
            "grid_auto_flow": null,
            "grid_area": null,
            "grid_template_columns": null,
            "flex": null,
            "_model_name": "LayoutModel",
            "justify_items": null,
            "grid_row": null,
            "max_height": null,
            "align_content": null,
            "visibility": null,
            "align_self": null,
            "height": null,
            "min_height": null,
            "padding": null,
            "grid_auto_rows": null,
            "grid_gap": null,
            "max_width": null,
            "order": null,
            "_view_module_version": "1.2.0",
            "grid_template_areas": null,
            "object_position": null,
            "object_fit": null,
            "grid_auto_columns": null,
            "margin": null,
            "display": null,
            "left": null
          }
        },
        "17adc7cd5768485585c9a44fc226409b": {
          "model_module": "@jupyter-widgets/controls",
          "model_name": "LabelModel",
          "state": {
            "_view_name": "LabelView",
            "style": "IPY_MODEL_ddd2c46011024b1ab6e5162e66bdc937",
            "_dom_classes": [],
            "description": "",
            "_model_name": "LabelModel",
            "placeholder": "​",
            "_view_module": "@jupyter-widgets/controls",
            "_model_module_version": "1.5.0",
            "value": " 0.07MB of 0.07MB uploaded (0.00MB deduped)\r",
            "_view_count": null,
            "_view_module_version": "1.5.0",
            "description_tooltip": null,
            "_model_module": "@jupyter-widgets/controls",
            "layout": "IPY_MODEL_edd1a6cecba6426a93f7073875c3d522"
          }
        },
        "5bd0f3405c7545c1aced37587ec4a880": {
          "model_module": "@jupyter-widgets/controls",
          "model_name": "FloatProgressModel",
          "state": {
            "_view_name": "ProgressView",
            "style": "IPY_MODEL_1c8452160b1640868547f83240016c82",
            "_dom_classes": [],
            "description": "",
            "_model_name": "FloatProgressModel",
            "bar_style": "",
            "max": 1,
            "_view_module": "@jupyter-widgets/controls",
            "_model_module_version": "1.5.0",
            "value": 1,
            "_view_count": null,
            "_view_module_version": "1.5.0",
            "orientation": "horizontal",
            "min": 0,
            "description_tooltip": null,
            "_model_module": "@jupyter-widgets/controls",
            "layout": "IPY_MODEL_cdbfadedf94e4bef9794a31e79d430e3"
          }
        },
        "ddd2c46011024b1ab6e5162e66bdc937": {
          "model_module": "@jupyter-widgets/controls",
          "model_name": "DescriptionStyleModel",
          "state": {
            "_view_name": "StyleView",
            "_model_name": "DescriptionStyleModel",
            "description_width": "",
            "_view_module": "@jupyter-widgets/base",
            "_model_module_version": "1.5.0",
            "_view_count": null,
            "_view_module_version": "1.2.0",
            "_model_module": "@jupyter-widgets/controls"
          }
        },
        "edd1a6cecba6426a93f7073875c3d522": {
          "model_module": "@jupyter-widgets/base",
          "model_name": "LayoutModel",
          "state": {
            "_view_name": "LayoutView",
            "grid_template_rows": null,
            "right": null,
            "justify_content": null,
            "_view_module": "@jupyter-widgets/base",
            "overflow": null,
            "_model_module_version": "1.2.0",
            "_view_count": null,
            "flex_flow": null,
            "width": null,
            "min_width": null,
            "border": null,
            "align_items": null,
            "bottom": null,
            "_model_module": "@jupyter-widgets/base",
            "top": null,
            "grid_column": null,
            "overflow_y": null,
            "overflow_x": null,
            "grid_auto_flow": null,
            "grid_area": null,
            "grid_template_columns": null,
            "flex": null,
            "_model_name": "LayoutModel",
            "justify_items": null,
            "grid_row": null,
            "max_height": null,
            "align_content": null,
            "visibility": null,
            "align_self": null,
            "height": null,
            "min_height": null,
            "padding": null,
            "grid_auto_rows": null,
            "grid_gap": null,
            "max_width": null,
            "order": null,
            "_view_module_version": "1.2.0",
            "grid_template_areas": null,
            "object_position": null,
            "object_fit": null,
            "grid_auto_columns": null,
            "margin": null,
            "display": null,
            "left": null
          }
        },
        "1c8452160b1640868547f83240016c82": {
          "model_module": "@jupyter-widgets/controls",
          "model_name": "ProgressStyleModel",
          "state": {
            "_view_name": "StyleView",
            "_model_name": "ProgressStyleModel",
            "description_width": "",
            "_view_module": "@jupyter-widgets/base",
            "_model_module_version": "1.5.0",
            "_view_count": null,
            "_view_module_version": "1.2.0",
            "bar_color": null,
            "_model_module": "@jupyter-widgets/controls"
          }
        },
        "cdbfadedf94e4bef9794a31e79d430e3": {
          "model_module": "@jupyter-widgets/base",
          "model_name": "LayoutModel",
          "state": {
            "_view_name": "LayoutView",
            "grid_template_rows": null,
            "right": null,
            "justify_content": null,
            "_view_module": "@jupyter-widgets/base",
            "overflow": null,
            "_model_module_version": "1.2.0",
            "_view_count": null,
            "flex_flow": null,
            "width": null,
            "min_width": null,
            "border": null,
            "align_items": null,
            "bottom": null,
            "_model_module": "@jupyter-widgets/base",
            "top": null,
            "grid_column": null,
            "overflow_y": null,
            "overflow_x": null,
            "grid_auto_flow": null,
            "grid_area": null,
            "grid_template_columns": null,
            "flex": null,
            "_model_name": "LayoutModel",
            "justify_items": null,
            "grid_row": null,
            "max_height": null,
            "align_content": null,
            "visibility": null,
            "align_self": null,
            "height": null,
            "min_height": null,
            "padding": null,
            "grid_auto_rows": null,
            "grid_gap": null,
            "max_width": null,
            "order": null,
            "_view_module_version": "1.2.0",
            "grid_template_areas": null,
            "object_position": null,
            "object_fit": null,
            "grid_auto_columns": null,
            "margin": null,
            "display": null,
            "left": null
          }
        },
        "312fc110473945b186e1c752b5faf846": {
          "model_module": "@jupyter-widgets/controls",
          "model_name": "VBoxModel",
          "state": {
            "_view_name": "VBoxView",
            "_dom_classes": [],
            "_model_name": "VBoxModel",
            "_view_module": "@jupyter-widgets/controls",
            "_model_module_version": "1.5.0",
            "_view_count": null,
            "_view_module_version": "1.5.0",
            "box_style": "",
            "layout": "IPY_MODEL_086d7ea5e0044e75bdcc49546e5e35cf",
            "_model_module": "@jupyter-widgets/controls",
            "children": [
              "IPY_MODEL_523b6178e8a748e3a27638f7dd3ef790",
              "IPY_MODEL_020d235c8a3b4434a1dd386bf2f7b2ec"
            ]
          }
        },
        "086d7ea5e0044e75bdcc49546e5e35cf": {
          "model_module": "@jupyter-widgets/base",
          "model_name": "LayoutModel",
          "state": {
            "_view_name": "LayoutView",
            "grid_template_rows": null,
            "right": null,
            "justify_content": null,
            "_view_module": "@jupyter-widgets/base",
            "overflow": null,
            "_model_module_version": "1.2.0",
            "_view_count": null,
            "flex_flow": null,
            "width": null,
            "min_width": null,
            "border": null,
            "align_items": null,
            "bottom": null,
            "_model_module": "@jupyter-widgets/base",
            "top": null,
            "grid_column": null,
            "overflow_y": null,
            "overflow_x": null,
            "grid_auto_flow": null,
            "grid_area": null,
            "grid_template_columns": null,
            "flex": null,
            "_model_name": "LayoutModel",
            "justify_items": null,
            "grid_row": null,
            "max_height": null,
            "align_content": null,
            "visibility": null,
            "align_self": null,
            "height": null,
            "min_height": null,
            "padding": null,
            "grid_auto_rows": null,
            "grid_gap": null,
            "max_width": null,
            "order": null,
            "_view_module_version": "1.2.0",
            "grid_template_areas": null,
            "object_position": null,
            "object_fit": null,
            "grid_auto_columns": null,
            "margin": null,
            "display": null,
            "left": null
          }
        },
        "523b6178e8a748e3a27638f7dd3ef790": {
          "model_module": "@jupyter-widgets/controls",
          "model_name": "LabelModel",
          "state": {
            "_view_name": "LabelView",
            "style": "IPY_MODEL_f5548ab0656c42079c0cdacdeafa26ec",
            "_dom_classes": [],
            "description": "",
            "_model_name": "LabelModel",
            "placeholder": "​",
            "_view_module": "@jupyter-widgets/controls",
            "_model_module_version": "1.5.0",
            "value": " 0.01MB of 0.01MB uploaded (0.00MB deduped)\r",
            "_view_count": null,
            "_view_module_version": "1.5.0",
            "description_tooltip": null,
            "_model_module": "@jupyter-widgets/controls",
            "layout": "IPY_MODEL_49676b8bcd554ee6848b7fbbd0b61670"
          }
        },
        "020d235c8a3b4434a1dd386bf2f7b2ec": {
          "model_module": "@jupyter-widgets/controls",
          "model_name": "FloatProgressModel",
          "state": {
            "_view_name": "ProgressView",
            "style": "IPY_MODEL_8b7d2195f9dd46409a04081a720db5c6",
            "_dom_classes": [],
            "description": "",
            "_model_name": "FloatProgressModel",
            "bar_style": "",
            "max": 1,
            "_view_module": "@jupyter-widgets/controls",
            "_model_module_version": "1.5.0",
            "value": 1,
            "_view_count": null,
            "_view_module_version": "1.5.0",
            "orientation": "horizontal",
            "min": 0,
            "description_tooltip": null,
            "_model_module": "@jupyter-widgets/controls",
            "layout": "IPY_MODEL_93d8ffe49e834f2ea24628817d0f8544"
          }
        },
        "f5548ab0656c42079c0cdacdeafa26ec": {
          "model_module": "@jupyter-widgets/controls",
          "model_name": "DescriptionStyleModel",
          "state": {
            "_view_name": "StyleView",
            "_model_name": "DescriptionStyleModel",
            "description_width": "",
            "_view_module": "@jupyter-widgets/base",
            "_model_module_version": "1.5.0",
            "_view_count": null,
            "_view_module_version": "1.2.0",
            "_model_module": "@jupyter-widgets/controls"
          }
        },
        "49676b8bcd554ee6848b7fbbd0b61670": {
          "model_module": "@jupyter-widgets/base",
          "model_name": "LayoutModel",
          "state": {
            "_view_name": "LayoutView",
            "grid_template_rows": null,
            "right": null,
            "justify_content": null,
            "_view_module": "@jupyter-widgets/base",
            "overflow": null,
            "_model_module_version": "1.2.0",
            "_view_count": null,
            "flex_flow": null,
            "width": null,
            "min_width": null,
            "border": null,
            "align_items": null,
            "bottom": null,
            "_model_module": "@jupyter-widgets/base",
            "top": null,
            "grid_column": null,
            "overflow_y": null,
            "overflow_x": null,
            "grid_auto_flow": null,
            "grid_area": null,
            "grid_template_columns": null,
            "flex": null,
            "_model_name": "LayoutModel",
            "justify_items": null,
            "grid_row": null,
            "max_height": null,
            "align_content": null,
            "visibility": null,
            "align_self": null,
            "height": null,
            "min_height": null,
            "padding": null,
            "grid_auto_rows": null,
            "grid_gap": null,
            "max_width": null,
            "order": null,
            "_view_module_version": "1.2.0",
            "grid_template_areas": null,
            "object_position": null,
            "object_fit": null,
            "grid_auto_columns": null,
            "margin": null,
            "display": null,
            "left": null
          }
        },
        "8b7d2195f9dd46409a04081a720db5c6": {
          "model_module": "@jupyter-widgets/controls",
          "model_name": "ProgressStyleModel",
          "state": {
            "_view_name": "StyleView",
            "_model_name": "ProgressStyleModel",
            "description_width": "",
            "_view_module": "@jupyter-widgets/base",
            "_model_module_version": "1.5.0",
            "_view_count": null,
            "_view_module_version": "1.2.0",
            "bar_color": null,
            "_model_module": "@jupyter-widgets/controls"
          }
        },
        "93d8ffe49e834f2ea24628817d0f8544": {
          "model_module": "@jupyter-widgets/base",
          "model_name": "LayoutModel",
          "state": {
            "_view_name": "LayoutView",
            "grid_template_rows": null,
            "right": null,
            "justify_content": null,
            "_view_module": "@jupyter-widgets/base",
            "overflow": null,
            "_model_module_version": "1.2.0",
            "_view_count": null,
            "flex_flow": null,
            "width": null,
            "min_width": null,
            "border": null,
            "align_items": null,
            "bottom": null,
            "_model_module": "@jupyter-widgets/base",
            "top": null,
            "grid_column": null,
            "overflow_y": null,
            "overflow_x": null,
            "grid_auto_flow": null,
            "grid_area": null,
            "grid_template_columns": null,
            "flex": null,
            "_model_name": "LayoutModel",
            "justify_items": null,
            "grid_row": null,
            "max_height": null,
            "align_content": null,
            "visibility": null,
            "align_self": null,
            "height": null,
            "min_height": null,
            "padding": null,
            "grid_auto_rows": null,
            "grid_gap": null,
            "max_width": null,
            "order": null,
            "_view_module_version": "1.2.0",
            "grid_template_areas": null,
            "object_position": null,
            "object_fit": null,
            "grid_auto_columns": null,
            "margin": null,
            "display": null,
            "left": null
          }
        }
      }
    }
  },
  "cells": [
    {
      "cell_type": "markdown",
      "metadata": {
        "id": "view-in-github",
        "colab_type": "text"
      },
      "source": [
        "<a href=\"https://colab.research.google.com/github/TIMEdilation584/JP_Loksatta_moving_hearts/blob/master/ResNet_RS_Model.ipynb\" target=\"_parent\"><img src=\"https://colab.research.google.com/assets/colab-badge.svg\" alt=\"Open In Colab\"/></a>"
      ]
    },
    {
      "cell_type": "code",
      "metadata": {
        "id": "m3xTbIDBjJsf"
      },
      "source": [
        "# install dependencies & get ImageNette data\n",
        "!pip install timm\n",
        "!pip install wandb \n",
        "!wget https://s3.amazonaws.com/fast-ai-imageclas/imagenette2-160.tgz\n",
        "!tar -xf /content/imagenette2-160.tgz\n",
        "!pip install accelerate"
      ],
      "execution_count": null,
      "outputs": []
    },
    {
      "cell_type": "code",
      "metadata": {
        "id": "4UhVecrCjkgo"
      },
      "source": [
        "# make required imports\n",
        "import torch \n",
        "import timm \n",
        "import wandb \n",
        "import torchvision\n",
        "import pandas as pd\n",
        "import torch.nn as nn\n",
        "\n",
        "from torchvision import transforms\n",
        "from accelerate import Accelerator\n",
        "from PIL import Image \n",
        "from matplotlib import pyplot as plt\n",
        "from pathlib import Path \n",
        "from tqdm import tqdm\n",
        "from sklearn.preprocessing import LabelEncoder\n",
        "from dataclasses import dataclass\n",
        "from timm.models.registry import register_model\n",
        "from timm.models.helpers import build_model_with_cfg\n",
        "from timm.models.resnet import Bottleneck, _create_resnet, default_cfgs, _cfg, make_blocks, create_classifier"
      ],
      "execution_count": 2,
      "outputs": []
    },
    {
      "cell_type": "markdown",
      "metadata": {
        "id": "bdxyUsy2mptz"
      },
      "source": [
        "# ResNet-RS Model Implementation"
      ]
    },
    {
      "cell_type": "code",
      "metadata": {
        "colab": {
          "base_uri": "https://localhost:8080/"
        },
        "id": "AkNc_QBdk3CL",
        "outputId": "46e11943-9a2b-4370-ded0-59b75a052b54"
      },
      "source": [
        "# add default configs \n",
        "default_cfgs['resnetrs50'] = _cfg(interpolation='bicubic', first_conv='conv1.0')\n",
        "default_cfgs['resnetrs101'] = _cfg(interpolation='bicubic', first_conv='conv1.0')\n",
        "default_cfgs['resnetrs152'] = _cfg(interpolation='bicubic', first_conv='conv1.0')\n",
        "default_cfgs['resnetrs200'] = _cfg(interpolation='bicubic', first_conv='conv1.0')\n",
        "default_cfgs['resnetrs270'] = _cfg(interpolation='bicubic', first_conv='conv1.0')\n",
        "default_cfgs['resnetrs350'] = _cfg(interpolation='bicubic', first_conv='conv1.0')\n",
        "default_cfgs['resnetrs420'] = _cfg(interpolation='bicubic', first_conv='conv1.0')\n",
        "default_cfgs['resnetrs50']"
      ],
      "execution_count": 3,
      "outputs": [
        {
          "output_type": "execute_result",
          "data": {
            "text/plain": [
              "{'classifier': 'fc',\n",
              " 'crop_pct': 0.875,\n",
              " 'first_conv': 'conv1.0',\n",
              " 'input_size': (3, 224, 224),\n",
              " 'interpolation': 'bicubic',\n",
              " 'mean': (0.485, 0.456, 0.406),\n",
              " 'num_classes': 1000,\n",
              " 'pool_size': (7, 7),\n",
              " 'std': (0.229, 0.224, 0.225),\n",
              " 'url': ''}"
            ]
          },
          "metadata": {
            "tags": []
          },
          "execution_count": 3
        }
      ]
    },
    {
      "cell_type": "code",
      "metadata": {
        "id": "bWioF_21jntW"
      },
      "source": [
        "# update the ResNet class implementation in TIMM to include changes for ResNet-RS models\n",
        "# refer to blog for more details https://wandb.ai/wandb_fc/pytorch-image-models/reports/Revisiting-ResNets-Improved-Training-and-Scaling-Strategies--Vmlldzo2NDE3NTM\n",
        "class ResNet(nn.Module):\n",
        "    def __init__(self, block, layers, num_classes=1000, in_chans=3,\n",
        "                 cardinality=1, base_width=64, stem_width=64, stem_type='',\n",
        "                 output_stride=32, block_reduce_first=1, down_kernel_size=1, avg_down=False,\n",
        "                 act_layer=nn.ReLU, norm_layer=nn.BatchNorm2d, aa_layer=None, drop_rate=0.0, drop_path_rate=0.,\n",
        "                 drop_block_rate=0., global_pool='avg', zero_init_last_bn=True, block_args=None, replace_stem_max_pool=False):\n",
        "        block_args = block_args or dict()\n",
        "        assert output_stride in (8, 16, 32)\n",
        "        self.num_classes = num_classes\n",
        "        self.drop_rate = drop_rate\n",
        "        self.replace_stem_max_pool = replace_stem_max_pool\n",
        "        super(ResNet, self).__init__()\n",
        "\n",
        "        # Stem\n",
        "        deep_stem = 'deep' in stem_type\n",
        "        inplanes = stem_width * 2 if deep_stem else 64\n",
        "        if deep_stem:\n",
        "            stem_chs = (stem_width, stem_width)\n",
        "            if 'tiered' in stem_type:\n",
        "                stem_chs = (3 * (stem_width // 4), stem_width)\n",
        "            self.conv1 = nn.Sequential(*[\n",
        "                nn.Conv2d(in_chans, stem_chs[0], 3, stride=2, padding=1, bias=False),\n",
        "                norm_layer(stem_chs[0]),\n",
        "                act_layer(inplace=True),\n",
        "                nn.Conv2d(stem_chs[0], stem_chs[1], 3, stride=1, padding=1, bias=False),\n",
        "                norm_layer(stem_chs[1]),\n",
        "                act_layer(inplace=True),\n",
        "                nn.Conv2d(stem_chs[1], inplanes, 3, stride=1, padding=1, bias=False)])\n",
        "        else:\n",
        "            self.conv1 = nn.Conv2d(in_chans, inplanes, kernel_size=7, stride=2, padding=3, bias=False)\n",
        "        self.bn1 = norm_layer(inplanes)\n",
        "        self.act1 = act_layer(inplace=True)\n",
        "        self.feature_info = [dict(num_chs=inplanes, reduction=2, module='act1')]\n",
        "\n",
        "        # Stem Pooling\n",
        "        if not self.replace_stem_max_pool:\n",
        "            if aa_layer is not None:\n",
        "                self.maxpool = nn.Sequential(*[\n",
        "                    nn.MaxPool2d(kernel_size=3, stride=1, padding=1),\n",
        "                    aa_layer(channels=inplanes, stride=2)])\n",
        "            else:\n",
        "                self.maxpool = nn.MaxPool2d(kernel_size=3, stride=2, padding=1)\n",
        "        else:\n",
        "            self.maxpool = nn.Sequential(*[\n",
        "                nn.Conv2d(inplanes, inplanes, 3, stride=2, padding=1), \n",
        "                nn.BatchNorm2d(inplanes), \n",
        "                nn.ReLU()\n",
        "            ])\n",
        "\n",
        "        # Feature Blocks\n",
        "        channels = [64, 128, 256, 512]\n",
        "        stage_modules, stage_feature_info = make_blocks(\n",
        "            block, channels, layers, inplanes, cardinality=cardinality, base_width=base_width,\n",
        "            output_stride=output_stride, reduce_first=block_reduce_first, avg_down=avg_down,\n",
        "            down_kernel_size=down_kernel_size, act_layer=act_layer, norm_layer=norm_layer, aa_layer=aa_layer,\n",
        "            drop_block_rate=drop_block_rate, drop_path_rate=drop_path_rate, **block_args)\n",
        "        for stage in stage_modules:\n",
        "            self.add_module(*stage)  # layer1, layer2, etc\n",
        "        self.feature_info.extend(stage_feature_info)\n",
        "\n",
        "        # Head (Pooling and Classifier)\n",
        "        self.num_features = 512 * block.expansion\n",
        "        self.global_pool, self.fc = create_classifier(self.num_features, self.num_classes, pool_type=global_pool)\n",
        "\n",
        "        for n, m in self.named_modules():\n",
        "            if isinstance(m, nn.Conv2d):\n",
        "                nn.init.kaiming_normal_(m.weight, mode='fan_out', nonlinearity='relu')\n",
        "            elif isinstance(m, nn.BatchNorm2d):\n",
        "                nn.init.constant_(m.weight, 1.)\n",
        "                nn.init.constant_(m.bias, 0.)\n",
        "        if zero_init_last_bn:\n",
        "            for m in self.modules():\n",
        "                if hasattr(m, 'zero_init_last_bn'):\n",
        "                    m.zero_init_last_bn()\n",
        "\n",
        "    def get_classifier(self):\n",
        "        return self.fc\n",
        "\n",
        "    def reset_classifier(self, num_classes, global_pool='avg'):\n",
        "        self.num_classes = num_classes\n",
        "        self.global_pool, self.fc = create_classifier(self.num_features, self.num_classes, pool_type=global_pool)\n",
        "\n",
        "    def forward_features(self, x):\n",
        "        x = self.conv1(x)\n",
        "        x = self.bn1(x)\n",
        "        x = self.act1(x)\n",
        "        x = self.maxpool(x)\n",
        "\n",
        "        x = self.layer1(x)\n",
        "        x = self.layer2(x)\n",
        "        x = self.layer3(x)\n",
        "        x = self.layer4(x)\n",
        "        return x\n",
        "\n",
        "    def forward(self, x):\n",
        "        x = self.forward_features(x)\n",
        "        x = self.global_pool(x)\n",
        "        if self.drop_rate:\n",
        "            x = F.dropout(x, p=float(self.drop_rate), training=self.training)\n",
        "        x = self.fc(x)\n",
        "        return x"
      ],
      "execution_count": 4,
      "outputs": []
    },
    {
      "cell_type": "code",
      "metadata": {
        "id": "V82866R8lWEb"
      },
      "source": [
        "def _create_resnet(variant, pretrained=False, **kwargs):\n",
        "    return build_model_with_cfg(\n",
        "        ResNet, variant, default_cfg=default_cfgs[variant], pretrained=pretrained, **kwargs)"
      ],
      "execution_count": 5,
      "outputs": []
    },
    {
      "cell_type": "code",
      "metadata": {
        "id": "ZPa4J3Pyj14D"
      },
      "source": [
        "@register_model\n",
        "def resnetrs50(pretrained=False, **kwargs):\n",
        "    model_args = dict(\n",
        "        block=Bottleneck, layers=[3, 4, 6, 3], stem_width=32, stem_type='deep', replace_stem_max_pool=True,\n",
        "        avg_down=True,  block_args=dict(attn_layer='se'), **kwargs)\n",
        "    return _create_resnet('resnetrs50', pretrained, **model_args)\n",
        "\n",
        "\n",
        "@register_model\n",
        "def resnetrs101(pretrained=False, **kwargs):\n",
        "    model_args = dict(\n",
        "        block=Bottleneck, layers=[3, 4, 23, 3], stem_width=32, stem_type='deep', replace_stem_max_pool=True,\n",
        "        avg_down=True,  block_args=dict(attn_layer='se'), **kwargs)\n",
        "    return _create_resnet('resnetrs101', pretrained, **model_args)\n",
        "\n",
        "\n",
        "@register_model\n",
        "def resnetrs152(pretrained=False, **kwargs):\n",
        "    model_args = dict(\n",
        "        block=Bottleneck, layers=[3, 8, 36, 3], stem_width=32, stem_type='deep', replace_stem_max_pool=True,\n",
        "        avg_down=True,  block_args=dict(attn_layer='se'), **kwargs)\n",
        "    return _create_resnet('resnetrs152', pretrained, **model_args)\n",
        "\n",
        "\n",
        "@register_model\n",
        "def resnetrs200(pretrained=False, **kwargs):\n",
        "    model_args = dict(\n",
        "        block=Bottleneck, layers=[3, 24, 36, 3], stem_width=32, stem_type='deep', replace_stem_max_pool=True,\n",
        "        avg_down=True,  block_args=dict(attn_layer='se'), **kwargs)\n",
        "    return _create_resnet('resnetrs200', pretrained, **model_args)\n",
        "\n",
        "\n",
        "@register_model\n",
        "def resnetrs270(pretrained=False, **kwargs):\n",
        "    model_args = dict(\n",
        "        block=Bottleneck, layers=[4, 29, 53, 4], stem_width=32, stem_type='deep', replace_stem_max_pool=True,\n",
        "        avg_down=True,  block_args=dict(attn_layer='se'), **kwargs)\n",
        "    return _create_resnet('resnetrs270', pretrained, **model_args)\n",
        "\n",
        "\n",
        "\n",
        "@register_model\n",
        "def resnetrs350(pretrained=False, **kwargs):\n",
        "    model_args = dict(\n",
        "        block=Bottleneck, layers=[4, 36, 72, 4], stem_width=32, stem_type='deep', replace_stem_max_pool=True,\n",
        "        avg_down=True,  block_args=dict(attn_layer='se'), **kwargs)\n",
        "    return _create_resnet('resnetrs350', pretrained, **model_args)\n",
        "\n",
        "\n",
        "@register_model\n",
        "def resnetrs420(pretrained=False, **kwargs):\n",
        "    model_args = dict(\n",
        "        block=Bottleneck, layers=[4, 44, 87, 4], stem_width=32, stem_type='deep', replace_stem_max_pool=True,\n",
        "        avg_down=True,  block_args=dict(attn_layer='se'), **kwargs)\n",
        "    return _create_resnet('resnetrs420', pretrained, **model_args)"
      ],
      "execution_count": 6,
      "outputs": []
    },
    {
      "cell_type": "code",
      "metadata": {
        "colab": {
          "base_uri": "https://localhost:8080/"
        },
        "id": "v5dQTVZrkdl7",
        "outputId": "acf61e47-4db4-4db7-f7a1-69ecd6bdf4f2"
      },
      "source": [
        "# create ResNet-RS 50 model \n",
        "model_resnetrs50 = timm.create_model('resnetrs50')\n",
        "# create Dummy inputs\n",
        "x = torch.randn(1, 3, 224, 224)\n",
        "# forward pass\n",
        "model_resnetrs50(x).shape"
      ],
      "execution_count": 7,
      "outputs": [
        {
          "output_type": "execute_result",
          "data": {
            "text/plain": [
              "torch.Size([1, 1000])"
            ]
          },
          "metadata": {
            "tags": []
          },
          "execution_count": 7
        }
      ]
    },
    {
      "cell_type": "markdown",
      "metadata": {
        "id": "xWfqgjL_oEj2"
      },
      "source": [
        "# Train on ImageNette"
      ]
    },
    {
      "cell_type": "markdown",
      "metadata": {
        "id": "pnwN7EWZvSB-"
      },
      "source": [
        "## Training Config"
      ]
    },
    {
      "cell_type": "code",
      "metadata": {
        "id": "TzTZlkyNq36z"
      },
      "source": [
        "# Config for training \n",
        "IMG_SIZE = 160\n",
        "\n",
        "Config = dict(\n",
        "    DATA_DIR=\"/content/imagenette2-160\",\n",
        "    TRAIN_DATA_DIR=\"/content/imagenette2-160/train\",\n",
        "    TEST_DATA_DIR=\"/content/imagenette2-160/val\",\n",
        "    DEVICE=\"cuda\",\n",
        "    PRETRAINED=False,\n",
        "    LR=1e-5,\n",
        "    EPOCHS=5,\n",
        "    IMG_SIZE=IMG_SIZE,\n",
        "    BS=64,\n",
        "    TRAIN_AUG=transforms.Compose(\n",
        "        [\n",
        "            transforms.Resize((IMG_SIZE, IMG_SIZE)),\n",
        "            transforms.RandomHorizontalFlip(p=0.5),\n",
        "            transforms.RandomRotation(15),\n",
        "            transforms.ToTensor(),\n",
        "            transforms.RandomErasing(0.2),\n",
        "            transforms.Normalize((0.485, 0.456, 0.406), (0.229, 0.224, 0.225)),\n",
        "        ]\n",
        "    ),\n",
        "    TEST_AUG=transforms.Compose(\n",
        "        [\n",
        "            transforms.Resize((IMG_SIZE, IMG_SIZE)),\n",
        "            transforms.ToTensor(),\n",
        "            transforms.Normalize((0.485, 0.456, 0.406), (0.229, 0.224, 0.225)),\n",
        "        ]\n",
        "    ),\n",
        ")"
      ],
      "execution_count": 8,
      "outputs": []
    },
    {
      "cell_type": "markdown",
      "metadata": {
        "id": "hHDDFPrmviYb"
      },
      "source": [
        "## Train and Eval loop"
      ]
    },
    {
      "cell_type": "code",
      "metadata": {
        "id": "2LDLjvyvvfWO"
      },
      "source": [
        "def train_fn(model, train_data_loader, optimizer, epoch, accelerator):\n",
        "    model.train()\n",
        "    fin_loss = 0.0\n",
        "    tk = tqdm(train_data_loader, desc=\"Epoch\" + \" [TRAIN] \" + str(epoch + 1))\n",
        "\n",
        "    for t, data in enumerate(tk):\n",
        "        optimizer.zero_grad()\n",
        "        out = model(data[0])\n",
        "        loss = nn.CrossEntropyLoss()(\n",
        "            out, data[1]\n",
        "            )\n",
        "        accelerator.backward(loss)\n",
        "        optimizer.step()\n",
        "\n",
        "        fin_loss += loss.item()\n",
        "        tk.set_postfix(\n",
        "            {\n",
        "                \"loss\": \"%.6f\" % float(fin_loss / (t + 1)),\n",
        "                \"LR\": optimizer.param_groups[0][\"lr\"],\n",
        "            }\n",
        "        )\n",
        "    return fin_loss/len(train_data_loader), optimizer.param_groups[0][\"lr\"]"
      ],
      "execution_count": 9,
      "outputs": []
    },
    {
      "cell_type": "code",
      "metadata": {
        "id": "8-aMUagyvei7"
      },
      "source": [
        "def eval_fn(model, eval_data_loader, epoch):\n",
        "    model.eval()\n",
        "    fin_loss = 0.0\n",
        "    tk = tqdm(eval_data_loader, desc=\"Epoch\" + \" [VALID] \" + str(epoch + 1))\n",
        "\n",
        "    with torch.no_grad():\n",
        "        for t, data in enumerate(tk):\n",
        "            out = model(data[0])\n",
        "            loss = nn.CrossEntropyLoss()(\n",
        "                out, data[1]\n",
        "                )\n",
        "            fin_loss += loss.item()\n",
        "            tk.set_postfix({\"loss\": \"%.6f\" % float(fin_loss / (t + 1))})\n",
        "        return fin_loss/len(eval_data_loader)"
      ],
      "execution_count": 10,
      "outputs": []
    },
    {
      "cell_type": "code",
      "metadata": {
        "id": "WDz4CmE0qsgX"
      },
      "source": [
        "def train():\n",
        "    accelerator = Accelerator()\n",
        "\n",
        "    # wandb init\n",
        "    wandb.init(config=Config, project='ImageNette', save_code=True, \n",
        "           job_type='train', tags=['resnetrs', 'imagenette'], \n",
        "           name=Config['MODEL'])    \n",
        "    \n",
        "    # train and eval datasets \n",
        "    train_dataset = torchvision.datasets.ImageFolder(\n",
        "        Config['TRAIN_DATA_DIR'], \n",
        "        transform=Config['TRAIN_AUG']\n",
        "        )\n",
        "    eval_dataset = torchvision.datasets.ImageFolder(\n",
        "        Config['TEST_DATA_DIR'], \n",
        "        transform=Config['TEST_AUG']\n",
        "        )\n",
        "\n",
        "    # train and eval dataloaders\n",
        "    train_dataloader = torch.utils.data.DataLoader(\n",
        "        train_dataset, batch_size=Config[\"BS\"]\n",
        "    )\n",
        "    eval_dataloader = torch.utils.data.DataLoader(\n",
        "        eval_dataset, batch_size=Config[\"BS\"]\n",
        "    )\n",
        "\n",
        "    # model\n",
        "    model = timm.create_model(\n",
        "        Config['MODEL'], \n",
        "        pretrained=Config['PRETRAINED']\n",
        "        )\n",
        "\n",
        "    # optimizer    \n",
        "    optimizer = torch.optim.Adam(\n",
        "        model.parameters(), lr=Config[\"LR\"]\n",
        "    )\n",
        "\n",
        "    # prepare for DDP\n",
        "    model, optimizer, train_dataloader, eval_dataloader = accelerator.prepare(model, optimizer, train_dataloader, eval_dataloader)    \n",
        "\n",
        "    for epoch in range(Config[\"EPOCHS\"]):\n",
        "        avg_loss_train, lr = train_fn(\n",
        "            model, train_dataloader, optimizer, epoch, accelerator)\n",
        "        avg_loss_eval = eval_fn(\n",
        "            model, eval_dataloader, epoch)\n",
        "        wandb.log({'train_loss': avg_loss_train, 'eval_loss': avg_loss_eval, 'lr': lr})"
      ],
      "execution_count": 11,
      "outputs": []
    },
    {
      "cell_type": "markdown",
      "metadata": {
        "id": "_o7UuKM-vpID"
      },
      "source": [
        "## Train models"
      ]
    },
    {
      "cell_type": "code",
      "metadata": {
        "colab": {
          "base_uri": "https://localhost:8080/",
          "height": 1000,
          "referenced_widgets": [
            "adb96553565a434caf030f706ef3822d",
            "ff2a7da28af54b73969b46a341667a57",
            "17adc7cd5768485585c9a44fc226409b",
            "5bd0f3405c7545c1aced37587ec4a880",
            "ddd2c46011024b1ab6e5162e66bdc937",
            "edd1a6cecba6426a93f7073875c3d522",
            "1c8452160b1640868547f83240016c82",
            "cdbfadedf94e4bef9794a31e79d430e3",
            "312fc110473945b186e1c752b5faf846",
            "086d7ea5e0044e75bdcc49546e5e35cf",
            "523b6178e8a748e3a27638f7dd3ef790",
            "020d235c8a3b4434a1dd386bf2f7b2ec",
            "f5548ab0656c42079c0cdacdeafa26ec",
            "49676b8bcd554ee6848b7fbbd0b61670",
            "8b7d2195f9dd46409a04081a720db5c6",
            "93d8ffe49e834f2ea24628817d0f8544"
          ]
        },
        "id": "Qu8v5a1xq7gX",
        "outputId": "0f65ed1c-e06c-4725-bc88-726cc2fb363d"
      },
      "source": [
        "for model in ['resnetrs50', 'resnetrs101', 'resnet50']:\n",
        "  Config['MODEL'] = model\n",
        "  train()"
      ],
      "execution_count": 12,
      "outputs": [
        {
          "output_type": "display_data",
          "data": {
            "application/javascript": [
              "\n",
              "        window._wandbApiKey = new Promise((resolve, reject) => {\n",
              "            function loadScript(url) {\n",
              "            return new Promise(function(resolve, reject) {\n",
              "                let newScript = document.createElement(\"script\");\n",
              "                newScript.onerror = reject;\n",
              "                newScript.onload = resolve;\n",
              "                document.body.appendChild(newScript);\n",
              "                newScript.src = url;\n",
              "            });\n",
              "            }\n",
              "            loadScript(\"https://cdn.jsdelivr.net/npm/postmate/build/postmate.min.js\").then(() => {\n",
              "            const iframe = document.createElement('iframe')\n",
              "            iframe.style.cssText = \"width:0;height:0;border:none\"\n",
              "            document.body.appendChild(iframe)\n",
              "            const handshake = new Postmate({\n",
              "                container: iframe,\n",
              "                url: 'https://wandb.ai/authorize'\n",
              "            });\n",
              "            const timeout = setTimeout(() => reject(\"Couldn't auto authenticate\"), 5000)\n",
              "            handshake.then(function(child) {\n",
              "                child.on('authorize', data => {\n",
              "                    clearTimeout(timeout)\n",
              "                    resolve(data)\n",
              "                });\n",
              "            });\n",
              "            })\n",
              "        });\n",
              "    "
            ],
            "text/plain": [
              "<IPython.core.display.Javascript object>"
            ]
          },
          "metadata": {
            "tags": []
          }
        },
        {
          "output_type": "stream",
          "text": [
            "\u001b[34m\u001b[1mwandb\u001b[0m: You can find your API key in your browser here: https://wandb.ai/authorize\n"
          ],
          "name": "stderr"
        },
        {
          "output_type": "stream",
          "text": [
            "wandb: Paste an API key from your profile and hit enter: ··········\n"
          ],
          "name": "stdout"
        },
        {
          "output_type": "stream",
          "text": [
            "\u001b[34m\u001b[1mwandb\u001b[0m: Appending key for api.wandb.ai to your netrc file: /root/.netrc\n"
          ],
          "name": "stderr"
        },
        {
          "output_type": "display_data",
          "data": {
            "text/html": [
              "\n",
              "                Tracking run with wandb version 0.10.31<br/>\n",
              "                Syncing run <strong style=\"color:#cdcd00\">resnetrs50</strong> to <a href=\"https://wandb.ai\" target=\"_blank\">Weights & Biases</a> <a href=\"https://docs.wandb.com/integrations/jupyter.html\" target=\"_blank\">(Documentation)</a>.<br/>\n",
              "                Project page: <a href=\"https://wandb.ai/github2020/ImageNette\" target=\"_blank\">https://wandb.ai/github2020/ImageNette</a><br/>\n",
              "                Run page: <a href=\"https://wandb.ai/github2020/ImageNette/runs/gou1vhcr\" target=\"_blank\">https://wandb.ai/github2020/ImageNette/runs/gou1vhcr</a><br/>\n",
              "                Run data is saved locally in <code>/content/wandb/run-20210604_100403-gou1vhcr</code><br/><br/>\n",
              "            "
            ],
            "text/plain": [
              "<IPython.core.display.HTML object>"
            ]
          },
          "metadata": {
            "tags": []
          }
        },
        {
          "output_type": "stream",
          "text": [
            "Epoch [TRAIN] 1: 100%|██████████| 148/148 [00:39<00:00,  3.72it/s, loss=6.758239, LR=1e-5]\n",
            "Epoch [VALID] 1: 100%|██████████| 62/62 [00:08<00:00,  6.96it/s, loss=6.014195]\n",
            "Epoch [TRAIN] 2: 100%|██████████| 148/148 [00:39<00:00,  3.76it/s, loss=5.299781, LR=1e-5]\n",
            "Epoch [VALID] 2: 100%|██████████| 62/62 [00:08<00:00,  6.99it/s, loss=4.613536]\n",
            "Epoch [TRAIN] 3: 100%|██████████| 148/148 [00:39<00:00,  3.75it/s, loss=4.017516, LR=1e-5]\n",
            "Epoch [VALID] 3: 100%|██████████| 62/62 [00:09<00:00,  6.88it/s, loss=3.463946]\n",
            "Epoch [TRAIN] 4: 100%|██████████| 148/148 [00:39<00:00,  3.74it/s, loss=3.183121, LR=1e-5]\n",
            "Epoch [VALID] 4: 100%|██████████| 62/62 [00:09<00:00,  6.88it/s, loss=2.835897]\n",
            "Epoch [TRAIN] 5: 100%|██████████| 148/148 [00:39<00:00,  3.74it/s, loss=2.781310, LR=1e-5]\n",
            "Epoch [VALID] 5: 100%|██████████| 62/62 [00:08<00:00,  6.89it/s, loss=2.571084]\n"
          ],
          "name": "stderr"
        },
        {
          "output_type": "display_data",
          "data": {
            "text/html": [
              "Finishing last run (ID:gou1vhcr) before initializing another..."
            ],
            "text/plain": [
              "<IPython.core.display.HTML object>"
            ]
          },
          "metadata": {
            "tags": []
          }
        },
        {
          "output_type": "display_data",
          "data": {
            "text/html": [
              "<br/>Waiting for W&B process to finish, PID 186<br/>Program ended successfully."
            ],
            "text/plain": [
              "<IPython.core.display.HTML object>"
            ]
          },
          "metadata": {
            "tags": []
          }
        },
        {
          "output_type": "display_data",
          "data": {
            "application/vnd.jupyter.widget-view+json": {
              "model_id": "adb96553565a434caf030f706ef3822d",
              "version_minor": 0,
              "version_major": 2
            },
            "text/plain": [
              "VBox(children=(Label(value=' 0.04MB of 0.04MB uploaded (0.00MB deduped)\\r'), FloatProgress(value=1.0, max=1.0)…"
            ]
          },
          "metadata": {
            "tags": []
          }
        },
        {
          "output_type": "display_data",
          "data": {
            "text/html": [
              "Find user logs for this run at: <code>/content/wandb/run-20210604_100403-gou1vhcr/logs/debug.log</code>"
            ],
            "text/plain": [
              "<IPython.core.display.HTML object>"
            ]
          },
          "metadata": {
            "tags": []
          }
        },
        {
          "output_type": "display_data",
          "data": {
            "text/html": [
              "Find internal logs for this run at: <code>/content/wandb/run-20210604_100403-gou1vhcr/logs/debug-internal.log</code>"
            ],
            "text/plain": [
              "<IPython.core.display.HTML object>"
            ]
          },
          "metadata": {
            "tags": []
          }
        },
        {
          "output_type": "display_data",
          "data": {
            "text/html": [
              "<h3>Run summary:</h3><br/><style>\n",
              "    table.wandb td:nth-child(1) { padding: 0 10px; text-align: right }\n",
              "    </style><table class=\"wandb\">\n",
              "<tr><td>train_loss</td><td>2.78131</td></tr><tr><td>eval_loss</td><td>2.57108</td></tr><tr><td>lr</td><td>1e-05</td></tr><tr><td>_runtime</td><td>252</td></tr><tr><td>_timestamp</td><td>1622801295</td></tr><tr><td>_step</td><td>4</td></tr></table>"
            ],
            "text/plain": [
              "<IPython.core.display.HTML object>"
            ]
          },
          "metadata": {
            "tags": []
          }
        },
        {
          "output_type": "display_data",
          "data": {
            "text/html": [
              "<h3>Run history:</h3><br/><style>\n",
              "    table.wandb td:nth-child(1) { padding: 0 10px; text-align: right }\n",
              "    </style><table class=\"wandb\">\n",
              "<tr><td>train_loss</td><td>█▅▃▂▁</td></tr><tr><td>eval_loss</td><td>█▅▃▂▁</td></tr><tr><td>lr</td><td>▁▁▁▁▁</td></tr><tr><td>_runtime</td><td>▁▃▄▆█</td></tr><tr><td>_timestamp</td><td>▁▃▄▆█</td></tr><tr><td>_step</td><td>▁▃▅▆█</td></tr></table><br/>"
            ],
            "text/plain": [
              "<IPython.core.display.HTML object>"
            ]
          },
          "metadata": {
            "tags": []
          }
        },
        {
          "output_type": "display_data",
          "data": {
            "text/html": [
              "Synced 5 W&B file(s), 0 media file(s), 2 artifact file(s) and 1 other file(s)"
            ],
            "text/plain": [
              "<IPython.core.display.HTML object>"
            ]
          },
          "metadata": {
            "tags": []
          }
        },
        {
          "output_type": "display_data",
          "data": {
            "text/html": [
              "\n",
              "                    <br/>Synced <strong style=\"color:#cdcd00\">resnetrs50</strong>: <a href=\"https://wandb.ai/github2020/ImageNette/runs/gou1vhcr\" target=\"_blank\">https://wandb.ai/github2020/ImageNette/runs/gou1vhcr</a><br/>\n",
              "                "
            ],
            "text/plain": [
              "<IPython.core.display.HTML object>"
            ]
          },
          "metadata": {
            "tags": []
          }
        },
        {
          "output_type": "display_data",
          "data": {
            "text/html": [
              "...Successfully finished last run (ID:gou1vhcr). Initializing new run:<br/><br/>"
            ],
            "text/plain": [
              "<IPython.core.display.HTML object>"
            ]
          },
          "metadata": {
            "tags": []
          }
        },
        {
          "output_type": "display_data",
          "data": {
            "text/html": [
              "\n",
              "                Tracking run with wandb version 0.10.31<br/>\n",
              "                Syncing run <strong style=\"color:#cdcd00\">resnetrs101</strong> to <a href=\"https://wandb.ai\" target=\"_blank\">Weights & Biases</a> <a href=\"https://docs.wandb.com/integrations/jupyter.html\" target=\"_blank\">(Documentation)</a>.<br/>\n",
              "                Project page: <a href=\"https://wandb.ai/github2020/ImageNette\" target=\"_blank\">https://wandb.ai/github2020/ImageNette</a><br/>\n",
              "                Run page: <a href=\"https://wandb.ai/github2020/ImageNette/runs/p5l2ugfn\" target=\"_blank\">https://wandb.ai/github2020/ImageNette/runs/p5l2ugfn</a><br/>\n",
              "                Run data is saved locally in <code>/content/wandb/run-20210604_100815-p5l2ugfn</code><br/><br/>\n",
              "            "
            ],
            "text/plain": [
              "<IPython.core.display.HTML object>"
            ]
          },
          "metadata": {
            "tags": []
          }
        },
        {
          "output_type": "stream",
          "text": [
            "Epoch [TRAIN] 1: 100%|██████████| 148/148 [00:53<00:00,  2.76it/s, loss=6.766204, LR=1e-5]\n",
            "Epoch [VALID] 1: 100%|██████████| 62/62 [00:10<00:00,  5.94it/s, loss=5.989587]\n",
            "Epoch [TRAIN] 2: 100%|██████████| 148/148 [00:53<00:00,  2.78it/s, loss=5.316126, LR=1e-5]\n",
            "Epoch [VALID] 2: 100%|██████████| 62/62 [00:10<00:00,  5.97it/s, loss=4.587626]\n",
            "Epoch [TRAIN] 3: 100%|██████████| 148/148 [00:53<00:00,  2.77it/s, loss=4.028769, LR=1e-5]\n",
            "Epoch [VALID] 3: 100%|██████████| 62/62 [00:10<00:00,  5.95it/s, loss=3.459581]\n",
            "Epoch [TRAIN] 4: 100%|██████████| 148/148 [00:53<00:00,  2.78it/s, loss=3.186336, LR=1e-5]\n",
            "Epoch [VALID] 4: 100%|██████████| 62/62 [00:10<00:00,  6.00it/s, loss=2.842945]\n",
            "Epoch [TRAIN] 5: 100%|██████████| 148/148 [00:53<00:00,  2.78it/s, loss=2.780900, LR=1e-5]\n",
            "Epoch [VALID] 5: 100%|██████████| 62/62 [00:10<00:00,  5.95it/s, loss=2.572785]\n"
          ],
          "name": "stderr"
        },
        {
          "output_type": "display_data",
          "data": {
            "text/html": [
              "Finishing last run (ID:p5l2ugfn) before initializing another..."
            ],
            "text/plain": [
              "<IPython.core.display.HTML object>"
            ]
          },
          "metadata": {
            "tags": []
          }
        },
        {
          "output_type": "display_data",
          "data": {
            "text/html": [
              "<br/>Waiting for W&B process to finish, PID 287<br/>Program ended successfully."
            ],
            "text/plain": [
              "<IPython.core.display.HTML object>"
            ]
          },
          "metadata": {
            "tags": []
          }
        },
        {
          "output_type": "display_data",
          "data": {
            "application/vnd.jupyter.widget-view+json": {
              "model_id": "312fc110473945b186e1c752b5faf846",
              "version_minor": 0,
              "version_major": 2
            },
            "text/plain": [
              "VBox(children=(Label(value=' 0.00MB of 0.00MB uploaded (0.00MB deduped)\\r'), FloatProgress(value=1.0, max=1.0)…"
            ]
          },
          "metadata": {
            "tags": []
          }
        },
        {
          "output_type": "display_data",
          "data": {
            "text/html": [
              "Find user logs for this run at: <code>/content/wandb/run-20210604_100815-p5l2ugfn/logs/debug.log</code>"
            ],
            "text/plain": [
              "<IPython.core.display.HTML object>"
            ]
          },
          "metadata": {
            "tags": []
          }
        },
        {
          "output_type": "display_data",
          "data": {
            "text/html": [
              "Find internal logs for this run at: <code>/content/wandb/run-20210604_100815-p5l2ugfn/logs/debug-internal.log</code>"
            ],
            "text/plain": [
              "<IPython.core.display.HTML object>"
            ]
          },
          "metadata": {
            "tags": []
          }
        },
        {
          "output_type": "display_data",
          "data": {
            "text/html": [
              "<h3>Run summary:</h3><br/><style>\n",
              "    table.wandb td:nth-child(1) { padding: 0 10px; text-align: right }\n",
              "    </style><table class=\"wandb\">\n",
              "<tr><td>train_loss</td><td>2.7809</td></tr><tr><td>eval_loss</td><td>2.57279</td></tr><tr><td>lr</td><td>1e-05</td></tr><tr><td>_runtime</td><td>322</td></tr><tr><td>_timestamp</td><td>1622801623</td></tr><tr><td>_step</td><td>4</td></tr></table>"
            ],
            "text/plain": [
              "<IPython.core.display.HTML object>"
            ]
          },
          "metadata": {
            "tags": []
          }
        },
        {
          "output_type": "display_data",
          "data": {
            "text/html": [
              "<h3>Run history:</h3><br/><style>\n",
              "    table.wandb td:nth-child(1) { padding: 0 10px; text-align: right }\n",
              "    </style><table class=\"wandb\">\n",
              "<tr><td>train_loss</td><td>█▅▃▂▁</td></tr><tr><td>eval_loss</td><td>█▅▃▂▁</td></tr><tr><td>lr</td><td>▁▁▁▁▁</td></tr><tr><td>_runtime</td><td>▁▃▅▆█</td></tr><tr><td>_timestamp</td><td>▁▃▅▆█</td></tr><tr><td>_step</td><td>▁▃▅▆█</td></tr></table><br/>"
            ],
            "text/plain": [
              "<IPython.core.display.HTML object>"
            ]
          },
          "metadata": {
            "tags": []
          }
        },
        {
          "output_type": "display_data",
          "data": {
            "text/html": [
              "Synced 5 W&B file(s), 0 media file(s), 0 artifact file(s) and 0 other file(s)"
            ],
            "text/plain": [
              "<IPython.core.display.HTML object>"
            ]
          },
          "metadata": {
            "tags": []
          }
        },
        {
          "output_type": "display_data",
          "data": {
            "text/html": [
              "\n",
              "                    <br/>Synced <strong style=\"color:#cdcd00\">resnetrs101</strong>: <a href=\"https://wandb.ai/github2020/ImageNette/runs/p5l2ugfn\" target=\"_blank\">https://wandb.ai/github2020/ImageNette/runs/p5l2ugfn</a><br/>\n",
              "                "
            ],
            "text/plain": [
              "<IPython.core.display.HTML object>"
            ]
          },
          "metadata": {
            "tags": []
          }
        },
        {
          "output_type": "display_data",
          "data": {
            "text/html": [
              "...Successfully finished last run (ID:p5l2ugfn). Initializing new run:<br/><br/>"
            ],
            "text/plain": [
              "<IPython.core.display.HTML object>"
            ]
          },
          "metadata": {
            "tags": []
          }
        },
        {
          "output_type": "display_data",
          "data": {
            "text/html": [
              "\n",
              "                Tracking run with wandb version 0.10.31<br/>\n",
              "                Syncing run <strong style=\"color:#cdcd00\">resnet50</strong> to <a href=\"https://wandb.ai\" target=\"_blank\">Weights & Biases</a> <a href=\"https://docs.wandb.com/integrations/jupyter.html\" target=\"_blank\">(Documentation)</a>.<br/>\n",
              "                Project page: <a href=\"https://wandb.ai/github2020/ImageNette\" target=\"_blank\">https://wandb.ai/github2020/ImageNette</a><br/>\n",
              "                Run page: <a href=\"https://wandb.ai/github2020/ImageNette/runs/j99kd5ge\" target=\"_blank\">https://wandb.ai/github2020/ImageNette/runs/j99kd5ge</a><br/>\n",
              "                Run data is saved locally in <code>/content/wandb/run-20210604_101343-j99kd5ge</code><br/><br/>\n",
              "            "
            ],
            "text/plain": [
              "<IPython.core.display.HTML object>"
            ]
          },
          "metadata": {
            "tags": []
          }
        },
        {
          "output_type": "stream",
          "text": [
            "Epoch [TRAIN] 1: 100%|██████████| 148/148 [00:34<00:00,  4.25it/s, loss=6.829496, LR=1e-5]\n",
            "Epoch [VALID] 1: 100%|██████████| 62/62 [00:08<00:00,  7.33it/s, loss=6.042809]\n",
            "Epoch [TRAIN] 2: 100%|██████████| 148/148 [00:34<00:00,  4.28it/s, loss=5.342644, LR=1e-5]\n",
            "Epoch [VALID] 2: 100%|██████████| 62/62 [00:08<00:00,  7.32it/s, loss=4.629596]\n",
            "Epoch [TRAIN] 3: 100%|██████████| 148/148 [00:34<00:00,  4.27it/s, loss=4.015556, LR=1e-5]\n",
            "Epoch [VALID] 3: 100%|██████████| 62/62 [00:08<00:00,  7.29it/s, loss=3.520964]\n",
            "Epoch [TRAIN] 4: 100%|██████████| 148/148 [00:34<00:00,  4.27it/s, loss=3.158181, LR=1e-5]\n",
            "Epoch [VALID] 4: 100%|██████████| 62/62 [00:08<00:00,  7.31it/s, loss=2.907657]\n",
            "Epoch [TRAIN] 5: 100%|██████████| 148/148 [00:34<00:00,  4.27it/s, loss=2.755575, LR=1e-5]\n",
            "Epoch [VALID] 5: 100%|██████████| 62/62 [00:08<00:00,  7.22it/s, loss=2.623513]\n"
          ],
          "name": "stderr"
        }
      ]
    },
    {
      "cell_type": "code",
      "metadata": {
        "id": "mC9Sn2QYyD2v"
      },
      "source": [
        ""
      ],
      "execution_count": 12,
      "outputs": []
    }
  ]
}