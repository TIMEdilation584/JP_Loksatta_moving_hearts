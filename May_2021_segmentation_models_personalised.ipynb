{
  "nbformat": 4,
  "nbformat_minor": 0,
  "metadata": {
    "colab": {
      "name": "May_2021_segmentation_models_personalised.ipynb",
      "provenance": [],
      "collapsed_sections": [],
      "machine_shape": "hm",
      "authorship_tag": "ABX9TyNxRbOGDZzSEII+4VYYmLC7",
      "include_colab_link": true
    },
    "kernelspec": {
      "name": "python3",
      "display_name": "Python 3"
    },
    "language_info": {
      "name": "python"
    },
    "accelerator": "GPU"
  },
  "cells": [
    {
      "cell_type": "markdown",
      "metadata": {
        "id": "view-in-github",
        "colab_type": "text"
      },
      "source": [
        "<a href=\"https://colab.research.google.com/github/TIMEdilation584/JP_Loksatta_moving_hearts/blob/master/May_2021_segmentation_models_personalised.ipynb\" target=\"_parent\"><img src=\"https://colab.research.google.com/assets/colab-badge.svg\" alt=\"Open In Colab\"/></a>"
      ]
    },
    {
      "cell_type": "code",
      "metadata": {
        "colab": {
          "base_uri": "https://localhost:8080/"
        },
        "id": "DGvxCBvNc5MQ",
        "outputId": "416c746c-5f49-43ec-edc8-a53c1445cca3"
      },
      "source": [
        "from google.colab import drive\n",
        "drive.mount('/gdrive')"
      ],
      "execution_count": null,
      "outputs": [
        {
          "output_type": "stream",
          "text": [
            "Mounted at /gdrive\n"
          ],
          "name": "stdout"
        }
      ]
    },
    {
      "cell_type": "code",
      "metadata": {
        "id": "F-xWglkndFLt"
      },
      "source": [
        "dataset_path = 'drive/My Drive/idd-lite/idd20k_lite/'"
      ],
      "execution_count": null,
      "outputs": []
    },
    {
      "cell_type": "code",
      "metadata": {
        "colab": {
          "base_uri": "https://localhost:8080/"
        },
        "id": "L7cdBh0PdUrg",
        "outputId": "9f6f052d-6532-4f23-bada-f8e059a03cf6"
      },
      "source": [
        "import shutil\n",
        "import tensorflow as tf\n",
        "from tqdm import tqdm\n",
        "from glob import glob\n",
        "\n",
        "img_train = 'drive/My Drive/idd-lite/idd20k_lite/' + 'leftImg8bit/train/'\n",
        "train_paths = glob(img_train+'*/*_image.jpg')\n",
        "\n",
        "for i in tqdm(train_paths):\n",
        "    img = i.split('/')[-1]\n",
        "    shutil.copy(i,'drive/My Drive/idd-lite/idd20k_lite/leftImg8bit/train/'+img)\n",
        "    mask_path = tf.strings.regex_replace(i, \"leftImg8bit\", \"gtFine\")\n",
        "    mask_path = tf.strings.regex_replace(mask_path, \"_image.jpg\", \"_label.png\")\n",
        "    mask = img.split('_')[0]+'_label.png'\n",
        "    shutil.copy(mask_path.numpy(),'drive/My Drive/idd-lite/idd20k_lite/leftImg8bit/train/'+mask)"
      ],
      "execution_count": null,
      "outputs": [
        {
          "output_type": "stream",
          "text": [
            "0it [00:00, ?it/s]\n"
          ],
          "name": "stderr"
        }
      ]
    },
    {
      "cell_type": "code",
      "metadata": {
        "colab": {
          "base_uri": "https://localhost:8080/"
        },
        "id": "f1sU8zpqi0wU",
        "outputId": "4849943c-c02d-4050-803c-96924435dfa3"
      },
      "source": [
        "img_val = dataset_path + 'leftImg8bit/val/'\n",
        "val_paths = glob(img_val+'*/*_image.jpg')\n",
        "#val_paths = glob('drive/My Drive/idd-lite/idd20k_lite/val')\n",
        "for i in tqdm(val_paths):\n",
        "    img = i.split('/')[-1]\n",
        "    shutil.copy(i,'drive/My Drive/idd-lite/idd20k_lite/leftImg8bit/val/'+img)\n",
        "    mask_path = tf.strings.regex_replace(i, \"leftImg8bit\", \"gtFine\")\n",
        "    mask_path = tf.strings.regex_replace(mask_path, \"_image.jpg\", \"_label.png\")\n",
        "    mask = img.split('_')[0]+'_label.png'\n",
        "    shutil.copy(mask_path.numpy(),'drive/My Drive/idd-lite/idd20k_lite/leftImg8bit/val/'+mask)"
      ],
      "execution_count": null,
      "outputs": [
        {
          "output_type": "stream",
          "text": [
            "0it [00:00, ?it/s]\n"
          ],
          "name": "stderr"
        }
      ]
    },
    {
      "cell_type": "code",
      "metadata": {
        "id": "qmh5LOo7i9IH"
      },
      "source": [
        "# here dir_path is the route directory where all the images and segmentation maps are there\n",
        "#train_path = \"dataset_train\"\n",
        "import os\n",
        "dataset_path = '/content/drive/My Drive/idd-lite/idd20k_lite/'\n",
        "train_path = '/content/drive/My Drive/idd-lite/idd20k_lite/leftImg8bit/train/'\n",
        "X_train = []\n",
        "for i in os.listdir(train_path):\n",
        "    X_train.append(i.split('.')[0])\n",
        "\n",
        "val_path = \"/drive/My Drive/idd-lite/idd20k_lite/leftImg8bit/\"\n",
        "X_test = []\n",
        "for i in os.listdir(val_path):\n",
        "    X_test.append(i.split('.')[0])"
      ],
      "execution_count": null,
      "outputs": []
    }
  ]
}