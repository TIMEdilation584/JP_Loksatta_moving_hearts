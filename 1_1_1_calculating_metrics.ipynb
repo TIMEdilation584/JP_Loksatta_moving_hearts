{
  "nbformat": 4,
  "nbformat_minor": 0,
  "metadata": {
    "colab": {
      "provenance": [],
      "authorship_tag": "ABX9TyPDlu27wS7Lj4QBfCIUMS56",
      "include_colab_link": true
    },
    "kernelspec": {
      "name": "python3",
      "display_name": "Python 3"
    },
    "language_info": {
      "name": "python"
    }
  },
  "cells": [
    {
      "cell_type": "markdown",
      "metadata": {
        "id": "view-in-github",
        "colab_type": "text"
      },
      "source": [
        "<a href=\"https://colab.research.google.com/github/TIMEdilation584/JP_Loksatta_moving_hearts/blob/master/1_1_1_calculating_metrics.ipynb\" target=\"_parent\"><img src=\"https://colab.research.google.com/assets/colab-badge.svg\" alt=\"Open In Colab\"/></a>"
      ]
    },
    {
      "cell_type": "markdown",
      "source": [
        "Source is\n",
        "https://github.com/jonathanloganmoran/ND0013-Self-Driving-Car-Engineer/blob/main/1-Computer-Vision/Exercises/1-1-1-Choosing-Metrics/2022-07-25-Choosing-Metrics-IoU.ipynb"
      ],
      "metadata": {
        "id": "4tLqgbsPTC27"
      }
    },
    {
      "cell_type": "code",
      "execution_count": 1,
      "metadata": {
        "id": "sxvMULl9POKQ"
      },
      "outputs": [],
      "source": [
        "import json\n",
        "import numpy as np\n",
        "import pandas as pd\n",
        "from typing import List"
      ]
    },
    {
      "cell_type": "code",
      "source": [
        "class IoU:\n",
        "\n",
        "    def __init__(self):\n",
        "        return\n",
        "\n",
        "    @staticmethod\n",
        "    def _overlapping_rectangles(bbox1: List[int], bbox2: List[int]) -> bool:\n",
        "        \"\"\"Returns True if the bounding boxes overlap.\n",
        "        \n",
        "        Two bounding boxes overlap if their area is positive and non-zero.\n",
        "        \n",
        "        :param bbox1: 1x4 list of x-y coordinates forming a rectangle.\n",
        "        :param bbox2: 1x4 list of x-y coordinates forming a rectangle.\n",
        "        :returns: bool, whether or not the two rectangles overlap.\n",
        "        \"\"\"\n",
        "        \n",
        "        # 1. Check if bounding boxes do not overlap\n",
        "        if (\n",
        "            # (a) First bbox lower edge is GEQ second bbox upper edge\n",
        "            (min(bbox1[1], bbox2[1]) >= max(bbox1[3], bbox2[3])) or\n",
        "            # (b) First bbox right edge is LEQ second bbox left edge\n",
        "            (min(bbox1[2], bbox2[2]) <= max(bbox1[0], bbox2[0])) or\n",
        "            # (c) First bbox left edge is GEQ second bbox right edge\n",
        "            (min(bbox1[0], bbox2[0]) >= max(bbox1[2], bbox2[2])) or\n",
        "            # (d) First bbox upper edge is LEQ second bbox lower edge\n",
        "            (min(bbox1[3], bbox2[3]) <= max(bbox1[1], bbox2[1]))\n",
        "        ):\n",
        "            return False\n",
        "        # 2. Check if intersection area is larger than 0\n",
        "        else:\n",
        "            x_inter1 = max(bbox1[0], bbox2[0])\n",
        "            y_inter1 = max(bbox1[1], bbox2[1])\n",
        "            x_inter2 = min(bbox1[2], bbox2[2])\n",
        "            y_inter2 = min(bbox1[3], bbox2[3])\n",
        "            # Overlapping region must have positive area\n",
        "            w_inter = max(0, (x_inter2 - x_inter1))\n",
        "            h_inter = max(0, (y_inter2 - y_inter1))\n",
        "            if (w_inter * h_inter) > 0:\n",
        "                return True\n",
        "        return False\n",
        "\n",
        "    def _calculate_iou(self, gt_bbox: List[int], pred_bbox: List[int]) -> float:\n",
        "        \"\"\"Calculates the IoU score for a single pair of bounding boxes.\n",
        "\n",
        "        :param gt_bbox: 1x4 list of ground-truth coordinates,\n",
        "        :param pred_bbox: 1x4 list of predicted coordinates,\n",
        "        returns: iou, the pairwise IoU score between the two bounding boxes.\n",
        "        \"\"\"\n",
        "\n",
        "        # 1. Check if bounding boxes overlap\n",
        "        if not self._overlapping_rectangles(gt_bbox, pred_bbox):\n",
        "            return 0.0\n",
        "        else:\n",
        "            # 2. Find the coordinates of the area of intersection\n",
        "            #    2a. The upper-left coordinate\n",
        "            x_inter1 = max(gt_bbox[0], pred_bbox[0])\n",
        "            y_inter1 = max(gt_bbox[1], pred_bbox[1])\n",
        "            #    2b. The lower-right coordinate\n",
        "            x_inter2 = min(gt_bbox[2], pred_bbox[2])\n",
        "            y_inter2 = min(gt_bbox[3], pred_bbox[3])\n",
        "            # 3. Calculate the area of intersection\n",
        "            w_inter = abs(x_inter2 - x_inter1)\n",
        "            h_inter = abs(y_inter2 - y_inter1)\n",
        "            area_inter = w_inter * h_inter\n",
        "            # 4. Find the coordinates of the area of union\n",
        "            #    4a. The height and width of the first box \n",
        "            w_union1 = abs(gt_bbox[2] - gt_bbox[0])\n",
        "            h_union1 = abs(gt_bbox[3] - gt_bbox[1])\n",
        "            #    4b. The height and width of the second box\n",
        "            w_union2 = abs(pred_bbox[2] - pred_bbox[0])\n",
        "            h_union2 = abs(pred_bbox[3] - pred_bbox[1])\n",
        "            # 5. Calculate the area of union\n",
        "            area_union = (w_union1 * h_union1) + (w_union2 * h_union2)\n",
        "            area_union -= area_inter\n",
        "            # 6. Calculate the resulting IoU score\n",
        "            iou = float(area_inter) / float(area_union)\n",
        "        return iou\n",
        "\n",
        "    def calculate_ious(self, gt_bboxes: List[List[int]], \n",
        "                       pred_bboxes: List[List[int]]) -> List[float]:\n",
        "        \"\"\"Calculates the IoU scores for all bounding box pairs.\n",
        "\n",
        "        :param gt_bboxes: Nx4 list of ground-truth coordinates,\n",
        "        :param pred_bboxes: Mx4 list of predicted coordinates,\n",
        "        returns: iou, NxM list of pairwise IoU scores.\n",
        "        \"\"\"\n",
        "\n",
        "        # Allocate a NumPy array of zeros to store the IoU scores\n",
        "        ious = np.zeros((gt_bboxes.shape[0], pred_bboxes.shape[0]))\n",
        "        # For each ground-truth bounding box\n",
        "        for i, gt_bbox in enumerate(gt_bboxes):\n",
        "            # Calculate the IoU score w.r.t the entire inference set\n",
        "            for j, pred_bbox in enumerate(pred_bboxes):\n",
        "                ious[i,j] = self._calculate_iou(gt_bbox, pred_bbox)\n",
        "        return ious"
      ],
      "metadata": {
        "id": "nqK8Ni49PRSf"
      },
      "execution_count": 2,
      "outputs": []
    },
    {
      "cell_type": "code",
      "source": [
        "class IoUSolution:\n",
        "\n",
        "    def __init__(self):\n",
        "        return\n",
        "\n",
        "    @staticmethod    \n",
        "    def _overlapping_rectangles(bbox1: List[int], bbox2: List[int]) -> bool:\n",
        "        \"\"\"Returns True if the bounding boxes overlap.\n",
        "        \n",
        "        Two bounding boxes overlap if their area is positive and non-zero.\n",
        "        \n",
        "        :param bbox1: 1x4 list of x-y coordinates forming a rectangle.\n",
        "        :param bbox2: 1x4 list of x-y coordinates forming a rectangle.\n",
        "        :returns: bool, whether or not the two rectangles overlap.\n",
        "        \"\"\"\n",
        "        \n",
        "        # 1. Check if bounding boxes do not overlap (not required in solution)\n",
        "        if (\n",
        "            # (a) First bbox lower edge is GEQ second bbox upper edge\n",
        "            (min(bbox1[1], bbox2[1]) >= max(bbox1[3], bbox2[3])) or\n",
        "            # (b) First bbox right edge is LEQ second bbox left edge\n",
        "            (min(bbox1[2], bbox2[2]) <= max(bbox1[0], bbox2[0])) or\n",
        "            # (c) First bbox left edge is GEQ second bbox right edge\n",
        "            (min(bbox1[0], bbox2[0]) >= max(bbox1[2], bbox2[2])) or\n",
        "            # (d) First bbox upper edge is LEQ second bbox lower edge\n",
        "            (min(bbox1[3], bbox2[3]) <= max(bbox1[1], bbox2[1]))\n",
        "        ):\n",
        "            return False\n",
        "        # 2. Check if intersection area is larger than 0\n",
        "        else:\n",
        "            x_inter1 = max(bbox1[0], bbox2[0])\n",
        "            y_inter1 = max(bbox1[1], bbox2[1])\n",
        "            x_inter2 = min(bbox1[2], bbox2[2])\n",
        "            y_inter2 = min(bbox1[3], bbox2[3])\n",
        "            # Overlapping region must have positive area\n",
        "            w_inter = max(0, (x_inter2 - x_inter1))\n",
        "            h_inter = max(0, (y_inter2 - y_inter1))\n",
        "            if (w_inter * h_inter) > 0:\n",
        "                return True\n",
        "        return False\n",
        "\n",
        "    def _calculate_iou(self, gt_bbox: List[int], pred_bbox: List[int]) -> float:\n",
        "        \"\"\"Calculates the IoU score for a single pair of bounding boxes.\n",
        "\n",
        "        :param gt_bbox: 1x4 list of ground-truth coordinates,\n",
        "        :param pred_bbox: 1x4 list of predicted coordinates,\n",
        "        returns: iou, the pairwise IoU score between the two bounding boxes.\n",
        "        \"\"\"\n",
        "\n",
        "        # 1. Check if bounding boxes overlap\n",
        "        if not self._overlapping_rectangles(gt_bbox, pred_bbox):\n",
        "            return 0.0\n",
        "        else:\n",
        "            # 2. Find the coordinates of the area of intersection\n",
        "            #    2a. The upper-left coordinate\n",
        "            x_inter1 = max(gt_bbox[0], pred_bbox[0])\n",
        "            y_inter1 = max(gt_bbox[1], pred_bbox[1])\n",
        "            #    2b. The lower-right coordinate\n",
        "            x_inter2 = min(gt_bbox[2], pred_bbox[2])\n",
        "            y_inter2 = min(gt_bbox[3], pred_bbox[3])\n",
        "            # 3. Calculate the area of intersection\n",
        "            # Fixed typo in solution: erroneously adding +1 to width/height\n",
        "            w_inter = max(0, x_inter2 - x_inter1)\n",
        "            h_inter = max(0, y_inter2 - y_inter1)\n",
        "            area_inter = w_inter * h_inter\n",
        "            # 4. Find the coordinates of the area of union\n",
        "            #    4a. The height and width of the first (ground truth) box\n",
        "            w_union1 = gt_bbox[2] - gt_bbox[0]        # abs() not used in sol.\n",
        "            h_union1  = gt_bbox[3] - gt_bbox[1]\n",
        "            #    4b. The height and width of the second (predicted) box\n",
        "            w_union2 = pred_bbox[2] - pred_bbox[0]    # abs() not used in sol.\n",
        "            h_union2 = gt_bbox[3] - gt_bbox[1]\n",
        "            # 5. Calculate the area of union\n",
        "            area_union = (w_union1 * h_union1) + (w_union2 * h_union2)\n",
        "            area_union -= area_inter\n",
        "            # 6. Calculate the resulting IoU score\n",
        "            iou = float(area_inter) / float(area_union)\n",
        "        return iou\n",
        "\n",
        "    def calculate_ious(self, gt_bboxes: List[List[int]], \n",
        "                       pred_bboxes: List[List[int]]) -> List[float]:\n",
        "        \"\"\"Calculates the IoU scores for all bounding box pairs.\n",
        "\n",
        "        :param gt_bboxes: Nx4 list of ground-truth coordinates,\n",
        "        :param pred_bboxes: Mx4 list of predicted coordinates,\n",
        "        returns: iou, NxM list of pairwise IoU scores.\n",
        "        \"\"\"\n",
        "\n",
        "        # Allocate a NumPy array of zeros to store the IoU scores\n",
        "        ious = np.zeros((gt_bboxes.shape[0], pred_bboxes.shape[0]))\n",
        "        # For each ground-truth bounding box\n",
        "        for i, gt_bbox in enumerate(gt_bboxes):\n",
        "            # Calculate the IoU score w.r.t the entire inference set\n",
        "            for j, pred_bbox in enumerate(pred_bboxes):\n",
        "                ious[i,j] = self._calculate_iou(gt_bbox, pred_bbox)\n",
        "        return ious"
      ],
      "metadata": {
        "id": "FSgtQloGPWXE"
      },
      "execution_count": 3,
      "outputs": []
    },
    {
      "cell_type": "code",
      "source": [
        "pwd"
      ],
      "metadata": {
        "colab": {
          "base_uri": "https://localhost:8080/",
          "height": 35
        },
        "id": "-SAWy0zmPZNs",
        "outputId": "974913b7-7d86-40d8-ac4d-bcba07da6f22"
      },
      "execution_count": 8,
      "outputs": [
        {
          "output_type": "execute_result",
          "data": {
            "text/plain": [
              "'/content'"
            ],
            "application/vnd.google.colaboratory.intrinsic+json": {
              "type": "string"
            }
          },
          "metadata": {},
          "execution_count": 8
        }
      ]
    },
    {
      "cell_type": "code",
      "source": [
        "def get_data():\n",
        "    \"\"\"Simple wrapper function to get data.\"\"\"\n",
        "\n",
        "    with open('/content/ground_truth.json') as f:\n",
        "        ground_truth = json.load(f)\n",
        "    with open('/content/predictions.json') as f:\n",
        "        predictions = json.load(f)\n",
        "    return ground_truth, predictions"
      ],
      "metadata": {
        "id": "uTGFZqWoParj"
      },
      "execution_count": 11,
      "outputs": []
    },
    {
      "cell_type": "code",
      "source": [
        "ground_truth, predictions = get_data()"
      ],
      "metadata": {
        "id": "b1MRq4u0PbIE"
      },
      "execution_count": 12,
      "outputs": []
    },
    {
      "cell_type": "code",
      "source": [
        "# get bboxes array\n",
        "filename = 'segment-1231623110026745648_480_000_500_000_with_camera_labels_38.png'\n",
        "gt_bboxes = [g['boxes'] for g in ground_truth if g['filename'] == filename][0]\n",
        "gt_bboxes = np.array(gt_bboxes)\n",
        "gt_classes = [g['classes'] for g in ground_truth if g['filename'] == filename][0]\n",
        "\n",
        "\n",
        "pred_bboxes = [p['boxes'] for p in predictions if p['filename'] == filename][0]\n",
        "# Fixing typo in solution\n",
        "pred_bboxes = np.array(pred_bboxes) # pred_boxes -> pred_bboxes\n",
        "pred_classes = [p['classes'] for p in predictions if p['filename'] == filename][0]"
      ],
      "metadata": {
        "id": "-iyLONZbPdXN"
      },
      "execution_count": 13,
      "outputs": []
    },
    {
      "cell_type": "code",
      "source": [],
      "metadata": {
        "id": "ndd-ZGGLPfky"
      },
      "execution_count": null,
      "outputs": []
    },
    {
      "cell_type": "code",
      "source": [],
      "metadata": {
        "id": "J518uCsHTOPW"
      },
      "execution_count": null,
      "outputs": []
    },
    {
      "cell_type": "markdown",
      "source": [
        "Obtaining IoU scores"
      ],
      "metadata": {
        "id": "nOC7-uTuTOas"
      }
    },
    {
      "cell_type": "code",
      "source": [
        "### Testing my IoU algorithm\n",
        "ious = IoU().calculate_ious(gt_bboxes, pred_bboxes) # pred_boxes -> pred_bboxes\n",
        "ious"
      ],
      "metadata": {
        "colab": {
          "base_uri": "https://localhost:8080/"
        },
        "id": "b2AZLVjpTQYD",
        "outputId": "2664d773-f450-45fd-a001-114018a4914a"
      },
      "execution_count": 14,
      "outputs": [
        {
          "output_type": "execute_result",
          "data": {
            "text/plain": [
              "array([[0.84313051, 0.        , 0.        , 0.        , 0.23860974],\n",
              "       [0.        , 0.08469791, 0.4243356 , 0.        , 0.        ],\n",
              "       [0.        , 0.        , 0.        , 0.73221757, 0.        ],\n",
              "       [0.        , 0.41277874, 0.83450504, 0.        , 0.        ],\n",
              "       [0.        , 0.68758782, 0.43810509, 0.        , 0.        ],\n",
              "       [0.12221933, 0.        , 0.        , 0.        , 0.66359447],\n",
              "       [0.02888778, 0.        , 0.        , 0.        , 0.        ],\n",
              "       [0.        , 0.        , 0.02499868, 0.        , 0.        ]])"
            ]
          },
          "metadata": {},
          "execution_count": 14
        }
      ]
    },
    {
      "cell_type": "code",
      "source": [
        "### Testing Udacity's IoU algorithm\n",
        "ious_sol = IoUSolution().calculate_ious(gt_bboxes, pred_bboxes)\n",
        "ious_sol"
      ],
      "metadata": {
        "colab": {
          "base_uri": "https://localhost:8080/"
        },
        "id": "b1XDUHECTQlu",
        "outputId": "425e503e-2621-4c3f-9def-269f2a3a54cc"
      },
      "execution_count": 15,
      "outputs": [
        {
          "output_type": "execute_result",
          "data": {
            "text/plain": [
              "array([[0.8599813 , 0.        , 0.        , 0.        , 0.20062429],\n",
              "       [0.        , 0.07015903, 0.39276276, 0.        , 0.        ],\n",
              "       [0.        , 0.        , 0.        , 0.73221757, 0.        ],\n",
              "       [0.        , 0.33738584, 0.73938149, 0.        , 0.        ],\n",
              "       [0.        , 0.58673062, 0.42656688, 0.        , 0.        ],\n",
              "       [0.18375779, 0.        , 0.        , 0.        , 0.7826087 ],\n",
              "       [0.06651922, 0.        , 0.        , 0.        , 0.        ],\n",
              "       [0.        , 0.        , 0.03502614, 0.        , 0.        ]])"
            ]
          },
          "metadata": {},
          "execution_count": 15
        }
      ]
    },
    {
      "cell_type": "code",
      "source": [],
      "metadata": {
        "id": "087zObaZTVJl"
      },
      "execution_count": null,
      "outputs": []
    },
    {
      "cell_type": "code",
      "source": [],
      "metadata": {
        "id": "j9cIOylnTXnG"
      },
      "execution_count": null,
      "outputs": []
    },
    {
      "cell_type": "code",
      "source": [
        "def check_results(ious):\n",
        "    \"\"\"Checks the IoU prediction results.\"\"\"\n",
        "\n",
        "    solution = np.load('/content/exercise1_check.npy')\n",
        "    print((ious == solution).sum())\n",
        "    assert (ious == solution).sum() == 40, 'The iou calculation is wrong!'\n",
        "    print('Congrats, the iou calculation is correct!')"
      ],
      "metadata": {
        "id": "Qje2FfLUTXpg"
      },
      "execution_count": 18,
      "outputs": []
    },
    {
      "cell_type": "code",
      "source": [
        "check_results(ious)"
      ],
      "metadata": {
        "colab": {
          "base_uri": "https://localhost:8080/"
        },
        "id": "68DfN3vRTX_e",
        "outputId": "c40ea9ca-8476-4e6c-a2dc-dc7dd55aaad9"
      },
      "execution_count": 19,
      "outputs": [
        {
          "output_type": "stream",
          "name": "stdout",
          "text": [
            "40\n",
            "Congrats, the iou calculation is correct!\n"
          ]
        }
      ]
    },
    {
      "cell_type": "code",
      "source": [],
      "metadata": {
        "id": "DW1Om0MaTaNQ"
      },
      "execution_count": null,
      "outputs": []
    },
    {
      "cell_type": "code",
      "source": [],
      "metadata": {
        "id": "FBmU5LfJTiwY"
      },
      "execution_count": null,
      "outputs": []
    },
    {
      "cell_type": "code",
      "source": [
        "class PrecisionRecall:\n",
        "\n",
        "    def __init__(self):\n",
        "        return\n",
        "\n",
        "    def _compute_class_metrics(self, ious: List[float], gt_classes: List[int],\n",
        "                               pred_classes: List[int], iou_threshold: float) -> List[dict]:\n",
        "        \"\"\"Computes the classification metrics for a multi-class dataset.\n",
        "        \n",
        "        Dataset contains pairwse IoU scores for the bounding box prediction problem.\n",
        "        \n",
        "        :param ious: NxM list of pairwise IoU scores\n",
        "        :param gt_classes: 1xN list of ground truth class labels\n",
        "        :param pred_classes: 1xM list of predicted class labels\n",
        "        :param iou_threshold: float threshold, predictions 'valid' above this value.\n",
        "        :returns: list of dict objects containing the per-class metrics.\n",
        "        \"\"\"\n",
        "        \n",
        "        # Store per-class metrics\n",
        "        cls_metrics = []\n",
        "        # Convert matrix into pandas DataFrame for easier slicing/indexing\n",
        "        df = pd.DataFrame(data=ious, index=gt_classes, columns=pred_classes)\n",
        "        # Compute per-class metrics\n",
        "        for cls in np.unique(gt_classes):\n",
        "            # Get all preds for gt cls label\n",
        "            cls_df = df.loc[[cls],:]    # Preserves DataFrame structure\n",
        "            # Get all pairs with matching class labels\n",
        "            cls_data = cls_df[cls]\n",
        "            # Count number of TN (i.e., no bounding box to predict, N/A for our data)\n",
        "            true_negatives = 0\n",
        "            # Count number of TP (correct class, IoU > 0.5) predictions\n",
        "            true_positives = np.count_nonzero(cls_data.where(cls_data > 0.5).fillna(0))\n",
        "            # Count number of FN (incorrect class, IoU < 0.5) predictions\n",
        "            false_negatives = np.count_nonzero(cls_df.where(cls_df < 0.5).drop(columns=cls).fillna(0))\n",
        "            # Count number of FP (incorrect class, IoU > 0.5) predictions\n",
        "            false_positives = np.count_nonzero(cls_df.where(cls_df > 0.5).drop(columns=cls).fillna(0))\n",
        "            # Calculate precsion/recall for each class and store in dict\n",
        "            cls_dict = {'TN': true_negatives,\n",
        "                        'TP': true_positives,\n",
        "                        'FN': false_negatives,\n",
        "                        'FP': false_positives\n",
        "                        }\n",
        "            cls_metrics.append(cls_dict)\n",
        "        return cls_metrics\n",
        "\n",
        "    def precision_recall(self, ious: List[float], gt_classes: List[int], \n",
        "                         pred_classes: List[int], iou_threshold:float=0.5) -> (float, float):\n",
        "        \"\"\"Calculates the precision and recall metrics.\n",
        "        \n",
        "        Dataset contains pairwse IoU scores for the bounding box prediction problem.\n",
        "        Columns are the predicted class labels, rows are the ground truth class labels.\n",
        "        \n",
        "        :param ious: NxM list of pairwise IoU scores\n",
        "        :param gt_classes: 1xN list of ground truth class labels\n",
        "        :param pred_classes: 1xM list of predicted class labels\n",
        "        :param iou_threshold: float threshold, predictions 'valid' above this value.\n",
        "        :returns: (precision, recall), the two classification metric values.\n",
        "        \"\"\"\n",
        "\n",
        "        # Compute per-class metrics\n",
        "        cls_metrics = self._compute_class_metrics(ious, gt_classes, pred_classes, iou_threshold)\n",
        "        # Store total metrics\n",
        "        TN_total, TP_total = 0, 0\n",
        "        FN_total, FP_total = 0, 0\n",
        "        for c in cls_metrics:\n",
        "            TN_total += c['TN']\n",
        "            TP_total += c['TP']\n",
        "            FN_total += c['FN']\n",
        "            FP_total += c['FP']\n",
        "        # Print total metrics\n",
        "        print(\"TP:\", TP_total, \"TN:\", TN_total, \"\\nFP:\", FP_total, \"FN:\", FN_total)\n",
        "        # Compute combined metrics\n",
        "        precision = TP_total / float(TP_total + FP_total)\n",
        "        recall = TP_total / float(TP_total + FN_total)\n",
        "        return precision, recall"
      ],
      "metadata": {
        "id": "4Op4Tqy-Tiy_"
      },
      "execution_count": 20,
      "outputs": []
    },
    {
      "cell_type": "code",
      "source": [
        "class PrecisionRecallSolution:\n",
        "\n",
        "    def __init__(self):\n",
        "        return\n",
        "\n",
        "    def _compute_metrics(self, ious: List[float], gt_classes: List[int], \n",
        "                         pred_classes: List[int], iou_threshold: float) -> List[dict]:\n",
        "        \"\"\"Computes the dataset-specific classification metrics.\n",
        "        \n",
        "        Dataset contains pairwse IoU scores for the bounding box prediction problem.\n",
        "        \n",
        "        :param ious: NxM list of pairwise IoU scores\n",
        "        :param gt_classes: 1xN list of ground truth class labels\n",
        "        :param pred_classes: 1xM list of predicted class labels\n",
        "        :param iou_threshold: float threshold, predictions 'valid' above this value.\n",
        "        :returns: list of dict objects containing the per-class metrics.\n",
        "        \"\"\"\n",
        "        \n",
        "        # Store total metrics\n",
        "        metrics = []\n",
        "        # Store true positives/false positives\n",
        "        TP = 0\n",
        "        FP = 0\n",
        "        # Get all IoU values above threshold\n",
        "        xs, ys = np.where(ious > iou_threshold)\n",
        "        # Go through all (row, col) matrix elements above threshold\n",
        "        for x, y in zip(xs, ys):\n",
        "            # Get corresponding class labels for each pairwise IoU\n",
        "            if gt_classes[x] == pred_classes[y]:\n",
        "                # If class labels match and above IoU threshold\n",
        "                TP += 1\n",
        "            else:\n",
        "                # If class labels do not match and above IoU threshold\n",
        "                FP += 1\n",
        "        # Get number of bbox pairs above IoU threshold with matching labels\n",
        "        matched_gt = len(np.unique(xs))\n",
        "        # Get number of bbox pairs wth mismatched labels / IoU below threshold\n",
        "        FN = len(gt_classes) - matched_gt\n",
        "        # Get number of gt samples with no bounding box\n",
        "        TN = 0\n",
        "        # Store results in dict, return dict in list\n",
        "        return [{'TP': TP, 'TN': TN, 'FP': FP, 'FN': FN}]\n",
        "\n",
        "    def precision_recall(self, ious: List[float], gt_classes: List[int],\n",
        "                         pred_classes: List[int], iou_threshold:float=0.5) -> (float, float):\n",
        "        \"\"\"Calculates the precision and recall metrics.\n",
        "        \n",
        "        Dataset contains pairwse IoU scores for the bounding box prediction problem.\n",
        "        Columns are the predicted class labels, rows are the ground truth class labels.\n",
        "        \n",
        "        :param ious: NxM list of pairwise IoU scores\n",
        "        :param gt_classes: 1xN list of ground truth class labels\n",
        "        :param pred_classes: 1xM list of predicted class labels\n",
        "        :param iou_threshold: float threshold, predictions 'valid' above this value.\n",
        "        :returns: (precision, recall), the two classification metric values.\n",
        "        \"\"\"\n",
        "\n",
        "        # Compute metrics\n",
        "        cls_metrics = self._compute_metrics(ious, gt_classes, pred_classes, iou_threshold)\n",
        "        # Store total metrics\n",
        "        TN_total, TP_total = 0, 0\n",
        "        FN_total, FP_total = 0, 0\n",
        "        for c in cls_metrics:\n",
        "            TN_total += c['TN']\n",
        "            TP_total += c['TP']\n",
        "            FN_total += c['FN']\n",
        "            FP_total += c['FP']\n",
        "        # Print total metrics\n",
        "        print(\"TP:\", TP_total, \"TN:\", TN_total, \"\\nFP:\", FP_total, \"FN:\", FN_total)\n",
        "        # Compute combined metrics\n",
        "        precision = TP_total / float(TP_total + FP_total)\n",
        "        recall = TP_total / float(TP_total + FN_total)\n",
        "        return precision, recall"
      ],
      "metadata": {
        "id": "rNAaG3ygTjK8"
      },
      "execution_count": 21,
      "outputs": []
    },
    {
      "cell_type": "code",
      "source": [
        "df = pd.DataFrame(data=ious, index=gt_classes, columns=pred_classes)\n",
        "df"
      ],
      "metadata": {
        "colab": {
          "base_uri": "https://localhost:8080/",
          "height": 300
        },
        "id": "ulc3MJaJTmr7",
        "outputId": "497a192d-b5ed-4d77-e303-a24d521d32d2"
      },
      "execution_count": 22,
      "outputs": [
        {
          "output_type": "execute_result",
          "data": {
            "text/plain": [
              "          1         2         1         2         1\n",
              "1  0.843131  0.000000  0.000000  0.000000  0.238610\n",
              "1  0.000000  0.084698  0.424336  0.000000  0.000000\n",
              "1  0.000000  0.000000  0.000000  0.732218  0.000000\n",
              "1  0.000000  0.412779  0.834505  0.000000  0.000000\n",
              "2  0.000000  0.687588  0.438105  0.000000  0.000000\n",
              "1  0.122219  0.000000  0.000000  0.000000  0.663594\n",
              "1  0.028888  0.000000  0.000000  0.000000  0.000000\n",
              "1  0.000000  0.000000  0.024999  0.000000  0.000000"
            ],
            "text/html": [
              "\n",
              "  <div id=\"df-42905a9b-b508-4bd4-a3b4-840210336788\">\n",
              "    <div class=\"colab-df-container\">\n",
              "      <div>\n",
              "<style scoped>\n",
              "    .dataframe tbody tr th:only-of-type {\n",
              "        vertical-align: middle;\n",
              "    }\n",
              "\n",
              "    .dataframe tbody tr th {\n",
              "        vertical-align: top;\n",
              "    }\n",
              "\n",
              "    .dataframe thead th {\n",
              "        text-align: right;\n",
              "    }\n",
              "</style>\n",
              "<table border=\"1\" class=\"dataframe\">\n",
              "  <thead>\n",
              "    <tr style=\"text-align: right;\">\n",
              "      <th></th>\n",
              "      <th>1</th>\n",
              "      <th>2</th>\n",
              "      <th>1</th>\n",
              "      <th>2</th>\n",
              "      <th>1</th>\n",
              "    </tr>\n",
              "  </thead>\n",
              "  <tbody>\n",
              "    <tr>\n",
              "      <th>1</th>\n",
              "      <td>0.843131</td>\n",
              "      <td>0.000000</td>\n",
              "      <td>0.000000</td>\n",
              "      <td>0.000000</td>\n",
              "      <td>0.238610</td>\n",
              "    </tr>\n",
              "    <tr>\n",
              "      <th>1</th>\n",
              "      <td>0.000000</td>\n",
              "      <td>0.084698</td>\n",
              "      <td>0.424336</td>\n",
              "      <td>0.000000</td>\n",
              "      <td>0.000000</td>\n",
              "    </tr>\n",
              "    <tr>\n",
              "      <th>1</th>\n",
              "      <td>0.000000</td>\n",
              "      <td>0.000000</td>\n",
              "      <td>0.000000</td>\n",
              "      <td>0.732218</td>\n",
              "      <td>0.000000</td>\n",
              "    </tr>\n",
              "    <tr>\n",
              "      <th>1</th>\n",
              "      <td>0.000000</td>\n",
              "      <td>0.412779</td>\n",
              "      <td>0.834505</td>\n",
              "      <td>0.000000</td>\n",
              "      <td>0.000000</td>\n",
              "    </tr>\n",
              "    <tr>\n",
              "      <th>2</th>\n",
              "      <td>0.000000</td>\n",
              "      <td>0.687588</td>\n",
              "      <td>0.438105</td>\n",
              "      <td>0.000000</td>\n",
              "      <td>0.000000</td>\n",
              "    </tr>\n",
              "    <tr>\n",
              "      <th>1</th>\n",
              "      <td>0.122219</td>\n",
              "      <td>0.000000</td>\n",
              "      <td>0.000000</td>\n",
              "      <td>0.000000</td>\n",
              "      <td>0.663594</td>\n",
              "    </tr>\n",
              "    <tr>\n",
              "      <th>1</th>\n",
              "      <td>0.028888</td>\n",
              "      <td>0.000000</td>\n",
              "      <td>0.000000</td>\n",
              "      <td>0.000000</td>\n",
              "      <td>0.000000</td>\n",
              "    </tr>\n",
              "    <tr>\n",
              "      <th>1</th>\n",
              "      <td>0.000000</td>\n",
              "      <td>0.000000</td>\n",
              "      <td>0.024999</td>\n",
              "      <td>0.000000</td>\n",
              "      <td>0.000000</td>\n",
              "    </tr>\n",
              "  </tbody>\n",
              "</table>\n",
              "</div>\n",
              "      <button class=\"colab-df-convert\" onclick=\"convertToInteractive('df-42905a9b-b508-4bd4-a3b4-840210336788')\"\n",
              "              title=\"Convert this dataframe to an interactive table.\"\n",
              "              style=\"display:none;\">\n",
              "        \n",
              "  <svg xmlns=\"http://www.w3.org/2000/svg\" height=\"24px\"viewBox=\"0 0 24 24\"\n",
              "       width=\"24px\">\n",
              "    <path d=\"M0 0h24v24H0V0z\" fill=\"none\"/>\n",
              "    <path d=\"M18.56 5.44l.94 2.06.94-2.06 2.06-.94-2.06-.94-.94-2.06-.94 2.06-2.06.94zm-11 1L8.5 8.5l.94-2.06 2.06-.94-2.06-.94L8.5 2.5l-.94 2.06-2.06.94zm10 10l.94 2.06.94-2.06 2.06-.94-2.06-.94-.94-2.06-.94 2.06-2.06.94z\"/><path d=\"M17.41 7.96l-1.37-1.37c-.4-.4-.92-.59-1.43-.59-.52 0-1.04.2-1.43.59L10.3 9.45l-7.72 7.72c-.78.78-.78 2.05 0 2.83L4 21.41c.39.39.9.59 1.41.59.51 0 1.02-.2 1.41-.59l7.78-7.78 2.81-2.81c.8-.78.8-2.07 0-2.86zM5.41 20L4 18.59l7.72-7.72 1.47 1.35L5.41 20z\"/>\n",
              "  </svg>\n",
              "      </button>\n",
              "      \n",
              "  <style>\n",
              "    .colab-df-container {\n",
              "      display:flex;\n",
              "      flex-wrap:wrap;\n",
              "      gap: 12px;\n",
              "    }\n",
              "\n",
              "    .colab-df-convert {\n",
              "      background-color: #E8F0FE;\n",
              "      border: none;\n",
              "      border-radius: 50%;\n",
              "      cursor: pointer;\n",
              "      display: none;\n",
              "      fill: #1967D2;\n",
              "      height: 32px;\n",
              "      padding: 0 0 0 0;\n",
              "      width: 32px;\n",
              "    }\n",
              "\n",
              "    .colab-df-convert:hover {\n",
              "      background-color: #E2EBFA;\n",
              "      box-shadow: 0px 1px 2px rgba(60, 64, 67, 0.3), 0px 1px 3px 1px rgba(60, 64, 67, 0.15);\n",
              "      fill: #174EA6;\n",
              "    }\n",
              "\n",
              "    [theme=dark] .colab-df-convert {\n",
              "      background-color: #3B4455;\n",
              "      fill: #D2E3FC;\n",
              "    }\n",
              "\n",
              "    [theme=dark] .colab-df-convert:hover {\n",
              "      background-color: #434B5C;\n",
              "      box-shadow: 0px 1px 3px 1px rgba(0, 0, 0, 0.15);\n",
              "      filter: drop-shadow(0px 1px 2px rgba(0, 0, 0, 0.3));\n",
              "      fill: #FFFFFF;\n",
              "    }\n",
              "  </style>\n",
              "\n",
              "      <script>\n",
              "        const buttonEl =\n",
              "          document.querySelector('#df-42905a9b-b508-4bd4-a3b4-840210336788 button.colab-df-convert');\n",
              "        buttonEl.style.display =\n",
              "          google.colab.kernel.accessAllowed ? 'block' : 'none';\n",
              "\n",
              "        async function convertToInteractive(key) {\n",
              "          const element = document.querySelector('#df-42905a9b-b508-4bd4-a3b4-840210336788');\n",
              "          const dataTable =\n",
              "            await google.colab.kernel.invokeFunction('convertToInteractive',\n",
              "                                                     [key], {});\n",
              "          if (!dataTable) return;\n",
              "\n",
              "          const docLinkHtml = 'Like what you see? Visit the ' +\n",
              "            '<a target=\"_blank\" href=https://colab.research.google.com/notebooks/data_table.ipynb>data table notebook</a>'\n",
              "            + ' to learn more about interactive tables.';\n",
              "          element.innerHTML = '';\n",
              "          dataTable['output_type'] = 'display_data';\n",
              "          await google.colab.output.renderOutput(dataTable, element);\n",
              "          const docLink = document.createElement('div');\n",
              "          docLink.innerHTML = docLinkHtml;\n",
              "          element.appendChild(docLink);\n",
              "        }\n",
              "      </script>\n",
              "    </div>\n",
              "  </div>\n",
              "  "
            ]
          },
          "metadata": {},
          "execution_count": 22
        }
      ]
    },
    {
      "cell_type": "code",
      "source": [
        "### Testing my Precision/Recall algorithm\n",
        "precision, recall = PrecisionRecall().precision_recall(ious, gt_classes, pred_classes)"
      ],
      "metadata": {
        "colab": {
          "base_uri": "https://localhost:8080/"
        },
        "id": "gJWYz9SOTodN",
        "outputId": "2234dc26-0ea3-4341-c798-c13bc837ae70"
      },
      "execution_count": 23,
      "outputs": [
        {
          "output_type": "stream",
          "name": "stdout",
          "text": [
            "TP: 4 TN: 0 \n",
            "FP: 1 FN: 3\n"
          ]
        }
      ]
    },
    {
      "cell_type": "code",
      "source": [
        "print(\"Precision:\", precision, \"\\nRecall:\", recall)"
      ],
      "metadata": {
        "colab": {
          "base_uri": "https://localhost:8080/"
        },
        "id": "DSUI1OI0TrOV",
        "outputId": "c9eb6f49-042f-43d9-f11a-da36d2b4b7d1"
      },
      "execution_count": 24,
      "outputs": [
        {
          "output_type": "stream",
          "name": "stdout",
          "text": [
            "Precision: 0.8 \n",
            "Recall: 0.5714285714285714\n"
          ]
        }
      ]
    },
    {
      "cell_type": "code",
      "source": [
        "### Testing the Udacity Precision/Recall solution\n",
        "precision_sol, recall_sol = PrecisionRecallSolution().precision_recall(ious_sol, gt_classes, pred_classes)"
      ],
      "metadata": {
        "colab": {
          "base_uri": "https://localhost:8080/"
        },
        "id": "ZMCsMb6nTtK9",
        "outputId": "7d3a38ca-11d0-4cdb-fa84-a56f87ac455e"
      },
      "execution_count": 25,
      "outputs": [
        {
          "output_type": "stream",
          "name": "stdout",
          "text": [
            "TP: 4 TN: 0 \n",
            "FP: 1 FN: 3\n"
          ]
        }
      ]
    },
    {
      "cell_type": "code",
      "source": [
        "print(\"Precision:\", precision_sol, \"\\nRecall:\", recall_sol)"
      ],
      "metadata": {
        "colab": {
          "base_uri": "https://localhost:8080/"
        },
        "id": "rYnL5cEPTu4V",
        "outputId": "901d7f5a-1769-4bec-8c8b-8d88d0f3659d"
      },
      "execution_count": 26,
      "outputs": [
        {
          "output_type": "stream",
          "name": "stdout",
          "text": [
            "Precision: 0.8 \n",
            "Recall: 0.5714285714285714\n"
          ]
        }
      ]
    },
    {
      "cell_type": "code",
      "source": [],
      "metadata": {
        "id": "GY5GEWaiTxgc"
      },
      "execution_count": null,
      "outputs": []
    }
  ]
}