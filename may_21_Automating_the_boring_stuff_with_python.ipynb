{
  "nbformat": 4,
  "nbformat_minor": 0,
  "metadata": {
    "colab": {
      "name": "may_21_Automating the boring stuff with python.ipynb",
      "provenance": [],
      "authorship_tag": "ABX9TyNUAOo3tGK8Zey7Zad+d/ia",
      "include_colab_link": true
    },
    "kernelspec": {
      "name": "python3",
      "display_name": "Python 3"
    },
    "language_info": {
      "name": "python"
    }
  },
  "cells": [
    {
      "cell_type": "markdown",
      "metadata": {
        "id": "view-in-github",
        "colab_type": "text"
      },
      "source": [
        "<a href=\"https://colab.research.google.com/github/TIMEdilation584/JP_Loksatta_moving_hearts/blob/master/may_21_Automating_the_boring_stuff_with_python.ipynb\" target=\"_parent\"><img src=\"https://colab.research.google.com/assets/colab-badge.svg\" alt=\"Open In Colab\"/></a>"
      ]
    },
    {
      "cell_type": "code",
      "metadata": {
        "colab": {
          "base_uri": "https://localhost:8080/"
        },
        "id": "ZD23_H3iDD1V",
        "outputId": "e34ccf8f-b365-4a51-fc32-d9e8f43d6d08"
      },
      "source": [
        "print('Hello, world!')\n",
        "print('what is your name?')\n",
        "myName = input()\n",
        "print('It is good to meet you,'+ myName)\n",
        "print('The length of your name is:')\n",
        "print(len(myName))\n",
        "print('What is your age ?')\n",
        "myAge = input()\n",
        "print('You will be' +str(int(myAge)+1)+ 'in a year.')"
      ],
      "execution_count": 2,
      "outputs": [
        {
          "output_type": "stream",
          "text": [
            "Hello, world!\n",
            "what is your name?\n",
            "sai prabanjan\n",
            "It is good to meet you,sai prabanjan\n",
            "The length of your name is:\n",
            "13\n",
            "What is your age ?\n",
            "29\n",
            "You will be30in a year.\n"
          ],
          "name": "stdout"
        }
      ]
    },
    {
      "cell_type": "code",
      "metadata": {
        "colab": {
          "base_uri": "https://localhost:8080/"
        },
        "id": "DOajMjy5DHA1",
        "outputId": "27f9ebd2-c628-42aa-c71f-8967c88dd086"
      },
      "source": [
        "42 == 42"
      ],
      "execution_count": 3,
      "outputs": [
        {
          "output_type": "execute_result",
          "data": {
            "text/plain": [
              "True"
            ]
          },
          "metadata": {
            "tags": []
          },
          "execution_count": 3
        }
      ]
    },
    {
      "cell_type": "code",
      "metadata": {
        "colab": {
          "base_uri": "https://localhost:8080/"
        },
        "id": "48DxAWl2Enc_",
        "outputId": "17def8e2-6a51-4f5e-df45-8d7fa6d5f383"
      },
      "source": [
        "(1 == 2) or (2 == 2)"
      ],
      "execution_count": 4,
      "outputs": [
        {
          "output_type": "execute_result",
          "data": {
            "text/plain": [
              "True"
            ]
          },
          "metadata": {
            "tags": []
          },
          "execution_count": 4
        }
      ]
    },
    {
      "cell_type": "code",
      "metadata": {
        "colab": {
          "base_uri": "https://localhost:8080/"
        },
        "id": "he5Yc-otE4DO",
        "outputId": "11fa100d-378b-4aaf-dd12-2f8073916048"
      },
      "source": [
        "name = 'Mary'\n",
        "password = 'swordfish'\n",
        "if name == 'Mary':\n",
        "  print('Hello, Mary')\n",
        "  if password == 'swordfish':\n",
        "    print('Access granted')\n",
        "  else:\n",
        "    print('Wrong password.')"
      ],
      "execution_count": 5,
      "outputs": [
        {
          "output_type": "stream",
          "text": [
            "Hello, Mary\n",
            "Access granted\n"
          ],
          "name": "stdout"
        }
      ]
    },
    {
      "cell_type": "code",
      "metadata": {
        "colab": {
          "base_uri": "https://localhost:8080/"
        },
        "id": "8uc6vSX0FvoO",
        "outputId": "2b880d2b-9920-4590-d450-e0a33a017a64"
      },
      "source": [
        "spam = 0\n",
        "if spam < 5:\n",
        "  print('Hello, world.')\n",
        "  spam = spam + 1"
      ],
      "execution_count": 6,
      "outputs": [
        {
          "output_type": "stream",
          "text": [
            "Hello, world.\n"
          ],
          "name": "stdout"
        }
      ]
    },
    {
      "cell_type": "code",
      "metadata": {
        "colab": {
          "base_uri": "https://localhost:8080/"
        },
        "id": "50rUQEeKF66J",
        "outputId": "ca6efdde-a4a5-46d3-beec-377e6cafaab7"
      },
      "source": [
        "spam = 0\n",
        "while spam < 5:\n",
        "  print('Hello, world.')\n",
        "  spam = spam + 1"
      ],
      "execution_count": 7,
      "outputs": [
        {
          "output_type": "stream",
          "text": [
            "Hello, world.\n",
            "Hello, world.\n",
            "Hello, world.\n",
            "Hello, world.\n",
            "Hello, world.\n"
          ],
          "name": "stdout"
        }
      ]
    },
    {
      "cell_type": "code",
      "metadata": {
        "colab": {
          "base_uri": "https://localhost:8080/"
        },
        "id": "K5ojM2XMGA6x",
        "outputId": "245f732e-23c1-4aa0-8b26-a11378d3d3e3"
      },
      "source": [
        "name = ''\n",
        "while name != 'your name' :\n",
        "  print('Please type your name.')\n",
        "  name = input()\n",
        "print('Thank you!')"
      ],
      "execution_count": 9,
      "outputs": [
        {
          "output_type": "stream",
          "text": [
            "Please type your name.\n",
            "sai\n",
            "Please type your name.\n",
            "your name\n",
            "Thank you!\n"
          ],
          "name": "stdout"
        }
      ]
    },
    {
      "cell_type": "code",
      "metadata": {
        "colab": {
          "base_uri": "https://localhost:8080/"
        },
        "id": "wmlrTzNQGWcd",
        "outputId": "8867700e-f0bc-473c-9d53-c2be6db6ad59"
      },
      "source": [
        "while True:\n",
        "  print('Who are you ?')\n",
        "  name = input()\n",
        "  if name != 'Joe':\n",
        "    continue\n",
        "  print(\"Hello, Joe. What is the password? (It is a fish.)\")\n",
        "  password = input()\n",
        "  if password == 'swordfish':\n",
        "    break\n",
        "print('Access granted.')"
      ],
      "execution_count": 11,
      "outputs": [
        {
          "output_type": "stream",
          "text": [
            "Who are you ?\n",
            "joe\n",
            "Who are you ?\n",
            "Joe\n",
            "Hello, Joe. What is the password? (It is a fish.)\n",
            "swordfish\n",
            "Access granted.\n"
          ],
          "name": "stdout"
        }
      ]
    },
    {
      "cell_type": "code",
      "metadata": {
        "colab": {
          "base_uri": "https://localhost:8080/"
        },
        "id": "q3yE6o83HNX1",
        "outputId": "da1a8abd-eeb4-4bd7-87ba-6ea23a68e379"
      },
      "source": [
        "print('My name is')\n",
        "for i in range(5):\n",
        "  print('Jimmy Five Times(' + str(i) + ')')"
      ],
      "execution_count": 12,
      "outputs": [
        {
          "output_type": "stream",
          "text": [
            "My name is\n",
            "Jimmy Five Times(0)\n",
            "Jimmy Five Times(1)\n",
            "Jimmy Five Times(2)\n",
            "Jimmy Five Times(3)\n",
            "Jimmy Five Times(4)\n"
          ],
          "name": "stdout"
        }
      ]
    },
    {
      "cell_type": "code",
      "metadata": {
        "id": "abhz3dVaJbq_"
      },
      "source": [
        ""
      ],
      "execution_count": null,
      "outputs": []
    },
    {
      "cell_type": "markdown",
      "metadata": {
        "id": "k3s-oXpXJcV3"
      },
      "source": [
        "# **First Time challenging**"
      ]
    },
    {
      "cell_type": "code",
      "metadata": {
        "colab": {
          "base_uri": "https://localhost:8080/"
        },
        "id": "eK8qMB6hH_Tv",
        "outputId": "16f60efb-2bd4-47a0-a2f0-79d630d84eaf"
      },
      "source": [
        "total = 0\n",
        "for num in range(101):\n",
        "  total = total + num\n",
        "print(total).   # 50 * 101 = 5050 . Becuase there are 50 combinations of pairs that give 101 as the result."
      ],
      "execution_count": 14,
      "outputs": [
        {
          "output_type": "stream",
          "text": [
            "5050\n"
          ],
          "name": "stdout"
        }
      ]
    },
    {
      "cell_type": "code",
      "metadata": {
        "colab": {
          "base_uri": "https://localhost:8080/"
        },
        "id": "6AfHzFRzI_Ud",
        "outputId": "c70fd32d-674f-4e0e-bb5e-51d15494eb3e"
      },
      "source": [
        "for i in range(12, 16):\n",
        "  print(i) # range() function will consider the first argument but won't include the second argument"
      ],
      "execution_count": 15,
      "outputs": [
        {
          "output_type": "stream",
          "text": [
            "12\n",
            "13\n",
            "14\n",
            "15\n"
          ],
          "name": "stdout"
        }
      ]
    },
    {
      "cell_type": "code",
      "metadata": {
        "colab": {
          "base_uri": "https://localhost:8080/"
        },
        "id": "mQie-_yrKCrV",
        "outputId": "721cb172-503b-4322-92c0-03212686667d"
      },
      "source": [
        "for i in range(0, 10, 2):\n",
        "  print(i) #range() function with three arguments where the third argument will be the step argument."
      ],
      "execution_count": 16,
      "outputs": [
        {
          "output_type": "stream",
          "text": [
            "0\n",
            "2\n",
            "4\n",
            "6\n",
            "8\n"
          ],
          "name": "stdout"
        }
      ]
    },
    {
      "cell_type": "code",
      "metadata": {
        "colab": {
          "base_uri": "https://localhost:8080/"
        },
        "id": "iNxLmNT7KJNj",
        "outputId": "4ca6db95-1fbe-40f2-fe61-b0009b858eef"
      },
      "source": [
        "for i in range(5, -1, -1):\n",
        "  print(i) # with step argument being a negative value"
      ],
      "execution_count": 17,
      "outputs": [
        {
          "output_type": "stream",
          "text": [
            "5\n",
            "4\n",
            "3\n",
            "2\n",
            "1\n",
            "0\n"
          ],
          "name": "stdout"
        }
      ]
    },
    {
      "cell_type": "code",
      "metadata": {
        "id": "pud29R94LMss"
      },
      "source": [
        ""
      ],
      "execution_count": null,
      "outputs": []
    },
    {
      "cell_type": "markdown",
      "metadata": {
        "id": "ctuSzlEiNBHm"
      },
      "source": [
        "**Python has standard library . Standard library contains modules, each module has a set of functions , these functions are pre-defined and can be embedded into user programs.** \n",
        "# these predetermined functions can only be used after importing the respective modules. like math, random, etc :-"
      ]
    },
    {
      "cell_type": "code",
      "metadata": {
        "colab": {
          "base_uri": "https://localhost:8080/"
        },
        "id": "SwgacdnlOm9j",
        "outputId": "5a914f57-ef42-4bcf-cbb5-2c4d1d27b86a"
      },
      "source": [
        "import random\n",
        "for i in range(5):\n",
        "  print(random.randint(1,10))"
      ],
      "execution_count": 19,
      "outputs": [
        {
          "output_type": "stream",
          "text": [
            "6\n",
            "9\n",
            "7\n",
            "6\n",
            "3\n"
          ],
          "name": "stdout"
        }
      ]
    },
    {
      "cell_type": "code",
      "metadata": {
        "colab": {
          "base_uri": "https://localhost:8080/"
        },
        "id": "0nVU_c8-TW4v",
        "outputId": "d9bcb6c7-abc6-4cc2-c14e-98a3c5e19d9c"
      },
      "source": [
        "from random import *\n",
        "for i in range(5):\n",
        "  print(randint(1,10)). # By using * the need for prefix random or any such module name. But readability is more for the first approach itself."
      ],
      "execution_count": 20,
      "outputs": [
        {
          "output_type": "stream",
          "text": [
            "6\n",
            "2\n",
            "9\n",
            "6\n",
            "4\n"
          ],
          "name": "stdout"
        }
      ]
    },
    {
      "cell_type": "code",
      "metadata": {
        "colab": {
          "base_uri": "https://localhost:8080/"
        },
        "id": "B5jykUzDUCO9",
        "outputId": "812fcb76-136f-43df-c930-55ed28e444f7"
      },
      "source": [
        "import random\n",
        "secretNumber = random.randint(1,20)\n",
        "print('I am thinking of a number between a and 20.')\n",
        "\n",
        "\n",
        "#User gets 6 guesses at max\n",
        "\n",
        "for guessesTaken in range(1,7):\n",
        "  print('Take a guess.')\n",
        "  guess = int(input())\n",
        "\n",
        "  if guess < secretNumber:\n",
        "    print('Your guess is too low.')\n",
        "\n",
        "  elif guess > secretNumber:\n",
        "    print('Your guess is too high.')\n",
        "  \n",
        "  else:\n",
        "    break\n",
        "\n",
        "if guess == secretNumber:\n",
        "  print('Good job the predicted number is correct and guess took ' + str(guessesTaken)+ 'guesses!')\n",
        "else:\n",
        "  print('Nope. The number that is taken is' +str(secretNumber))"
      ],
      "execution_count": 23,
      "outputs": [
        {
          "output_type": "stream",
          "text": [
            "I am thinking of a number between a and 20.\n",
            "Take a guess.\n",
            "10\n",
            "Your guess is too high.\n",
            "Take a guess.\n",
            "5\n",
            "Your guess is too low.\n",
            "Take a guess.\n",
            "9\n",
            "Your guess is too high.\n",
            "Take a guess.\n",
            "7\n",
            "Good job the predicted number is correct and guess took 4guesses!\n"
          ],
          "name": "stdout"
        }
      ]
    },
    {
      "cell_type": "code",
      "metadata": {
        "id": "GxP_kCy7XIbU"
      },
      "source": [
        ""
      ],
      "execution_count": null,
      "outputs": []
    },
    {
      "cell_type": "markdown",
      "metadata": {
        "id": "N4dkkTNgeohM"
      },
      "source": [
        "#**Chapter 3 and Chapter 4**\n",
        "\n",
        "Chapter 3 - Functions has nothing new.\n",
        "\n",
        "Moving to Chapter 4 - Lists."
      ]
    },
    {
      "cell_type": "code",
      "metadata": {
        "id": "UPW2IOmjetGm"
      },
      "source": [
        ""
      ],
      "execution_count": null,
      "outputs": []
    },
    {
      "cell_type": "code",
      "metadata": {
        "id": "MRJuz3pWeyKl"
      },
      "source": [
        ""
      ],
      "execution_count": null,
      "outputs": []
    },
    {
      "cell_type": "markdown",
      "metadata": {
        "id": "yOUpLzjix3zB"
      },
      "source": [
        "list is similar to string. A '' - stands for an empty string and similarly [ ] - stands for an empty list. Just as the opening quote character is used for marking the string beginning, and ending quote character for ending a string, a list begins with an opening square bracket and ends with a closing square bracket."
      ]
    },
    {
      "cell_type": "markdown",
      "metadata": {
        "id": "okMnPIb7yUkS"
      },
      "source": [
        "the name for [ ] is list value. And the list value is like a pointer that points to other pointers, that means a list value contains many values present in it. A list value can be stored in a varible or passed to a function like any other value. Values inside the list are called as items , items are separated with commas (that is, comma-delimited)."
      ]
    },
    {
      "cell_type": "code",
      "metadata": {
        "id": "1kMaKOMzyTO1"
      },
      "source": [
        "# List containing other list values.\n",
        "# For accessing these lists multiple indices are used.\n",
        "spam = [['cat','bat'],[10,20,30,40,50]]\n",
        "\n",
        "#Two levels are indices are enough here to access the values in this list, the first index dictates the list value to use and the second indicates the \n",
        "#value WITHIN THE FIRST value. as in spam[0][1] prints 'bat', whereas for single index full list value will be returned. "
      ],
      "execution_count": 24,
      "outputs": []
    },
    {
      "cell_type": "code",
      "metadata": {
        "colab": {
          "base_uri": "https://localhost:8080/",
          "height": 37
        },
        "id": "jtK2fc9G9u2n",
        "outputId": "10bf59a0-d256-46bd-ecd6-7ae57fa79a68"
      },
      "source": [
        "spam[0][1]"
      ],
      "execution_count": 25,
      "outputs": [
        {
          "output_type": "execute_result",
          "data": {
            "application/vnd.google.colaboratory.intrinsic+json": {
              "type": "string"
            },
            "text/plain": [
              "'bat'"
            ]
          },
          "metadata": {
            "tags": []
          },
          "execution_count": 25
        }
      ]
    },
    {
      "cell_type": "code",
      "metadata": {
        "colab": {
          "base_uri": "https://localhost:8080/"
        },
        "id": "77LFRgWf9x2P",
        "outputId": "384bab82-094f-42aa-99e0-8c3042a195f4"
      },
      "source": [
        "spam[0]"
      ],
      "execution_count": 26,
      "outputs": [
        {
          "output_type": "execute_result",
          "data": {
            "text/plain": [
              "['cat', 'bat']"
            ]
          },
          "metadata": {
            "tags": []
          },
          "execution_count": 26
        }
      ]
    },
    {
      "cell_type": "code",
      "metadata": {
        "colab": {
          "base_uri": "https://localhost:8080/"
        },
        "id": "cbEFW7LT90Bu",
        "outputId": "8d0a2f39-cbc2-4505-df3b-a726c2162961"
      },
      "source": [
        "spam[-1]"
      ],
      "execution_count": 27,
      "outputs": [
        {
          "output_type": "execute_result",
          "data": {
            "text/plain": [
              "[10, 20, 30, 40, 50]"
            ]
          },
          "metadata": {
            "tags": []
          },
          "execution_count": 27
        }
      ]
    },
    {
      "cell_type": "code",
      "metadata": {
        "colab": {
          "base_uri": "https://localhost:8080/"
        },
        "id": "vF6DeSNL9-fb",
        "outputId": "40d50e83-4479-4c84-e511-bb1288e9e7d8"
      },
      "source": [
        "spam[1][-1]"
      ],
      "execution_count": 28,
      "outputs": [
        {
          "output_type": "execute_result",
          "data": {
            "text/plain": [
              "50"
            ]
          },
          "metadata": {
            "tags": []
          },
          "execution_count": 28
        }
      ]
    },
    {
      "cell_type": "code",
      "metadata": {
        "colab": {
          "base_uri": "https://localhost:8080/",
          "height": 37
        },
        "id": "8kNPys4K-Dmp",
        "outputId": "2cc26282-cf69-436e-fd45-74ff0e6dc6ab"
      },
      "source": [
        "spam[0][-1]"
      ],
      "execution_count": 29,
      "outputs": [
        {
          "output_type": "execute_result",
          "data": {
            "application/vnd.google.colaboratory.intrinsic+json": {
              "type": "string"
            },
            "text/plain": [
              "'bat'"
            ]
          },
          "metadata": {
            "tags": []
          },
          "execution_count": 29
        }
      ]
    },
    {
      "cell_type": "code",
      "metadata": {
        "id": "-xjukwAJ-GiZ"
      },
      "source": [
        ""
      ],
      "execution_count": null,
      "outputs": []
    },
    {
      "cell_type": "markdown",
      "metadata": {
        "id": "XE4HU7Lr-KpF"
      },
      "source": [
        "**NEW LISTS CAN be generated from the existing ones. And the technique is called as slices.**"
      ]
    },
    {
      "cell_type": "code",
      "metadata": {
        "id": "E28D7ZOV-QNe"
      },
      "source": [
        "spam = ['cat','bat','rat','elephant']"
      ],
      "execution_count": 30,
      "outputs": []
    },
    {
      "cell_type": "code",
      "metadata": {
        "colab": {
          "base_uri": "https://localhost:8080/"
        },
        "id": "D6cphrX7-3Vu",
        "outputId": "666e0858-95c3-49d2-cef4-e4908396cdc0"
      },
      "source": [
        "spam[0:4]"
      ],
      "execution_count": 31,
      "outputs": [
        {
          "output_type": "execute_result",
          "data": {
            "text/plain": [
              "['cat', 'bat', 'rat', 'elephant']"
            ]
          },
          "metadata": {
            "tags": []
          },
          "execution_count": 31
        }
      ]
    },
    {
      "cell_type": "code",
      "metadata": {
        "colab": {
          "base_uri": "https://localhost:8080/"
        },
        "id": "7Q3Pls7--5x1",
        "outputId": "5bd1fb29-aaae-4a6b-f4fc-bff20021e06d"
      },
      "source": [
        "spam[1:3]"
      ],
      "execution_count": 32,
      "outputs": [
        {
          "output_type": "execute_result",
          "data": {
            "text/plain": [
              "['bat', 'rat']"
            ]
          },
          "metadata": {
            "tags": []
          },
          "execution_count": 32
        }
      ]
    },
    {
      "cell_type": "code",
      "metadata": {
        "id": "MgDygwMJ--2c"
      },
      "source": [
        ""
      ],
      "execution_count": null,
      "outputs": []
    }
  ]
}